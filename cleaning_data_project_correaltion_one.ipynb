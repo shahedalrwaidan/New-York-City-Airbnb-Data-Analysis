{
  "nbformat": 4,
  "nbformat_minor": 0,
  "metadata": {
    "colab": {
      "provenance": []
    },
    "kernelspec": {
      "name": "python3",
      "display_name": "Python 3"
    },
    "language_info": {
      "name": "python"
    }
  },
  "cells": [
    {
      "cell_type": "code",
      "source": [],
      "metadata": {
        "id": "RySRIfpd9yYW"
      },
      "execution_count": null,
      "outputs": []
    },
    {
      "cell_type": "code",
      "execution_count": null,
      "metadata": {
        "colab": {
          "base_uri": "https://localhost:8080/"
        },
        "id": "W6W8grkO8UnT",
        "outputId": "12276039-0dd0-4797-b3a7-19adc5977630"
      },
      "outputs": [
        {
          "output_type": "stream",
          "name": "stderr",
          "text": [
            "<ipython-input-77-ad20fd717d7d>:7: DtypeWarning: Columns (25) have mixed types. Specify dtype option on import or set low_memory=False.\n",
            "  df = pd.read_csv('/content/sample_data/Airbnb_Open_Data.csv')\n"
          ]
        }
      ],
      "source": [
        "\n",
        "import pandas as pd\n",
        "import numpy as np\n",
        "import matplotlib.pyplot as plt\n",
        "import seaborn as sns\n",
        "\n",
        "# Replace 'your_file.csv' with the actual path to your CSV file\n",
        "df = pd.read_csv('/content/sample_data/Airbnb_Open_Data.csv')\n"
      ]
    },
    {
      "cell_type": "code",
      "source": [
        "# Select only numeric columns\n",
        "df_numeric = df.select_dtypes(include=['number'])\n",
        "\n",
        "# Handle missing values if necessary\n",
        "\n",
        "# Calculate the correlation matrix\n",
        "correlation_matrix = df_numeric.corr()\n",
        "\n",
        "# Print the correlation matrix for inspection\n",
        "print(correlation_matrix)\n",
        "\n",
        "# Visualize the correlation matrix using a heatmap\n",
        "plt.figure(figsize=(12, 10))\n",
        "sns.heatmap(correlation_matrix, annot=True, cmap='coolwarm', fmt=\".2f\")\n",
        "plt.title('Correlation Matrix Heatmap')\n",
        "plt.show()\n"
      ],
      "metadata": {
        "id": "wfhjBm_lDY30",
        "colab": {
          "base_uri": "https://localhost:8080/",
          "height": 1000
        },
        "outputId": "6b121663-73e0-483f-8c08-1103645fc156"
      },
      "execution_count": null,
      "outputs": [
        {
          "output_type": "stream",
          "name": "stdout",
          "text": [
            "                                      id   host id       lat      long  \\\n",
            "id                              1.000000 -0.000830 -0.008832  0.042546   \n",
            "host id                        -0.000830  1.000000  0.000661 -0.008999   \n",
            "lat                            -0.008832  0.000661  1.000000  0.074348   \n",
            "long                            0.042546 -0.008999  0.074348  1.000000   \n",
            "Construction year               0.001081  0.004871  0.005697  0.000861   \n",
            "minimum nights                  0.005668 -0.002266  0.014889 -0.039639   \n",
            "number of reviews              -0.041530 -0.004503 -0.025236  0.069169   \n",
            "reviews per month               0.038038 -0.001746 -0.019492  0.118598   \n",
            "review rate number              0.036633  0.003459 -0.003917  0.015283   \n",
            "calculated host listings count  0.024296  0.001722  0.032468 -0.104154   \n",
            "availability 365               -0.139226 -0.002044 -0.005011  0.058428   \n",
            "\n",
            "                                Construction year  minimum nights  \\\n",
            "id                                       0.001081        0.005668   \n",
            "host id                                  0.004871       -0.002266   \n",
            "lat                                      0.005697        0.014889   \n",
            "long                                     0.000861       -0.039639   \n",
            "Construction year                        1.000000       -0.000486   \n",
            "minimum nights                          -0.000486        1.000000   \n",
            "number of reviews                        0.001990       -0.049997   \n",
            "reviews per month                        0.004092       -0.096141   \n",
            "review rate number                       0.004753       -0.002167   \n",
            "calculated host listings count          -0.002745        0.084846   \n",
            "availability 365                        -0.008264        0.063541   \n",
            "\n",
            "                                number of reviews  reviews per month  \\\n",
            "id                                      -0.041530           0.038038   \n",
            "host id                                 -0.004503          -0.001746   \n",
            "lat                                     -0.025236          -0.019492   \n",
            "long                                     0.069169           0.118598   \n",
            "Construction year                        0.001990           0.004092   \n",
            "minimum nights                          -0.049997          -0.096141   \n",
            "number of reviews                        1.000000           0.590939   \n",
            "reviews per month                        0.590939           1.000000   \n",
            "review rate number                      -0.018412           0.037526   \n",
            "calculated host listings count          -0.080907          -0.025621   \n",
            "availability 365                         0.099368           0.077193   \n",
            "\n",
            "                                review rate number  \\\n",
            "id                                        0.036633   \n",
            "host id                                   0.003459   \n",
            "lat                                      -0.003917   \n",
            "long                                      0.015283   \n",
            "Construction year                         0.004753   \n",
            "minimum nights                           -0.002167   \n",
            "number of reviews                        -0.018412   \n",
            "reviews per month                         0.037526   \n",
            "review rate number                        1.000000   \n",
            "calculated host listings count            0.024273   \n",
            "availability 365                         -0.006217   \n",
            "\n",
            "                                calculated host listings count  \\\n",
            "id                                                    0.024296   \n",
            "host id                                               0.001722   \n",
            "lat                                                   0.032468   \n",
            "long                                                 -0.104154   \n",
            "Construction year                                    -0.002745   \n",
            "minimum nights                                        0.084846   \n",
            "number of reviews                                    -0.080907   \n",
            "reviews per month                                    -0.025621   \n",
            "review rate number                                    0.024273   \n",
            "calculated host listings count                        1.000000   \n",
            "availability 365                                      0.159194   \n",
            "\n",
            "                                availability 365  \n",
            "id                                     -0.139226  \n",
            "host id                                -0.002044  \n",
            "lat                                    -0.005011  \n",
            "long                                    0.058428  \n",
            "Construction year                      -0.008264  \n",
            "minimum nights                          0.063541  \n",
            "number of reviews                       0.099368  \n",
            "reviews per month                       0.077193  \n",
            "review rate number                     -0.006217  \n",
            "calculated host listings count          0.159194  \n",
            "availability 365                        1.000000  \n"
          ]
        },
        {
          "output_type": "display_data",
          "data": {
            "text/plain": [
              "<Figure size 1200x1000 with 2 Axes>"
            ],
            "image/png": "[encoded data removed]"
          },
          "metadata": {}
        }
      ]
    },
    {
      "cell_type": "code",
      "source": [
        "df.head(5)\n"
      ],
      "metadata": {
        "colab": {
          "base_uri": "https://localhost:8080/",
          "height": 585
        },
        "id": "gdUWws_D-FxN",
        "outputId": "9926c447-bfe2-4da2-d27a-ea8bbe16f315"
      },
      "execution_count": null,
      "outputs": [
        {
          "output_type": "execute_result",
          "data": {
            "text/plain": [
              "        id                                              NAME      host id  \\\n",
              "0  1001254                Clean & quiet apt home by the park  80014485718   \n",
              "1  1002102                             Skylit Midtown Castle  52335172823   \n",
              "2  1002403               THE VILLAGE OF HARLEM....NEW YORK !  78829239556   \n",
              "3  1002755                                               NaN  85098326012   \n",
              "4  1003689  Entire Apt: Spacious Studio/Loft by central park  92037596077   \n",
              "\n",
              "  host_identity_verified host name neighbourhood group neighbourhood  \\\n",
              "0            unconfirmed  Madaline            Brooklyn    Kensington   \n",
              "1               verified     Jenna           Manhattan       Midtown   \n",
              "2                    NaN     Elise           Manhattan        Harlem   \n",
              "3            unconfirmed     Garry            Brooklyn  Clinton Hill   \n",
              "4               verified    Lyndon           Manhattan   East Harlem   \n",
              "\n",
              "        lat      long        country  ... service fee minimum nights  \\\n",
              "0  40.64749 -73.97237  United States  ...       $193            10.0   \n",
              "1  40.75362 -73.98377  United States  ...        $28            30.0   \n",
              "2  40.80902 -73.94190  United States  ...       $124             3.0   \n",
              "3  40.68514 -73.95976  United States  ...        $74            30.0   \n",
              "4  40.79851 -73.94399  United States  ...        $41            10.0   \n",
              "\n",
              "  number of reviews last review  reviews per month review rate number  \\\n",
              "0               9.0  10/19/2021               0.21                4.0   \n",
              "1              45.0   5/21/2022               0.38                4.0   \n",
              "2               0.0         NaN                NaN                5.0   \n",
              "3             270.0    7/5/2019               4.64                4.0   \n",
              "4               9.0  11/19/2018               0.10                3.0   \n",
              "\n",
              "  calculated host listings count  availability 365  \\\n",
              "0                            6.0             286.0   \n",
              "1                            2.0             228.0   \n",
              "2                            1.0             352.0   \n",
              "3                            1.0             322.0   \n",
              "4                            1.0             289.0   \n",
              "\n",
              "                                         house_rules license  \n",
              "0  Clean up and treat the home the way you'd like...     NaN  \n",
              "1  Pet friendly but please confirm with me if the...     NaN  \n",
              "2  I encourage you to use my kitchen, cooking and...     NaN  \n",
              "3                                                NaN     NaN  \n",
              "4  Please no smoking in the house, porch or on th...     NaN  \n",
              "\n",
              "[5 rows x 26 columns]"
            ],
            "text/html": [
              "\n",
              "  <div id=\"df-98cac60f-be0d-43a8-a345-88679618fcaa\" class=\"colab-df-container\">\n",
              "    <div>\n",
              "<style scoped>\n",
              "    .dataframe tbody tr th:only-of-type {\n",
              "        vertical-align: middle;\n",
              "    }\n",
              "\n",
              "    .dataframe tbody tr th {\n",
              "        vertical-align: top;\n",
              "    }\n",
              "\n",
              "    .dataframe thead th {\n",
              "        text-align: right;\n",
              "    }\n",
              "</style>\n",
              "<table border=\"1\" class=\"dataframe\">\n",
              "  <thead>\n",
              "    <tr style=\"text-align: right;\">\n",
              "      <th></th>\n",
              "      <th>id</th>\n",
              "      <th>NAME</th>\n",
              "      <th>host id</th>\n",
              "      <th>host_identity_verified</th>\n",
              "      <th>host name</th>\n",
              "      <th>neighbourhood group</th>\n",
              "      <th>neighbourhood</th>\n",
              "      <th>lat</th>\n",
              "      <th>long</th>\n",
              "      <th>country</th>\n",
              "      <th>...</th>\n",
              "      <th>service fee</th>\n",
              "      <th>minimum nights</th>\n",
              "      <th>number of reviews</th>\n",
              "      <th>last review</th>\n",
              "      <th>reviews per month</th>\n",
              "      <th>review rate number</th>\n",
              "      <th>calculated host listings count</th>\n",
              "      <th>availability 365</th>\n",
              "      <th>house_rules</th>\n",
              "      <th>license</th>\n",
              "    </tr>\n",
              "  </thead>\n",
              "  <tbody>\n",
              "    <tr>\n",
              "      <th>0</th>\n",
              "      <td>1001254</td>\n",
              "      <td>Clean &amp; quiet apt home by the park</td>\n",
              "      <td>80014485718</td>\n",
              "      <td>unconfirmed</td>\n",
              "      <td>Madaline</td>\n",
              "      <td>Brooklyn</td>\n",
              "      <td>Kensington</td>\n",
              "      <td>40.64749</td>\n",
              "      <td>-73.97237</td>\n",
              "      <td>United States</td>\n",
              "      <td>...</td>\n",
              "      <td>$193</td>\n",
              "      <td>10.0</td>\n",
              "      <td>9.0</td>\n",
              "      <td>10/19/2021</td>\n",
              "      <td>0.21</td>\n",
              "      <td>4.0</td>\n",
              "      <td>6.0</td>\n",
              "      <td>286.0</td>\n",
              "      <td>Clean up and treat the home the way you'd like...</td>\n",
              "      <td>NaN</td>\n",
              "    </tr>\n",
              "    <tr>\n",
              "      <th>1</th>\n",
              "      <td>1002102</td>\n",
              "      <td>Skylit Midtown Castle</td>\n",
              "      <td>52335172823</td>\n",
              "      <td>verified</td>\n",
              "      <td>Jenna</td>\n",
              "      <td>Manhattan</td>\n",
              "      <td>Midtown</td>\n",
              "      <td>40.75362</td>\n",
              "      <td>-73.98377</td>\n",
              "      <td>United States</td>\n",
              "      <td>...</td>\n",
              "      <td>$28</td>\n",
              "      <td>30.0</td>\n",
              "      <td>45.0</td>\n",
              "      <td>5/21/2022</td>\n",
              "      <td>0.38</td>\n",
              "      <td>4.0</td>\n",
              "      <td>2.0</td>\n",
              "      <td>228.0</td>\n",
              "      <td>Pet friendly but please confirm with me if the...</td>\n",
              "      <td>NaN</td>\n",
              "    </tr>\n",
              "    <tr>\n",
              "      <th>2</th>\n",
              "      <td>1002403</td>\n",
              "      <td>THE VILLAGE OF HARLEM....NEW YORK !</td>\n",
              "      <td>78829239556</td>\n",
              "      <td>NaN</td>\n",
              "      <td>Elise</td>\n",
              "      <td>Manhattan</td>\n",
              "      <td>Harlem</td>\n",
              "      <td>40.80902</td>\n",
              "      <td>-73.94190</td>\n",
              "      <td>United States</td>\n",
              "      <td>...</td>\n",
              "      <td>$124</td>\n",
              "      <td>3.0</td>\n",
              "      <td>0.0</td>\n",
              "      <td>NaN</td>\n",
              "      <td>NaN</td>\n",
              "      <td>5.0</td>\n",
              "      <td>1.0</td>\n",
              "      <td>352.0</td>\n",
              "      <td>I encourage you to use my kitchen, cooking and...</td>\n",
              "      <td>NaN</td>\n",
              "    </tr>\n",
              "    <tr>\n",
              "      <th>3</th>\n",
              "      <td>1002755</td>\n",
              "      <td>NaN</td>\n",
              "      <td>85098326012</td>\n",
              "      <td>unconfirmed</td>\n",
              "      <td>Garry</td>\n",
              "      <td>Brooklyn</td>\n",
              "      <td>Clinton Hill</td>\n",
              "      <td>40.68514</td>\n",
              "      <td>-73.95976</td>\n",
              "      <td>United States</td>\n",
              "      <td>...</td>\n",
              "      <td>$74</td>\n",
              "      <td>30.0</td>\n",
              "      <td>270.0</td>\n",
              "      <td>7/5/2019</td>\n",
              "      <td>4.64</td>\n",
              "      <td>4.0</td>\n",
              "      <td>1.0</td>\n",
              "      <td>322.0</td>\n",
              "      <td>NaN</td>\n",
              "      <td>NaN</td>\n",
              "    </tr>\n",
              "    <tr>\n",
              "      <th>4</th>\n",
              "      <td>1003689</td>\n",
              "      <td>Entire Apt: Spacious Studio/Loft by central park</td>\n",
              "      <td>92037596077</td>\n",
              "      <td>verified</td>\n",
              "      <td>Lyndon</td>\n",
              "      <td>Manhattan</td>\n",
              "      <td>East Harlem</td>\n",
              "      <td>40.79851</td>\n",
              "      <td>-73.94399</td>\n",
              "      <td>United States</td>\n",
              "      <td>...</td>\n",
              "      <td>$41</td>\n",
              "      <td>10.0</td>\n",
              "      <td>9.0</td>\n",
              "      <td>11/19/2018</td>\n",
              "      <td>0.10</td>\n",
              "      <td>3.0</td>\n",
              "      <td>1.0</td>\n",
              "      <td>289.0</td>\n",
              "      <td>Please no smoking in the house, porch or on th...</td>\n",
              "      <td>NaN</td>\n",
              "    </tr>\n",
              "  </tbody>\n",
              "</table>\n",
              "<p>5 rows × 26 columns</p>\n",
              "</div>\n",
              "    <div class=\"colab-df-buttons\">\n",
              "\n",
              "  <div class=\"colab-df-container\">\n",
              "    <button class=\"colab-df-convert\" onclick=\"convertToInteractive('df-98cac60f-be0d-43a8-a345-88679618fcaa')\"\n",
              "            title=\"Convert this dataframe to an interactive table.\"\n",
              "            style=\"display:none;\">\n",
              "\n",
              "  <svg xmlns=\"http://www.w3.org/2000/svg\" height=\"24px\" viewBox=\"0 -960 960 960\">\n",
              "    <path d=\"M120-120v-720h720v720H120Zm60-500h600v-160H180v160Zm220 220h160v-160H400v160Zm0 220h160v-160H400v160ZM180-400h160v-160H180v160Zm440 0h160v-160H620v160ZM180-180h160v-160H180v160Zm440 0h160v-160H620v160Z\"/>\n",
              "  </svg>\n",
              "    </button>\n",
              "\n",
              "  <style>\n",
              "    .colab-df-container {\n",
              "      display:flex;\n",
              "      gap: 12px;\n",
              "    }\n",
              "\n",
              "    .colab-df-convert {\n",
              "      background-color: #E8F0FE;\n",
              "      border: none;\n",
              "      border-radius: 50%;\n",
              "      cursor: pointer;\n",
              "      display: none;\n",
              "      fill: #1967D2;\n",
              "      height: 32px;\n",
              "      padding: 0 0 0 0;\n",
              "      width: 32px;\n",
              "    }\n",
              "\n",
              "    .colab-df-convert:hover {\n",
              "      background-color: #E2EBFA;\n",
              "      box-shadow: 0px 1px 2px rgba(60, 64, 67, 0.3), 0px 1px 3px 1px rgba(60, 64, 67, 0.15);\n",
              "      fill: #174EA6;\n",
              "    }\n",
              "\n",
              "    .colab-df-buttons div {\n",
              "      margin-bottom: 4px;\n",
              "    }\n",
              "\n",
              "    [theme=dark] .colab-df-convert {\n",
              "      background-color: #3B4455;\n",
              "      fill: #D2E3FC;\n",
              "    }\n",
              "\n",
              "    [theme=dark] .colab-df-convert:hover {\n",
              "      background-color: #434B5C;\n",
              "      box-shadow: 0px 1px 3px 1px rgba(0, 0, 0, 0.15);\n",
              "      filter: drop-shadow(0px 1px 2px rgba(0, 0, 0, 0.3));\n",
              "      fill: #FFFFFF;\n",
              "    }\n",
              "  </style>\n",
              "\n",
              "    <script>\n",
              "      const buttonEl =\n",
              "        document.querySelector('#df-98cac60f-be0d-43a8-a345-88679618fcaa button.colab-df-convert');\n",
              "      buttonEl.style.display =\n",
              "        google.colab.kernel.accessAllowed ? 'block' : 'none';\n",
              "\n",
              "      async function convertToInteractive(key) {\n",
              "        const element = document.querySelector('#df-98cac60f-be0d-43a8-a345-88679618fcaa');\n",
              "        const dataTable =\n",
              "          await google.colab.kernel.invokeFunction('convertToInteractive',\n",
              "                                                    [key], {});\n",
              "        if (!dataTable) return;\n",
              "\n",
              "        const docLinkHtml = 'Like what you see? Visit the ' +\n",
              "          '<a target=\"_blank\" href=https://colab.research.google.com/notebooks/data_table.ipynb>data table notebook</a>'\n",
              "          + ' to learn more about interactive tables.';\n",
              "        element.innerHTML = '';\n",
              "        dataTable['output_type'] = 'display_data';\n",
              "        await google.colab.output.renderOutput(dataTable, element);\n",
              "        const docLink = document.createElement('div');\n",
              "        docLink.innerHTML = docLinkHtml;\n",
              "        element.appendChild(docLink);\n",
              "      }\n",
              "    </script>\n",
              "  </div>\n",
              "\n",
              "\n",
              "<div id=\"df-e12a1c74-61a9-494a-9e96-4518f39e15e8\">\n",
              "  <button class=\"colab-df-quickchart\" onclick=\"quickchart('df-e12a1c74-61a9-494a-9e96-4518f39e15e8')\"\n",
              "            title=\"Suggest charts\"\n",
              "            style=\"display:none;\">\n",
              "\n",
              "<svg xmlns=\"http://www.w3.org/2000/svg\" height=\"24px\"viewBox=\"0 0 24 24\"\n",
              "     width=\"24px\">\n",
              "    <g>\n",
              "        <path d=\"M19 3H5c-1.1 0-2 .9-2 2v14c0 1.1.9 2 2 2h14c1.1 0 2-.9 2-2V5c0-1.1-.9-2-2-2zM9 17H7v-7h2v7zm4 0h-2V7h2v10zm4 0h-2v-4h2v4z\"/>\n",
              "    </g>\n",
              "</svg>\n",
              "  </button>\n",
              "\n",
              "<style>\n",
              "  .colab-df-quickchart {\n",
              "      --bg-color: #E8F0FE;\n",
              "      --fill-color: #1967D2;\n",
              "      --hover-bg-color: #E2EBFA;\n",
              "      --hover-fill-color: #174EA6;\n",
              "      --disabled-fill-color: #AAA;\n",
              "      --disabled-bg-color: #DDD;\n",
              "  }\n",
              "\n",
              "  [theme=dark] .colab-df-quickchart {\n",
              "      --bg-color: #3B4455;\n",
              "      --fill-color: #D2E3FC;\n",
              "      --hover-bg-color: #434B5C;\n",
              "      --hover-fill-color: #FFFFFF;\n",
              "      --disabled-bg-color: #3B4455;\n",
              "      --disabled-fill-color: #666;\n",
              "  }\n",
              "\n",
              "  .colab-df-quickchart {\n",
              "    background-color: var(--bg-color);\n",
              "    border: none;\n",
              "    border-radius: 50%;\n",
              "    cursor: pointer;\n",
              "    display: none;\n",
              "    fill: var(--fill-color);\n",
              "    height: 32px;\n",
              "    padding: 0;\n",
              "    width: 32px;\n",
              "  }\n",
              "\n",
              "  .colab-df-quickchart:hover {\n",
              "    background-color: var(--hover-bg-color);\n",
              "    box-shadow: 0 1px 2px rgba(60, 64, 67, 0.3), 0 1px 3px 1px rgba(60, 64, 67, 0.15);\n",
              "    fill: var(--button-hover-fill-color);\n",
              "  }\n",
              "\n",
              "  .colab-df-quickchart-complete:disabled,\n",
              "  .colab-df-quickchart-complete:disabled:hover {\n",
              "    background-color: var(--disabled-bg-color);\n",
              "    fill: var(--disabled-fill-color);\n",
              "    box-shadow: none;\n",
              "  }\n",
              "\n",
              "  .colab-df-spinner {\n",
              "    border: 2px solid var(--fill-color);\n",
              "    border-color: transparent;\n",
              "    border-bottom-color: var(--fill-color);\n",
              "    animation:\n",
              "      spin 1s steps(1) infinite;\n",
              "  }\n",
              "\n",
              "  @keyframes spin {\n",
              "    0% {\n",
              "      border-color: transparent;\n",
              "      border-bottom-color: var(--fill-color);\n",
              "      border-left-color: var(--fill-color);\n",
              "    }\n",
              "    20% {\n",
              "      border-color: transparent;\n",
              "      border-left-color: var(--fill-color);\n",
              "      border-top-color: var(--fill-color);\n",
              "    }\n",
              "    30% {\n",
              "      border-color: transparent;\n",
              "      border-left-color: var(--fill-color);\n",
              "      border-top-color: var(--fill-color);\n",
              "      border-right-color: var(--fill-color);\n",
              "    }\n",
              "    40% {\n",
              "      border-color: transparent;\n",
              "      border-right-color: var(--fill-color);\n",
              "      border-top-color: var(--fill-color);\n",
              "    }\n",
              "    60% {\n",
              "      border-color: transparent;\n",
              "      border-right-color: var(--fill-color);\n",
              "    }\n",
              "    80% {\n",
              "      border-color: transparent;\n",
              "      border-right-color: var(--fill-color);\n",
              "      border-bottom-color: var(--fill-color);\n",
              "    }\n",
              "    90% {\n",
              "      border-color: transparent;\n",
              "      border-bottom-color: var(--fill-color);\n",
              "    }\n",
              "  }\n",
              "</style>\n",
              "\n",
              "  <script>\n",
              "    async function quickchart(key) {\n",
              "      const quickchartButtonEl =\n",
              "        document.querySelector('#' + key + ' button');\n",
              "      quickchartButtonEl.disabled = true;  // To prevent multiple clicks.\n",
              "      quickchartButtonEl.classList.add('colab-df-spinner');\n",
              "      try {\n",
              "        const charts = await google.colab.kernel.invokeFunction(\n",
              "            'suggestCharts', [key], {});\n",
              "      } catch (error) {\n",
              "        console.error('Error during call to suggestCharts:', error);\n",
              "      }\n",
              "      quickchartButtonEl.classList.remove('colab-df-spinner');\n",
              "      quickchartButtonEl.classList.add('colab-df-quickchart-complete');\n",
              "    }\n",
              "    (() => {\n",
              "      let quickchartButtonEl =\n",
              "        document.querySelector('#df-e12a1c74-61a9-494a-9e96-4518f39e15e8 button');\n",
              "      quickchartButtonEl.style.display =\n",
              "        google.colab.kernel.accessAllowed ? 'block' : 'none';\n",
              "    })();\n",
              "  </script>\n",
              "</div>\n",
              "\n",
              "    </div>\n",
              "  </div>\n"
            ],
            "application/vnd.google.colaboratory.intrinsic+json": {
              "type": "dataframe",
              "variable_name": "df"
            }
          },
          "metadata": {},
          "execution_count": 79
        }
      ]
    },
    {
      "cell_type": "code",
      "source": [
        "df.info()"
      ],
      "metadata": {
        "colab": {
          "base_uri": "https://localhost:8080/"
        },
        "id": "2ZwnR9q0DX47",
        "outputId": "34cfeddb-23b4-40c8-e1c0-578944e8dbcd"
      },
      "execution_count": null,
      "outputs": [
        {
          "output_type": "stream",
          "name": "stdout",
          "text": [
            "<class 'pandas.core.frame.DataFrame'>\n",
            "RangeIndex: 102599 entries, 0 to 102598\n",
            "Data columns (total 26 columns):\n",
            " #   Column                          Non-Null Count   Dtype  \n",
            "---  ------                          --------------   -----  \n",
            " 0   id                              102599 non-null  int64  \n",
            " 1   NAME                            102349 non-null  object \n",
            " 2   host id                         102599 non-null  int64  \n",
            " 3   host_identity_verified          102310 non-null  object \n",
            " 4   host name                       102193 non-null  object \n",
            " 5   neighbourhood group             102570 non-null  object \n",
            " 6   neighbourhood                   102583 non-null  object \n",
            " 7   lat                             102591 non-null  float64\n",
            " 8   long                            102591 non-null  float64\n",
            " 9   country                         102067 non-null  object \n",
            " 10  country code                    102468 non-null  object \n",
            " 11  instant_bookable                102494 non-null  object \n",
            " 12  cancellation_policy             102523 non-null  object \n",
            " 13  room type                       102599 non-null  object \n",
            " 14  Construction year               102385 non-null  float64\n",
            " 15  price                           102352 non-null  object \n",
            " 16  service fee                     102326 non-null  object \n",
            " 17  minimum nights                  102190 non-null  float64\n",
            " 18  number of reviews               102416 non-null  float64\n",
            " 19  last review                     86706 non-null   object \n",
            " 20  reviews per month               86720 non-null   float64\n",
            " 21  review rate number              102273 non-null  float64\n",
            " 22  calculated host listings count  102280 non-null  float64\n",
            " 23  availability 365                102151 non-null  float64\n",
            " 24  house_rules                     50468 non-null   object \n",
            " 25  license                         2 non-null       object \n",
            "dtypes: float64(9), int64(2), object(15)\n",
            "memory usage: 20.4+ MB\n"
          ]
        }
      ]
    },
    {
      "cell_type": "code",
      "source": [
        "df.isna().sum()\n"
      ],
      "metadata": {
        "colab": {
          "base_uri": "https://localhost:8080/",
          "height": 899
        },
        "id": "dzJ43uaXJ7am",
        "outputId": "74ada2b3-1c5a-486c-f484-7815b5c4b607"
      },
      "execution_count": null,
      "outputs": [
        {
          "output_type": "execute_result",
          "data": {
            "text/plain": [
              "id                                     0\n",
              "NAME                                 250\n",
              "host id                                0\n",
              "host_identity_verified               289\n",
              "host name                            406\n",
              "neighbourhood group                   29\n",
              "neighbourhood                         16\n",
              "lat                                    8\n",
              "long                                   8\n",
              "country                              532\n",
              "country code                         131\n",
              "instant_bookable                     105\n",
              "cancellation_policy                   76\n",
              "room type                              0\n",
              "Construction year                    214\n",
              "price                                247\n",
              "service fee                          273\n",
              "minimum nights                       409\n",
              "number of reviews                    183\n",
              "last review                        15893\n",
              "reviews per month                  15879\n",
              "review rate number                   326\n",
              "calculated host listings count       319\n",
              "availability 365                     448\n",
              "house_rules                        52131\n",
              "license                           102597\n",
              "dtype: int64"
            ],
            "text/html": [
              "<div>\n",
              "<style scoped>\n",
              "    .dataframe tbody tr th:only-of-type {\n",
              "        vertical-align: middle;\n",
              "    }\n",
              "\n",
              "    .dataframe tbody tr th {\n",
              "        vertical-align: top;\n",
              "    }\n",
              "\n",
              "    .dataframe thead th {\n",
              "        text-align: right;\n",
              "    }\n",
              "</style>\n",
              "<table border=\"1\" class=\"dataframe\">\n",
              "  <thead>\n",
              "    <tr style=\"text-align: right;\">\n",
              "      <th></th>\n",
              "      <th>0</th>\n",
              "    </tr>\n",
              "  </thead>\n",
              "  <tbody>\n",
              "    <tr>\n",
              "      <th>id</th>\n",
              "      <td>0</td>\n",
              "    </tr>\n",
              "    <tr>\n",
              "      <th>NAME</th>\n",
              "      <td>250</td>\n",
              "    </tr>\n",
              "    <tr>\n",
              "      <th>host id</th>\n",
              "      <td>0</td>\n",
              "    </tr>\n",
              "    <tr>\n",
              "      <th>host_identity_verified</th>\n",
              "      <td>289</td>\n",
              "    </tr>\n",
              "    <tr>\n",
              "      <th>host name</th>\n",
              "      <td>406</td>\n",
              "    </tr>\n",
              "    <tr>\n",
              "      <th>neighbourhood group</th>\n",
              "      <td>29</td>\n",
              "    </tr>\n",
              "    <tr>\n",
              "      <th>neighbourhood</th>\n",
              "      <td>16</td>\n",
              "    </tr>\n",
              "    <tr>\n",
              "      <th>lat</th>\n",
              "      <td>8</td>\n",
              "    </tr>\n",
              "    <tr>\n",
              "      <th>long</th>\n",
              "      <td>8</td>\n",
              "    </tr>\n",
              "    <tr>\n",
              "      <th>country</th>\n",
              "      <td>532</td>\n",
              "    </tr>\n",
              "    <tr>\n",
              "      <th>country code</th>\n",
              "      <td>131</td>\n",
              "    </tr>\n",
              "    <tr>\n",
              "      <th>instant_bookable</th>\n",
              "      <td>105</td>\n",
              "    </tr>\n",
              "    <tr>\n",
              "      <th>cancellation_policy</th>\n",
              "      <td>76</td>\n",
              "    </tr>\n",
              "    <tr>\n",
              "      <th>room type</th>\n",
              "      <td>0</td>\n",
              "    </tr>\n",
              "    <tr>\n",
              "      <th>Construction year</th>\n",
              "      <td>214</td>\n",
              "    </tr>\n",
              "    <tr>\n",
              "      <th>price</th>\n",
              "      <td>247</td>\n",
              "    </tr>\n",
              "    <tr>\n",
              "      <th>service fee</th>\n",
              "      <td>273</td>\n",
              "    </tr>\n",
              "    <tr>\n",
              "      <th>minimum nights</th>\n",
              "      <td>409</td>\n",
              "    </tr>\n",
              "    <tr>\n",
              "      <th>number of reviews</th>\n",
              "      <td>183</td>\n",
              "    </tr>\n",
              "    <tr>\n",
              "      <th>last review</th>\n",
              "      <td>15893</td>\n",
              "    </tr>\n",
              "    <tr>\n",
              "      <th>reviews per month</th>\n",
              "      <td>15879</td>\n",
              "    </tr>\n",
              "    <tr>\n",
              "      <th>review rate number</th>\n",
              "      <td>326</td>\n",
              "    </tr>\n",
              "    <tr>\n",
              "      <th>calculated host listings count</th>\n",
              "      <td>319</td>\n",
              "    </tr>\n",
              "    <tr>\n",
              "      <th>availability 365</th>\n",
              "      <td>448</td>\n",
              "    </tr>\n",
              "    <tr>\n",
              "      <th>house_rules</th>\n",
              "      <td>52131</td>\n",
              "    </tr>\n",
              "    <tr>\n",
              "      <th>license</th>\n",
              "      <td>102597</td>\n",
              "    </tr>\n",
              "  </tbody>\n",
              "</table>\n",
              "</div><br><label><b>dtype:</b> int64</label>"
            ]
          },
          "metadata": {},
          "execution_count": 81
        }
      ]
    },
    {
      "cell_type": "code",
      "source": [
        "df.nunique()"
      ],
      "metadata": {
        "colab": {
          "base_uri": "https://localhost:8080/",
          "height": 899
        },
        "id": "74S4hwi4G_Dr",
        "outputId": "74f62f2a-d2dd-45f1-9ed8-86b45ec3ff1c"
      },
      "execution_count": null,
      "outputs": [
        {
          "output_type": "execute_result",
          "data": {
            "text/plain": [
              "id                                102058\n",
              "NAME                               61281\n",
              "host id                           102057\n",
              "host_identity_verified                 2\n",
              "host name                          13190\n",
              "neighbourhood group                    7\n",
              "neighbourhood                        224\n",
              "lat                                21991\n",
              "long                               17774\n",
              "country                                1\n",
              "country code                           1\n",
              "instant_bookable                       2\n",
              "cancellation_policy                    3\n",
              "room type                              4\n",
              "Construction year                     20\n",
              "price                               1151\n",
              "service fee                          231\n",
              "minimum nights                       153\n",
              "number of reviews                    476\n",
              "last review                         2477\n",
              "reviews per month                   1016\n",
              "review rate number                     5\n",
              "calculated host listings count        78\n",
              "availability 365                     438\n",
              "house_rules                         1976\n",
              "license                                1\n",
              "dtype: int64"
            ],
            "text/html": [
              "<div>\n",
              "<style scoped>\n",
              "    .dataframe tbody tr th:only-of-type {\n",
              "        vertical-align: middle;\n",
              "    }\n",
              "\n",
              "    .dataframe tbody tr th {\n",
              "        vertical-align: top;\n",
              "    }\n",
              "\n",
              "    .dataframe thead th {\n",
              "        text-align: right;\n",
              "    }\n",
              "</style>\n",
              "<table border=\"1\" class=\"dataframe\">\n",
              "  <thead>\n",
              "    <tr style=\"text-align: right;\">\n",
              "      <th></th>\n",
              "      <th>0</th>\n",
              "    </tr>\n",
              "  </thead>\n",
              "  <tbody>\n",
              "    <tr>\n",
              "      <th>id</th>\n",
              "      <td>102058</td>\n",
              "    </tr>\n",
              "    <tr>\n",
              "      <th>NAME</th>\n",
              "      <td>61281</td>\n",
              "    </tr>\n",
              "    <tr>\n",
              "      <th>host id</th>\n",
              "      <td>102057</td>\n",
              "    </tr>\n",
              "    <tr>\n",
              "      <th>host_identity_verified</th>\n",
              "      <td>2</td>\n",
              "    </tr>\n",
              "    <tr>\n",
              "      <th>host name</th>\n",
              "      <td>13190</td>\n",
              "    </tr>\n",
              "    <tr>\n",
              "      <th>neighbourhood group</th>\n",
              "      <td>7</td>\n",
              "    </tr>\n",
              "    <tr>\n",
              "      <th>neighbourhood</th>\n",
              "      <td>224</td>\n",
              "    </tr>\n",
              "    <tr>\n",
              "      <th>lat</th>\n",
              "      <td>21991</td>\n",
              "    </tr>\n",
              "    <tr>\n",
              "      <th>long</th>\n",
              "      <td>17774</td>\n",
              "    </tr>\n",
              "    <tr>\n",
              "      <th>country</th>\n",
              "      <td>1</td>\n",
              "    </tr>\n",
              "    <tr>\n",
              "      <th>country code</th>\n",
              "      <td>1</td>\n",
              "    </tr>\n",
              "    <tr>\n",
              "      <th>instant_bookable</th>\n",
              "      <td>2</td>\n",
              "    </tr>\n",
              "    <tr>\n",
              "      <th>cancellation_policy</th>\n",
              "      <td>3</td>\n",
              "    </tr>\n",
              "    <tr>\n",
              "      <th>room type</th>\n",
              "      <td>4</td>\n",
              "    </tr>\n",
              "    <tr>\n",
              "      <th>Construction year</th>\n",
              "      <td>20</td>\n",
              "    </tr>\n",
              "    <tr>\n",
              "      <th>price</th>\n",
              "      <td>1151</td>\n",
              "    </tr>\n",
              "    <tr>\n",
              "      <th>service fee</th>\n",
              "      <td>231</td>\n",
              "    </tr>\n",
              "    <tr>\n",
              "      <th>minimum nights</th>\n",
              "      <td>153</td>\n",
              "    </tr>\n",
              "    <tr>\n",
              "      <th>number of reviews</th>\n",
              "      <td>476</td>\n",
              "    </tr>\n",
              "    <tr>\n",
              "      <th>last review</th>\n",
              "      <td>2477</td>\n",
              "    </tr>\n",
              "    <tr>\n",
              "      <th>reviews per month</th>\n",
              "      <td>1016</td>\n",
              "    </tr>\n",
              "    <tr>\n",
              "      <th>review rate number</th>\n",
              "      <td>5</td>\n",
              "    </tr>\n",
              "    <tr>\n",
              "      <th>calculated host listings count</th>\n",
              "      <td>78</td>\n",
              "    </tr>\n",
              "    <tr>\n",
              "      <th>availability 365</th>\n",
              "      <td>438</td>\n",
              "    </tr>\n",
              "    <tr>\n",
              "      <th>house_rules</th>\n",
              "      <td>1976</td>\n",
              "    </tr>\n",
              "    <tr>\n",
              "      <th>license</th>\n",
              "      <td>1</td>\n",
              "    </tr>\n",
              "  </tbody>\n",
              "</table>\n",
              "</div><br><label><b>dtype:</b> int64</label>"
            ]
          },
          "metadata": {},
          "execution_count": 82
        }
      ]
    },
    {
      "cell_type": "markdown",
      "source": [
        "**check statistic metric**"
      ],
      "metadata": {
        "id": "WtnrqICWSGSF"
      }
    },
    {
      "cell_type": "code",
      "source": [
        "df.describe()"
      ],
      "metadata": {
        "colab": {
          "base_uri": "https://localhost:8080/",
          "height": 372
        },
        "id": "e5j8KuJgSDib",
        "outputId": "b17413c0-52df-407f-dd79-4929e34588b3"
      },
      "execution_count": null,
      "outputs": [
        {
          "output_type": "execute_result",
          "data": {
            "text/plain": [
              "                 id       host id            lat           long  \\\n",
              "count  1.025990e+05  1.025990e+05  102591.000000  102591.000000   \n",
              "mean   2.914623e+07  4.925411e+10      40.728094     -73.949644   \n",
              "std    1.625751e+07  2.853900e+10       0.055857       0.049521   \n",
              "min    1.001254e+06  1.236005e+08      40.499790     -74.249840   \n",
              "25%    1.508581e+07  2.458333e+10      40.688740     -73.982580   \n",
              "50%    2.913660e+07  4.911774e+10      40.722290     -73.954440   \n",
              "75%    4.320120e+07  7.399650e+10      40.762760     -73.932350   \n",
              "max    5.736742e+07  9.876313e+10      40.916970     -73.705220   \n",
              "\n",
              "       Construction year  minimum nights  number of reviews  \\\n",
              "count      102385.000000   102190.000000      102416.000000   \n",
              "mean         2012.487464        8.135845          27.483743   \n",
              "std             5.765556       30.553781          49.508954   \n",
              "min          2003.000000    -1223.000000           0.000000   \n",
              "25%          2007.000000        2.000000           1.000000   \n",
              "50%          2012.000000        3.000000           7.000000   \n",
              "75%          2017.000000        5.000000          30.000000   \n",
              "max          2022.000000     5645.000000        1024.000000   \n",
              "\n",
              "       reviews per month  review rate number  calculated host listings count  \\\n",
              "count       86720.000000       102273.000000                   102280.000000   \n",
              "mean            1.374022            3.279106                        7.936605   \n",
              "std             1.746621            1.284657                       32.218780   \n",
              "min             0.010000            1.000000                        1.000000   \n",
              "25%             0.220000            2.000000                        1.000000   \n",
              "50%             0.740000            3.000000                        1.000000   \n",
              "75%             2.000000            4.000000                        2.000000   \n",
              "max            90.000000            5.000000                      332.000000   \n",
              "\n",
              "       availability 365  \n",
              "count     102151.000000  \n",
              "mean         141.133254  \n",
              "std          135.435024  \n",
              "min          -10.000000  \n",
              "25%            3.000000  \n",
              "50%           96.000000  \n",
              "75%          269.000000  \n",
              "max         3677.000000  "
            ],
            "text/html": [
              "\n",
              "  <div id=\"df-08d02e7c-3904-4880-b744-c10933d13027\" class=\"colab-df-container\">\n",
              "    <div>\n",
              "<style scoped>\n",
              "    .dataframe tbody tr th:only-of-type {\n",
              "        vertical-align: middle;\n",
              "    }\n",
              "\n",
              "    .dataframe tbody tr th {\n",
              "        vertical-align: top;\n",
              "    }\n",
              "\n",
              "    .dataframe thead th {\n",
              "        text-align: right;\n",
              "    }\n",
              "</style>\n",
              "<table border=\"1\" class=\"dataframe\">\n",
              "  <thead>\n",
              "    <tr style=\"text-align: right;\">\n",
              "      <th></th>\n",
              "      <th>id</th>\n",
              "      <th>host id</th>\n",
              "      <th>lat</th>\n",
              "      <th>long</th>\n",
              "      <th>Construction year</th>\n",
              "      <th>minimum nights</th>\n",
              "      <th>number of reviews</th>\n",
              "      <th>reviews per month</th>\n",
              "      <th>review rate number</th>\n",
              "      <th>calculated host listings count</th>\n",
              "      <th>availability 365</th>\n",
              "    </tr>\n",
              "  </thead>\n",
              "  <tbody>\n",
              "    <tr>\n",
              "      <th>count</th>\n",
              "      <td>1.025990e+05</td>\n",
              "      <td>1.025990e+05</td>\n",
              "      <td>102591.000000</td>\n",
              "      <td>102591.000000</td>\n",
              "      <td>102385.000000</td>\n",
              "      <td>102190.000000</td>\n",
              "      <td>102416.000000</td>\n",
              "      <td>86720.000000</td>\n",
              "      <td>102273.000000</td>\n",
              "      <td>102280.000000</td>\n",
              "      <td>102151.000000</td>\n",
              "    </tr>\n",
              "    <tr>\n",
              "      <th>mean</th>\n",
              "      <td>2.914623e+07</td>\n",
              "      <td>4.925411e+10</td>\n",
              "      <td>40.728094</td>\n",
              "      <td>-73.949644</td>\n",
              "      <td>2012.487464</td>\n",
              "      <td>8.135845</td>\n",
              "      <td>27.483743</td>\n",
              "      <td>1.374022</td>\n",
              "      <td>3.279106</td>\n",
              "      <td>7.936605</td>\n",
              "      <td>141.133254</td>\n",
              "    </tr>\n",
              "    <tr>\n",
              "      <th>std</th>\n",
              "      <td>1.625751e+07</td>\n",
              "      <td>2.853900e+10</td>\n",
              "      <td>0.055857</td>\n",
              "      <td>0.049521</td>\n",
              "      <td>5.765556</td>\n",
              "      <td>30.553781</td>\n",
              "      <td>49.508954</td>\n",
              "      <td>1.746621</td>\n",
              "      <td>1.284657</td>\n",
              "      <td>32.218780</td>\n",
              "      <td>135.435024</td>\n",
              "    </tr>\n",
              "    <tr>\n",
              "      <th>min</th>\n",
              "      <td>1.001254e+06</td>\n",
              "      <td>1.236005e+08</td>\n",
              "      <td>40.499790</td>\n",
              "      <td>-74.249840</td>\n",
              "      <td>2003.000000</td>\n",
              "      <td>-1223.000000</td>\n",
              "      <td>0.000000</td>\n",
              "      <td>0.010000</td>\n",
              "      <td>1.000000</td>\n",
              "      <td>1.000000</td>\n",
              "      <td>-10.000000</td>\n",
              "    </tr>\n",
              "    <tr>\n",
              "      <th>25%</th>\n",
              "      <td>1.508581e+07</td>\n",
              "      <td>2.458333e+10</td>\n",
              "      <td>40.688740</td>\n",
              "      <td>-73.982580</td>\n",
              "      <td>2007.000000</td>\n",
              "      <td>2.000000</td>\n",
              "      <td>1.000000</td>\n",
              "      <td>0.220000</td>\n",
              "      <td>2.000000</td>\n",
              "      <td>1.000000</td>\n",
              "      <td>3.000000</td>\n",
              "    </tr>\n",
              "    <tr>\n",
              "      <th>50%</th>\n",
              "      <td>2.913660e+07</td>\n",
              "      <td>4.911774e+10</td>\n",
              "      <td>40.722290</td>\n",
              "      <td>-73.954440</td>\n",
              "      <td>2012.000000</td>\n",
              "      <td>3.000000</td>\n",
              "      <td>7.000000</td>\n",
              "      <td>0.740000</td>\n",
              "      <td>3.000000</td>\n",
              "      <td>1.000000</td>\n",
              "      <td>96.000000</td>\n",
              "    </tr>\n",
              "    <tr>\n",
              "      <th>75%</th>\n",
              "      <td>4.320120e+07</td>\n",
              "      <td>7.399650e+10</td>\n",
              "      <td>40.762760</td>\n",
              "      <td>-73.932350</td>\n",
              "      <td>2017.000000</td>\n",
              "      <td>5.000000</td>\n",
              "      <td>30.000000</td>\n",
              "      <td>2.000000</td>\n",
              "      <td>4.000000</td>\n",
              "      <td>2.000000</td>\n",
              "      <td>269.000000</td>\n",
              "    </tr>\n",
              "    <tr>\n",
              "      <th>max</th>\n",
              "      <td>5.736742e+07</td>\n",
              "      <td>9.876313e+10</td>\n",
              "      <td>40.916970</td>\n",
              "      <td>-73.705220</td>\n",
              "      <td>2022.000000</td>\n",
              "      <td>5645.000000</td>\n",
              "      <td>1024.000000</td>\n",
              "      <td>90.000000</td>\n",
              "      <td>5.000000</td>\n",
              "      <td>332.000000</td>\n",
              "      <td>3677.000000</td>\n",
              "    </tr>\n",
              "  </tbody>\n",
              "</table>\n",
              "</div>\n",
              "    <div class=\"colab-df-buttons\">\n",
              "\n",
              "  <div class=\"colab-df-container\">\n",
              "    <button class=\"colab-df-convert\" onclick=\"convertToInteractive('df-08d02e7c-3904-4880-b744-c10933d13027')\"\n",
              "            title=\"Convert this dataframe to an interactive table.\"\n",
              "            style=\"display:none;\">\n",
              "\n",
              "  <svg xmlns=\"http://www.w3.org/2000/svg\" height=\"24px\" viewBox=\"0 -960 960 960\">\n",
              "    <path d=\"M120-120v-720h720v720H120Zm60-500h600v-160H180v160Zm220 220h160v-160H400v160Zm0 220h160v-160H400v160ZM180-400h160v-160H180v160Zm440 0h160v-160H620v160ZM180-180h160v-160H180v160Zm440 0h160v-160H620v160Z\"/>\n",
              "  </svg>\n",
              "    </button>\n",
              "\n",
              "  <style>\n",
              "    .colab-df-container {\n",
              "      display:flex;\n",
              "      gap: 12px;\n",
              "    }\n",
              "\n",
              "    .colab-df-convert {\n",
              "      background-color: #E8F0FE;\n",
              "      border: none;\n",
              "      border-radius: 50%;\n",
              "      cursor: pointer;\n",
              "      display: none;\n",
              "      fill: #1967D2;\n",
              "      height: 32px;\n",
              "      padding: 0 0 0 0;\n",
              "      width: 32px;\n",
              "    }\n",
              "\n",
              "    .colab-df-convert:hover {\n",
              "      background-color: #E2EBFA;\n",
              "      box-shadow: 0px 1px 2px rgba(60, 64, 67, 0.3), 0px 1px 3px 1px rgba(60, 64, 67, 0.15);\n",
              "      fill: #174EA6;\n",
              "    }\n",
              "\n",
              "    .colab-df-buttons div {\n",
              "      margin-bottom: 4px;\n",
              "    }\n",
              "\n",
              "    [theme=dark] .colab-df-convert {\n",
              "      background-color: #3B4455;\n",
              "      fill: #D2E3FC;\n",
              "    }\n",
              "\n",
              "    [theme=dark] .colab-df-convert:hover {\n",
              "      background-color: #434B5C;\n",
              "      box-shadow: 0px 1px 3px 1px rgba(0, 0, 0, 0.15);\n",
              "      filter: drop-shadow(0px 1px 2px rgba(0, 0, 0, 0.3));\n",
              "      fill: #FFFFFF;\n",
              "    }\n",
              "  </style>\n",
              "\n",
              "    <script>\n",
              "      const buttonEl =\n",
              "        document.querySelector('#df-08d02e7c-3904-4880-b744-c10933d13027 button.colab-df-convert');\n",
              "      buttonEl.style.display =\n",
              "        google.colab.kernel.accessAllowed ? 'block' : 'none';\n",
              "\n",
              "      async function convertToInteractive(key) {\n",
              "        const element = document.querySelector('#df-08d02e7c-3904-4880-b744-c10933d13027');\n",
              "        const dataTable =\n",
              "          await google.colab.kernel.invokeFunction('convertToInteractive',\n",
              "                                                    [key], {});\n",
              "        if (!dataTable) return;\n",
              "\n",
              "        const docLinkHtml = 'Like what you see? Visit the ' +\n",
              "          '<a target=\"_blank\" href=https://colab.research.google.com/notebooks/data_table.ipynb>data table notebook</a>'\n",
              "          + ' to learn more about interactive tables.';\n",
              "        element.innerHTML = '';\n",
              "        dataTable['output_type'] = 'display_data';\n",
              "        await google.colab.output.renderOutput(dataTable, element);\n",
              "        const docLink = document.createElement('div');\n",
              "        docLink.innerHTML = docLinkHtml;\n",
              "        element.appendChild(docLink);\n",
              "      }\n",
              "    </script>\n",
              "  </div>\n",
              "\n",
              "\n",
              "<div id=\"df-e06534cb-6215-4464-ba3e-792b966571b0\">\n",
              "  <button class=\"colab-df-quickchart\" onclick=\"quickchart('df-e06534cb-6215-4464-ba3e-792b966571b0')\"\n",
              "            title=\"Suggest charts\"\n",
              "            style=\"display:none;\">\n",
              "\n",
              "<svg xmlns=\"http://www.w3.org/2000/svg\" height=\"24px\"viewBox=\"0 0 24 24\"\n",
              "     width=\"24px\">\n",
              "    <g>\n",
              "        <path d=\"M19 3H5c-1.1 0-2 .9-2 2v14c0 1.1.9 2 2 2h14c1.1 0 2-.9 2-2V5c0-1.1-.9-2-2-2zM9 17H7v-7h2v7zm4 0h-2V7h2v10zm4 0h-2v-4h2v4z\"/>\n",
              "    </g>\n",
              "</svg>\n",
              "  </button>\n",
              "\n",
              "<style>\n",
              "  .colab-df-quickchart {\n",
              "      --bg-color: #E8F0FE;\n",
              "      --fill-color: #1967D2;\n",
              "      --hover-bg-color: #E2EBFA;\n",
              "      --hover-fill-color: #174EA6;\n",
              "      --disabled-fill-color: #AAA;\n",
              "      --disabled-bg-color: #DDD;\n",
              "  }\n",
              "\n",
              "  [theme=dark] .colab-df-quickchart {\n",
              "      --bg-color: #3B4455;\n",
              "      --fill-color: #D2E3FC;\n",
              "      --hover-bg-color: #434B5C;\n",
              "      --hover-fill-color: #FFFFFF;\n",
              "      --disabled-bg-color: #3B4455;\n",
              "      --disabled-fill-color: #666;\n",
              "  }\n",
              "\n",
              "  .colab-df-quickchart {\n",
              "    background-color: var(--bg-color);\n",
              "    border: none;\n",
              "    border-radius: 50%;\n",
              "    cursor: pointer;\n",
              "    display: none;\n",
              "    fill: var(--fill-color);\n",
              "    height: 32px;\n",
              "    padding: 0;\n",
              "    width: 32px;\n",
              "  }\n",
              "\n",
              "  .colab-df-quickchart:hover {\n",
              "    background-color: var(--hover-bg-color);\n",
              "    box-shadow: 0 1px 2px rgba(60, 64, 67, 0.3), 0 1px 3px 1px rgba(60, 64, 67, 0.15);\n",
              "    fill: var(--button-hover-fill-color);\n",
              "  }\n",
              "\n",
              "  .colab-df-quickchart-complete:disabled,\n",
              "  .colab-df-quickchart-complete:disabled:hover {\n",
              "    background-color: var(--disabled-bg-color);\n",
              "    fill: var(--disabled-fill-color);\n",
              "    box-shadow: none;\n",
              "  }\n",
              "\n",
              "  .colab-df-spinner {\n",
              "    border: 2px solid var(--fill-color);\n",
              "    border-color: transparent;\n",
              "    border-bottom-color: var(--fill-color);\n",
              "    animation:\n",
              "      spin 1s steps(1) infinite;\n",
              "  }\n",
              "\n",
              "  @keyframes spin {\n",
              "    0% {\n",
              "      border-color: transparent;\n",
              "      border-bottom-color: var(--fill-color);\n",
              "      border-left-color: var(--fill-color);\n",
              "    }\n",
              "    20% {\n",
              "      border-color: transparent;\n",
              "      border-left-color: var(--fill-color);\n",
              "      border-top-color: var(--fill-color);\n",
              "    }\n",
              "    30% {\n",
              "      border-color: transparent;\n",
              "      border-left-color: var(--fill-color);\n",
              "      border-top-color: var(--fill-color);\n",
              "      border-right-color: var(--fill-color);\n",
              "    }\n",
              "    40% {\n",
              "      border-color: transparent;\n",
              "      border-right-color: var(--fill-color);\n",
              "      border-top-color: var(--fill-color);\n",
              "    }\n",
              "    60% {\n",
              "      border-color: transparent;\n",
              "      border-right-color: var(--fill-color);\n",
              "    }\n",
              "    80% {\n",
              "      border-color: transparent;\n",
              "      border-right-color: var(--fill-color);\n",
              "      border-bottom-color: var(--fill-color);\n",
              "    }\n",
              "    90% {\n",
              "      border-color: transparent;\n",
              "      border-bottom-color: var(--fill-color);\n",
              "    }\n",
              "  }\n",
              "</style>\n",
              "\n",
              "  <script>\n",
              "    async function quickchart(key) {\n",
              "      const quickchartButtonEl =\n",
              "        document.querySelector('#' + key + ' button');\n",
              "      quickchartButtonEl.disabled = true;  // To prevent multiple clicks.\n",
              "      quickchartButtonEl.classList.add('colab-df-spinner');\n",
              "      try {\n",
              "        const charts = await google.colab.kernel.invokeFunction(\n",
              "            'suggestCharts', [key], {});\n",
              "      } catch (error) {\n",
              "        console.error('Error during call to suggestCharts:', error);\n",
              "      }\n",
              "      quickchartButtonEl.classList.remove('colab-df-spinner');\n",
              "      quickchartButtonEl.classList.add('colab-df-quickchart-complete');\n",
              "    }\n",
              "    (() => {\n",
              "      let quickchartButtonEl =\n",
              "        document.querySelector('#df-e06534cb-6215-4464-ba3e-792b966571b0 button');\n",
              "      quickchartButtonEl.style.display =\n",
              "        google.colab.kernel.accessAllowed ? 'block' : 'none';\n",
              "    })();\n",
              "  </script>\n",
              "</div>\n",
              "\n",
              "    </div>\n",
              "  </div>\n"
            ],
            "application/vnd.google.colaboratory.intrinsic+json": {
              "type": "dataframe",
              "summary": "{\n  \"name\": \"df\",\n  \"rows\": 8,\n  \"fields\": [\n    {\n      \"column\": \"id\",\n      \"properties\": {\n        \"dtype\": \"number\",\n        \"std\": 19908054.6009078,\n        \"min\": 102599.0,\n        \"max\": 57367417.0,\n        \"num_unique_values\": 8,\n        \"samples\": [\n          29146234.522129845,\n          29136603.0,\n          102599.0\n        ],\n        \"semantic_type\": \"\",\n        \"description\": \"\"\n      }\n    },\n    {\n      \"column\": \"host id\",\n      \"properties\": {\n        \"dtype\": \"number\",\n        \"std\": 34505467226.45037,\n        \"min\": 102599.0,\n        \"max\": 98763129024.0,\n        \"num_unique_values\": 8,\n        \"samples\": [\n          49254111474.32867,\n          49117739352.0,\n          102599.0\n        ],\n        \"semantic_type\": \"\",\n        \"description\": \"\"\n      }\n    },\n    {\n      \"column\": \"lat\",\n      \"properties\": {\n        \"dtype\": \"number\",\n        \"std\": 36259.05591043804,\n        \"min\": 0.055856516027438886,\n        \"max\": 102591.0,\n        \"num_unique_values\": 8,\n        \"samples\": [\n          40.728093870371374,\n          40.72229,\n          102591.0\n        ],\n        \"semantic_type\": \"\",\n        \"description\": \"\"\n      }\n    },\n    {\n      \"column\": \"long\",\n      \"properties\": {\n        \"dtype\": \"number\",\n        \"std\": 36293.81660944596,\n        \"min\": -74.24984,\n        \"max\": 102591.0,\n        \"num_unique_values\": 8,\n        \"samples\": [\n          -73.94964395581123,\n          -73.95444,\n          102591.0\n        ],\n        \"semantic_type\": \"\",\n        \"description\": \"\"\n      }\n    },\n    {\n      \"column\": \"Construction year\",\n      \"properties\": {\n        \"dtype\": \"number\",\n        \"std\": 35595.39534144094,\n        \"min\": 5.765556424284997,\n        \"max\": 102385.0,\n        \"num_unique_values\": 8,\n        \"samples\": [\n          2012.487463983982,\n          2012.0,\n          102385.0\n        ],\n        \"semantic_type\": \"\",\n        \"description\": \"\"\n      }\n    },\n    {\n      \"column\": \"minimum nights\",\n      \"properties\": {\n        \"dtype\": \"number\",\n        \"std\": 35964.45875102764,\n        \"min\": -1223.0,\n        \"max\": 102190.0,\n        \"num_unique_values\": 8,\n        \"samples\": [\n          8.13584499461787,\n          3.0,\n          102190.0\n        ],\n        \"semantic_type\": \"\",\n        \"description\": \"\"\n      }\n    },\n    {\n      \"column\": \"number of reviews\",\n      \"properties\": {\n        \"dtype\": \"number\",\n        \"std\": 36153.70999425335,\n        \"min\": 0.0,\n        \"max\": 102416.0,\n        \"num_unique_values\": 8,\n        \"samples\": [\n          27.483742774566473,\n          7.0,\n          102416.0\n        ],\n        \"semantic_type\": \"\",\n        \"description\": \"\"\n      }\n    },\n    {\n      \"column\": \"reviews per month\",\n      \"properties\": {\n        \"dtype\": \"number\",\n        \"std\": 30655.312544044045,\n        \"min\": 0.01,\n        \"max\": 86720.0,\n        \"num_unique_values\": 8,\n        \"samples\": [\n          1.374021909594096,\n          0.74,\n          86720.0\n        ],\n        \"semantic_type\": \"\",\n        \"description\": \"\"\n      }\n    },\n    {\n      \"column\": \"review rate number\",\n      \"properties\": {\n        \"dtype\": \"number\",\n        \"std\": 36157.9778220438,\n        \"min\": 1.0,\n        \"max\": 102273.0,\n        \"num_unique_values\": 8,\n        \"samples\": [\n          3.279105922384207,\n          3.0,\n          102273.0\n        ],\n        \"semantic_type\": \"\",\n        \"description\": \"\"\n      }\n    },\n    {\n      \"column\": \"calculated host listings count\",\n      \"properties\": {\n        \"dtype\": \"number\",\n        \"std\": 36142.571432058314,\n        \"min\": 1.0,\n        \"max\": 102280.0,\n        \"num_unique_values\": 6,\n        \"samples\": [\n          102280.0,\n          7.936605396949551,\n          332.0\n        ],\n        \"semantic_type\": \"\",\n        \"description\": \"\"\n      }\n    },\n    {\n      \"column\": \"availability 365\",\n      \"properties\": {\n        \"dtype\": \"number\",\n        \"std\": 35919.91543045134,\n        \"min\": -10.0,\n        \"max\": 102151.0,\n        \"num_unique_values\": 8,\n        \"samples\": [\n          141.13325371264108,\n          96.0,\n          102151.0\n        ],\n        \"semantic_type\": \"\",\n        \"description\": \"\"\n      }\n    }\n  ]\n}"
            }
          },
          "metadata": {},
          "execution_count": 83
        }
      ]
    },
    {
      "cell_type": "code",
      "source": [
        "# Get a list of column names\n",
        "column_names = df.columns.tolist()\n",
        "column_names"
      ],
      "metadata": {
        "colab": {
          "base_uri": "https://localhost:8080/"
        },
        "id": "PbzwIASR-K8T",
        "outputId": "6cb969c5-a977-425b-9b09-0fffd84c17c8"
      },
      "execution_count": null,
      "outputs": [
        {
          "output_type": "execute_result",
          "data": {
            "text/plain": [
              "['id',\n",
              " 'NAME',\n",
              " 'host id',\n",
              " 'host_identity_verified',\n",
              " 'host name',\n",
              " 'neighbourhood group',\n",
              " 'neighbourhood',\n",
              " 'lat',\n",
              " 'long',\n",
              " 'country',\n",
              " 'country code',\n",
              " 'instant_bookable',\n",
              " 'cancellation_policy',\n",
              " 'room type',\n",
              " 'Construction year',\n",
              " 'price',\n",
              " 'service fee',\n",
              " 'minimum nights',\n",
              " 'number of reviews',\n",
              " 'last review',\n",
              " 'reviews per month',\n",
              " 'review rate number',\n",
              " 'calculated host listings count',\n",
              " 'availability 365',\n",
              " 'house_rules',\n",
              " 'license']"
            ]
          },
          "metadata": {},
          "execution_count": 84
        }
      ]
    },
    {
      "cell_type": "markdown",
      "source": [
        "**Remove un important coloums**\n",
        "\n"
      ],
      "metadata": {
        "id": "hfXVd_8TAFRN"
      }
    },
    {
      "cell_type": "code",
      "source": [
        "column_to_drop = ['id', 'house_rules', 'license','lat', 'long','last review']\n",
        "column_to_keep = ['NAME', 'host id', 'host_identity_verified', 'host name',\n",
        "       'neighbourhood group', 'neighbourhood','country',\n",
        "       'country code', 'instant_bookable', 'cancellation_policy', 'room type',\n",
        "       'Construction year', 'price', 'service fee', 'minimum nights',\n",
        "       'number of reviews',\n",
        "       'review rate number', 'calculated host listings count',\n",
        "       'availability 365','reviews per month']\n",
        "\n",
        "df = df[column_to_keep]\n",
        "df.shape\n"
      ],
      "metadata": {
        "colab": {
          "base_uri": "https://localhost:8080/"
        },
        "id": "I6hN2-TA_U7c",
        "outputId": "44d50704-ef5e-4a63-e0c3-8fb85230a200"
      },
      "execution_count": null,
      "outputs": [
        {
          "output_type": "execute_result",
          "data": {
            "text/plain": [
              "(102599, 20)"
            ]
          },
          "metadata": {},
          "execution_count": 85
        }
      ]
    },
    {
      "cell_type": "markdown",
      "source": [
        "**check Null value**"
      ],
      "metadata": {
        "id": "gfUguSS-AjdA"
      }
    },
    {
      "cell_type": "code",
      "source": [
        "df.isna().sum()\n"
      ],
      "metadata": {
        "colab": {
          "base_uri": "https://localhost:8080/",
          "height": 711
        },
        "id": "9Ahh3TRt_-dG",
        "outputId": "d0c04973-eaab-4f6f-bc4c-257ef6bd0f08"
      },
      "execution_count": null,
      "outputs": [
        {
          "output_type": "execute_result",
          "data": {
            "text/plain": [
              "NAME                                250\n",
              "host id                               0\n",
              "host_identity_verified              289\n",
              "host name                           406\n",
              "neighbourhood group                  29\n",
              "neighbourhood                        16\n",
              "country                             532\n",
              "country code                        131\n",
              "instant_bookable                    105\n",
              "cancellation_policy                  76\n",
              "room type                             0\n",
              "Construction year                   214\n",
              "price                               247\n",
              "service fee                         273\n",
              "minimum nights                      409\n",
              "number of reviews                   183\n",
              "review rate number                  326\n",
              "calculated host listings count      319\n",
              "availability 365                    448\n",
              "reviews per month                 15879\n",
              "dtype: int64"
            ],
            "text/html": [
              "<div>\n",
              "<style scoped>\n",
              "    .dataframe tbody tr th:only-of-type {\n",
              "        vertical-align: middle;\n",
              "    }\n",
              "\n",
              "    .dataframe tbody tr th {\n",
              "        vertical-align: top;\n",
              "    }\n",
              "\n",
              "    .dataframe thead th {\n",
              "        text-align: right;\n",
              "    }\n",
              "</style>\n",
              "<table border=\"1\" class=\"dataframe\">\n",
              "  <thead>\n",
              "    <tr style=\"text-align: right;\">\n",
              "      <th></th>\n",
              "      <th>0</th>\n",
              "    </tr>\n",
              "  </thead>\n",
              "  <tbody>\n",
              "    <tr>\n",
              "      <th>NAME</th>\n",
              "      <td>250</td>\n",
              "    </tr>\n",
              "    <tr>\n",
              "      <th>host id</th>\n",
              "      <td>0</td>\n",
              "    </tr>\n",
              "    <tr>\n",
              "      <th>host_identity_verified</th>\n",
              "      <td>289</td>\n",
              "    </tr>\n",
              "    <tr>\n",
              "      <th>host name</th>\n",
              "      <td>406</td>\n",
              "    </tr>\n",
              "    <tr>\n",
              "      <th>neighbourhood group</th>\n",
              "      <td>29</td>\n",
              "    </tr>\n",
              "    <tr>\n",
              "      <th>neighbourhood</th>\n",
              "      <td>16</td>\n",
              "    </tr>\n",
              "    <tr>\n",
              "      <th>country</th>\n",
              "      <td>532</td>\n",
              "    </tr>\n",
              "    <tr>\n",
              "      <th>country code</th>\n",
              "      <td>131</td>\n",
              "    </tr>\n",
              "    <tr>\n",
              "      <th>instant_bookable</th>\n",
              "      <td>105</td>\n",
              "    </tr>\n",
              "    <tr>\n",
              "      <th>cancellation_policy</th>\n",
              "      <td>76</td>\n",
              "    </tr>\n",
              "    <tr>\n",
              "      <th>room type</th>\n",
              "      <td>0</td>\n",
              "    </tr>\n",
              "    <tr>\n",
              "      <th>Construction year</th>\n",
              "      <td>214</td>\n",
              "    </tr>\n",
              "    <tr>\n",
              "      <th>price</th>\n",
              "      <td>247</td>\n",
              "    </tr>\n",
              "    <tr>\n",
              "      <th>service fee</th>\n",
              "      <td>273</td>\n",
              "    </tr>\n",
              "    <tr>\n",
              "      <th>minimum nights</th>\n",
              "      <td>409</td>\n",
              "    </tr>\n",
              "    <tr>\n",
              "      <th>number of reviews</th>\n",
              "      <td>183</td>\n",
              "    </tr>\n",
              "    <tr>\n",
              "      <th>review rate number</th>\n",
              "      <td>326</td>\n",
              "    </tr>\n",
              "    <tr>\n",
              "      <th>calculated host listings count</th>\n",
              "      <td>319</td>\n",
              "    </tr>\n",
              "    <tr>\n",
              "      <th>availability 365</th>\n",
              "      <td>448</td>\n",
              "    </tr>\n",
              "    <tr>\n",
              "      <th>reviews per month</th>\n",
              "      <td>15879</td>\n",
              "    </tr>\n",
              "  </tbody>\n",
              "</table>\n",
              "</div><br><label><b>dtype:</b> int64</label>"
            ]
          },
          "metadata": {},
          "execution_count": 86
        }
      ]
    },
    {
      "cell_type": "markdown",
      "source": [
        "**Review columns**"
      ],
      "metadata": {
        "id": "VH_LVxnsVh3a"
      }
    },
    {
      "cell_type": "code",
      "source": [
        "df['reviews per month'].describe()"
      ],
      "metadata": {
        "colab": {
          "base_uri": "https://localhost:8080/",
          "height": 335
        },
        "id": "wu6OIbRGVhG4",
        "outputId": "146871a0-8bfc-4a85-80a3-493ba317a969"
      },
      "execution_count": null,
      "outputs": [
        {
          "output_type": "execute_result",
          "data": {
            "text/plain": [
              "count    86720.000000\n",
              "mean         1.374022\n",
              "std          1.746621\n",
              "min          0.010000\n",
              "25%          0.220000\n",
              "50%          0.740000\n",
              "75%          2.000000\n",
              "max         90.000000\n",
              "Name: reviews per month, dtype: float64"
            ],
            "text/html": [
              "<div>\n",
              "<style scoped>\n",
              "    .dataframe tbody tr th:only-of-type {\n",
              "        vertical-align: middle;\n",
              "    }\n",
              "\n",
              "    .dataframe tbody tr th {\n",
              "        vertical-align: top;\n",
              "    }\n",
              "\n",
              "    .dataframe thead th {\n",
              "        text-align: right;\n",
              "    }\n",
              "</style>\n",
              "<table border=\"1\" class=\"dataframe\">\n",
              "  <thead>\n",
              "    <tr style=\"text-align: right;\">\n",
              "      <th></th>\n",
              "      <th>reviews per month</th>\n",
              "    </tr>\n",
              "  </thead>\n",
              "  <tbody>\n",
              "    <tr>\n",
              "      <th>count</th>\n",
              "      <td>86720.000000</td>\n",
              "    </tr>\n",
              "    <tr>\n",
              "      <th>mean</th>\n",
              "      <td>1.374022</td>\n",
              "    </tr>\n",
              "    <tr>\n",
              "      <th>std</th>\n",
              "      <td>1.746621</td>\n",
              "    </tr>\n",
              "    <tr>\n",
              "      <th>min</th>\n",
              "      <td>0.010000</td>\n",
              "    </tr>\n",
              "    <tr>\n",
              "      <th>25%</th>\n",
              "      <td>0.220000</td>\n",
              "    </tr>\n",
              "    <tr>\n",
              "      <th>50%</th>\n",
              "      <td>0.740000</td>\n",
              "    </tr>\n",
              "    <tr>\n",
              "      <th>75%</th>\n",
              "      <td>2.000000</td>\n",
              "    </tr>\n",
              "    <tr>\n",
              "      <th>max</th>\n",
              "      <td>90.000000</td>\n",
              "    </tr>\n",
              "  </tbody>\n",
              "</table>\n",
              "</div><br><label><b>dtype:</b> float64</label>"
            ]
          },
          "metadata": {},
          "execution_count": 87
        }
      ]
    },
    {
      "cell_type": "code",
      "source": [
        "#A histogram gives a rough idea of the data's distribution\n",
        "\n",
        "plt.hist(df['reviews per month'], bins=30, edgecolor='k')\n",
        "plt.title('Histogram of reviews per month')\n",
        "plt.xlabel('reviews per month')\n",
        "plt.ylabel('Frequency')\n",
        "plt.show()\n",
        "\n"
      ],
      "metadata": {
        "colab": {
          "base_uri": "https://localhost:8080/",
          "height": 472
        },
        "id": "RPfsiO4UVt-j",
        "outputId": "8546fd03-0022-4b4d-9ffd-be46d633cab5"
      },
      "execution_count": null,
      "outputs": [
        {
          "output_type": "display_data",
          "data": {
            "text/plain": [
              "<Figure size 640x480 with 1 Axes>"
            ],
            "image/png": "[encoded data removed]"
          },
          "metadata": {}
        }
      ]
    },
    {
      "cell_type": "code",
      "source": [
        "mean= df['reviews per month'].mean()\n",
        "\n",
        "df['reviews per month']=df['reviews per month'].fillna(mean)\n"
      ],
      "metadata": {
        "id": "hpN9UgYLV9dJ"
      },
      "execution_count": null,
      "outputs": []
    },
    {
      "cell_type": "code",
      "source": [
        "#A histogram gives a rough idea of the data's distribution\n",
        "\n",
        "plt.hist(df['reviews per month'], bins=30, edgecolor='k')\n",
        "plt.title('Histogram of reviews per month')\n",
        "plt.xlabel('reviews per month')\n",
        "plt.ylabel('Frequency')\n",
        "plt.show()\n",
        "\n"
      ],
      "metadata": {
        "colab": {
          "base_uri": "https://localhost:8080/",
          "height": 472
        },
        "id": "Iv3aWhkdWLLv",
        "outputId": "c6b9c2d1-5546-4f39-da65-3d5de37ace3c"
      },
      "execution_count": null,
      "outputs": [
        {
          "output_type": "display_data",
          "data": {
            "text/plain": [
              "<Figure size 640x480 with 1 Axes>"
            ],
            "image/png": "[encoded data removed]"
          },
          "metadata": {}
        }
      ]
    },
    {
      "cell_type": "code",
      "source": [
        "df['reviews per month'].describe()"
      ],
      "metadata": {
        "colab": {
          "base_uri": "https://localhost:8080/",
          "height": 335
        },
        "id": "oV6NghjpWS0r",
        "outputId": "622c3164-1d4f-4f21-c4df-f0121209a9a8"
      },
      "execution_count": null,
      "outputs": [
        {
          "output_type": "execute_result",
          "data": {
            "text/plain": [
              "count    102599.000000\n",
              "mean          1.374022\n",
              "std           1.605782\n",
              "min           0.010000\n",
              "25%           0.280000\n",
              "50%           1.050000\n",
              "75%           1.710000\n",
              "max          90.000000\n",
              "Name: reviews per month, dtype: float64"
            ],
            "text/html": [
              "<div>\n",
              "<style scoped>\n",
              "    .dataframe tbody tr th:only-of-type {\n",
              "        vertical-align: middle;\n",
              "    }\n",
              "\n",
              "    .dataframe tbody tr th {\n",
              "        vertical-align: top;\n",
              "    }\n",
              "\n",
              "    .dataframe thead th {\n",
              "        text-align: right;\n",
              "    }\n",
              "</style>\n",
              "<table border=\"1\" class=\"dataframe\">\n",
              "  <thead>\n",
              "    <tr style=\"text-align: right;\">\n",
              "      <th></th>\n",
              "      <th>reviews per month</th>\n",
              "    </tr>\n",
              "  </thead>\n",
              "  <tbody>\n",
              "    <tr>\n",
              "      <th>count</th>\n",
              "      <td>102599.000000</td>\n",
              "    </tr>\n",
              "    <tr>\n",
              "      <th>mean</th>\n",
              "      <td>1.374022</td>\n",
              "    </tr>\n",
              "    <tr>\n",
              "      <th>std</th>\n",
              "      <td>1.605782</td>\n",
              "    </tr>\n",
              "    <tr>\n",
              "      <th>min</th>\n",
              "      <td>0.010000</td>\n",
              "    </tr>\n",
              "    <tr>\n",
              "      <th>25%</th>\n",
              "      <td>0.280000</td>\n",
              "    </tr>\n",
              "    <tr>\n",
              "      <th>50%</th>\n",
              "      <td>1.050000</td>\n",
              "    </tr>\n",
              "    <tr>\n",
              "      <th>75%</th>\n",
              "      <td>1.710000</td>\n",
              "    </tr>\n",
              "    <tr>\n",
              "      <th>max</th>\n",
              "      <td>90.000000</td>\n",
              "    </tr>\n",
              "  </tbody>\n",
              "</table>\n",
              "</div><br><label><b>dtype:</b> float64</label>"
            ]
          },
          "metadata": {},
          "execution_count": 91
        }
      ]
    },
    {
      "cell_type": "code",
      "source": [
        "\n",
        "sns.boxplot(x=df['reviews per month'],color='lightblue')\n",
        "plt.title('Box Plot of reviews per months')\n",
        "plt.show()"
      ],
      "metadata": {
        "colab": {
          "base_uri": "https://localhost:8080/",
          "height": 472
        },
        "id": "RB_OvidnWa4N",
        "outputId": "b0a9167a-be5b-4e23-abc8-857b1ac2dcbc"
      },
      "execution_count": null,
      "outputs": [
        {
          "output_type": "display_data",
          "data": {
            "text/plain": [
              "<Figure size 640x480 with 1 Axes>"
            ],
            "image/png": "[encoded data removed]"
          },
          "metadata": {}
        }
      ]
    },
    {
      "cell_type": "code",
      "source": [
        "import numpy as np\n",
        "\n",
        "# Calculate the mean and standard deviation of the 'reviews per month' column\n",
        "mean = df['reviews per month'].mean()\n",
        "std = df['reviews per month'].std()\n",
        "\n",
        "# Calculate the Z-scores for each value in the column\n",
        "df['z_score'] = (df['reviews per month'] - mean) / std\n",
        "\n",
        "# Define the threshold for outliers (e.g., Z-score > 3 or < -3)\n",
        "threshold = 3\n",
        "\n",
        "# Filter the DataFrame to remove rows where the Z-score indicates an outlier\n",
        "df = df[(df['z_score'] >= -threshold) & (df['z_score'] <= threshold)]\n",
        "\n",
        "# Drop the Z-score column as it is no longer needed\n",
        "df = df.drop(columns=['z_score'])\n",
        "\n",
        "# Display the descriptive statistics for the 'reviews per month' column after removing outliers\n",
        "print(df['reviews per month'].describe())\n"
      ],
      "metadata": {
        "colab": {
          "base_uri": "https://localhost:8080/"
        },
        "id": "lM_j2FlYXnXH",
        "outputId": "fed4eb1c-2ca1-49d3-9e4f-49942abac24e"
      },
      "execution_count": null,
      "outputs": [
        {
          "output_type": "stream",
          "name": "stdout",
          "text": [
            "count    101189.000000\n",
            "mean          1.274478\n",
            "std           1.240971\n",
            "min           0.010000\n",
            "25%           0.270000\n",
            "50%           1.010000\n",
            "75%           1.630000\n",
            "max           6.190000\n",
            "Name: reviews per month, dtype: float64\n"
          ]
        }
      ]
    },
    {
      "cell_type": "markdown",
      "source": [
        "**review rate number**"
      ],
      "metadata": {
        "id": "SPzlwk5hYauN"
      }
    },
    {
      "cell_type": "code",
      "source": [
        "df['review rate number'].describe()"
      ],
      "metadata": {
        "colab": {
          "base_uri": "https://localhost:8080/",
          "height": 335
        },
        "id": "hQrwyueccx03",
        "outputId": "4902ad51-cfac-4753-c499-87e701ce49e4"
      },
      "execution_count": null,
      "outputs": [
        {
          "output_type": "execute_result",
          "data": {
            "text/plain": [
              "count    100874.000000\n",
              "mean          3.277604\n",
              "std           1.285791\n",
              "min           1.000000\n",
              "25%           2.000000\n",
              "50%           3.000000\n",
              "75%           4.000000\n",
              "max           5.000000\n",
              "Name: review rate number, dtype: float64"
            ],
            "text/html": [
              "<div>\n",
              "<style scoped>\n",
              "    .dataframe tbody tr th:only-of-type {\n",
              "        vertical-align: middle;\n",
              "    }\n",
              "\n",
              "    .dataframe tbody tr th {\n",
              "        vertical-align: top;\n",
              "    }\n",
              "\n",
              "    .dataframe thead th {\n",
              "        text-align: right;\n",
              "    }\n",
              "</style>\n",
              "<table border=\"1\" class=\"dataframe\">\n",
              "  <thead>\n",
              "    <tr style=\"text-align: right;\">\n",
              "      <th></th>\n",
              "      <th>review rate number</th>\n",
              "    </tr>\n",
              "  </thead>\n",
              "  <tbody>\n",
              "    <tr>\n",
              "      <th>count</th>\n",
              "      <td>100874.000000</td>\n",
              "    </tr>\n",
              "    <tr>\n",
              "      <th>mean</th>\n",
              "      <td>3.277604</td>\n",
              "    </tr>\n",
              "    <tr>\n",
              "      <th>std</th>\n",
              "      <td>1.285791</td>\n",
              "    </tr>\n",
              "    <tr>\n",
              "      <th>min</th>\n",
              "      <td>1.000000</td>\n",
              "    </tr>\n",
              "    <tr>\n",
              "      <th>25%</th>\n",
              "      <td>2.000000</td>\n",
              "    </tr>\n",
              "    <tr>\n",
              "      <th>50%</th>\n",
              "      <td>3.000000</td>\n",
              "    </tr>\n",
              "    <tr>\n",
              "      <th>75%</th>\n",
              "      <td>4.000000</td>\n",
              "    </tr>\n",
              "    <tr>\n",
              "      <th>max</th>\n",
              "      <td>5.000000</td>\n",
              "    </tr>\n",
              "  </tbody>\n",
              "</table>\n",
              "</div><br><label><b>dtype:</b> float64</label>"
            ]
          },
          "metadata": {},
          "execution_count": 94
        }
      ]
    },
    {
      "cell_type": "code",
      "source": [
        "\n",
        "max_review_rate = df['review rate number'].max()\n",
        "# Fill NaN values in 'review rate number' with the maximum value\n",
        "df['review rate number']=df['review rate number'].fillna(max_review_rate)\n",
        "\n",
        "# Verify that there are no more NaN values in the column\n",
        "print(df['review rate number'].isna().sum())\n",
        "\n"
      ],
      "metadata": {
        "colab": {
          "base_uri": "https://localhost:8080/"
        },
        "id": "fJjxBRunAWUV",
        "outputId": "225cbdad-6ec7-43f2-d2e0-4f9dfbc639d2"
      },
      "execution_count": null,
      "outputs": [
        {
          "output_type": "stream",
          "name": "stdout",
          "text": [
            "0\n"
          ]
        }
      ]
    },
    {
      "cell_type": "markdown",
      "source": [
        "**number of reviews**"
      ],
      "metadata": {
        "id": "4-g_ytbMhgeC"
      }
    },
    {
      "cell_type": "code",
      "source": [
        "df['number of reviews'].describe()"
      ],
      "metadata": {
        "colab": {
          "base_uri": "https://localhost:8080/",
          "height": 335
        },
        "id": "UsOdHDxfdwZe",
        "outputId": "04686950-729d-4593-9fe1-0fceccbdcbcb"
      },
      "execution_count": null,
      "outputs": [
        {
          "output_type": "execute_result",
          "data": {
            "text/plain": [
              "count    101006.000000\n",
              "mean         26.039810\n",
              "std          45.476156\n",
              "min           0.000000\n",
              "25%           1.000000\n",
              "50%           7.000000\n",
              "75%          29.000000\n",
              "max         638.000000\n",
              "Name: number of reviews, dtype: float64"
            ],
            "text/html": [
              "<div>\n",
              "<style scoped>\n",
              "    .dataframe tbody tr th:only-of-type {\n",
              "        vertical-align: middle;\n",
              "    }\n",
              "\n",
              "    .dataframe tbody tr th {\n",
              "        vertical-align: top;\n",
              "    }\n",
              "\n",
              "    .dataframe thead th {\n",
              "        text-align: right;\n",
              "    }\n",
              "</style>\n",
              "<table border=\"1\" class=\"dataframe\">\n",
              "  <thead>\n",
              "    <tr style=\"text-align: right;\">\n",
              "      <th></th>\n",
              "      <th>number of reviews</th>\n",
              "    </tr>\n",
              "  </thead>\n",
              "  <tbody>\n",
              "    <tr>\n",
              "      <th>count</th>\n",
              "      <td>101006.000000</td>\n",
              "    </tr>\n",
              "    <tr>\n",
              "      <th>mean</th>\n",
              "      <td>26.039810</td>\n",
              "    </tr>\n",
              "    <tr>\n",
              "      <th>std</th>\n",
              "      <td>45.476156</td>\n",
              "    </tr>\n",
              "    <tr>\n",
              "      <th>min</th>\n",
              "      <td>0.000000</td>\n",
              "    </tr>\n",
              "    <tr>\n",
              "      <th>25%</th>\n",
              "      <td>1.000000</td>\n",
              "    </tr>\n",
              "    <tr>\n",
              "      <th>50%</th>\n",
              "      <td>7.000000</td>\n",
              "    </tr>\n",
              "    <tr>\n",
              "      <th>75%</th>\n",
              "      <td>29.000000</td>\n",
              "    </tr>\n",
              "    <tr>\n",
              "      <th>max</th>\n",
              "      <td>638.000000</td>\n",
              "    </tr>\n",
              "  </tbody>\n",
              "</table>\n",
              "</div><br><label><b>dtype:</b> float64</label>"
            ]
          },
          "metadata": {},
          "execution_count": 96
        }
      ]
    },
    {
      "cell_type": "code",
      "source": [
        "count = df[df['number of reviews'] == 1024]['number of reviews'].count()\n",
        "print(f\"The value 1024 appears {count} times in the 'number of reviews' column.\")"
      ],
      "metadata": {
        "colab": {
          "base_uri": "https://localhost:8080/"
        },
        "id": "010VW7hmfGB4",
        "outputId": "3a08ca4b-6c96-49af-bceb-cae5a252fabc"
      },
      "execution_count": null,
      "outputs": [
        {
          "output_type": "stream",
          "name": "stdout",
          "text": [
            "The value 1024 appears 0 times in the 'number of reviews' column.\n"
          ]
        }
      ]
    },
    {
      "cell_type": "code",
      "source": [
        "\n",
        "sns.boxplot(x=df['number of reviews'],color='lightblue')\n",
        "plt.title('Box Plot of number of reviews')\n",
        "plt.show()"
      ],
      "metadata": {
        "colab": {
          "base_uri": "https://localhost:8080/",
          "height": 472
        },
        "id": "xuIXjVkKfuqG",
        "outputId": "2a6c2dfb-83f6-4d83-cc79-31c149026a84"
      },
      "execution_count": null,
      "outputs": [
        {
          "output_type": "display_data",
          "data": {
            "text/plain": [
              "<Figure size 640x480 with 1 Axes>"
            ],
            "image/png": "[encoded data removed]"
          },
          "metadata": {}
        }
      ]
    },
    {
      "cell_type": "code",
      "source": [
        "\n",
        "mean_num_review= df['number of reviews'].mean()\n",
        "print(mean_num_review)\n",
        "df['number of reviews']=df['number of reviews'].fillna(mean_num_review)\n",
        "\n",
        "# Verify that there are no more NaN values in the column\n",
        "print(df['number of reviews'].isna().sum())\n",
        "\n"
      ],
      "metadata": {
        "colab": {
          "base_uri": "https://localhost:8080/"
        },
        "id": "GhZva4SUFBUt",
        "outputId": "ef2a4442-953e-402b-c74d-2c56b42be7ec"
      },
      "execution_count": null,
      "outputs": [
        {
          "output_type": "stream",
          "name": "stdout",
          "text": [
            "26.03980951626636\n",
            "0\n"
          ]
        }
      ]
    },
    {
      "cell_type": "markdown",
      "source": [
        "**Host name and Name**"
      ],
      "metadata": {
        "id": "ybLN0aLBhlR-"
      }
    },
    {
      "cell_type": "code",
      "source": [
        "df['host name']=df['host name'].fillna('Unknown')\n",
        "df['NAME']=df['NAME'].fillna('Unknown')\n",
        "\n",
        "print(df['host name'].isna().sum())\n",
        "print(df['NAME'].isna().sum())"
      ],
      "metadata": {
        "colab": {
          "base_uri": "https://localhost:8080/"
        },
        "id": "V2QdIaM-ByS9",
        "outputId": "aa3627ea-f790-432f-d0cb-e1ccf688c6c3"
      },
      "execution_count": null,
      "outputs": [
        {
          "output_type": "stream",
          "name": "stdout",
          "text": [
            "0\n",
            "0\n"
          ]
        }
      ]
    },
    {
      "cell_type": "code",
      "source": [
        "df['host_identity_verified'].describe()"
      ],
      "metadata": {
        "colab": {
          "base_uri": "https://localhost:8080/",
          "height": 209
        },
        "id": "cNUNeCOEkFYN",
        "outputId": "ab33b71f-0d17-4fbc-b8e2-8d3cac58473e"
      },
      "execution_count": null,
      "outputs": [
        {
          "output_type": "execute_result",
          "data": {
            "text/plain": [
              "count          100903\n",
              "unique              2\n",
              "top       unconfirmed\n",
              "freq            50476\n",
              "Name: host_identity_verified, dtype: object"
            ],
            "text/html": [
              "<div>\n",
              "<style scoped>\n",
              "    .dataframe tbody tr th:only-of-type {\n",
              "        vertical-align: middle;\n",
              "    }\n",
              "\n",
              "    .dataframe tbody tr th {\n",
              "        vertical-align: top;\n",
              "    }\n",
              "\n",
              "    .dataframe thead th {\n",
              "        text-align: right;\n",
              "    }\n",
              "</style>\n",
              "<table border=\"1\" class=\"dataframe\">\n",
              "  <thead>\n",
              "    <tr style=\"text-align: right;\">\n",
              "      <th></th>\n",
              "      <th>host_identity_verified</th>\n",
              "    </tr>\n",
              "  </thead>\n",
              "  <tbody>\n",
              "    <tr>\n",
              "      <th>count</th>\n",
              "      <td>100903</td>\n",
              "    </tr>\n",
              "    <tr>\n",
              "      <th>unique</th>\n",
              "      <td>2</td>\n",
              "    </tr>\n",
              "    <tr>\n",
              "      <th>top</th>\n",
              "      <td>unconfirmed</td>\n",
              "    </tr>\n",
              "    <tr>\n",
              "      <th>freq</th>\n",
              "      <td>50476</td>\n",
              "    </tr>\n",
              "  </tbody>\n",
              "</table>\n",
              "</div><br><label><b>dtype:</b> object</label>"
            ]
          },
          "metadata": {},
          "execution_count": 101
        }
      ]
    },
    {
      "cell_type": "code",
      "source": [
        "# dealing with null values in host_identity_verified\n",
        "\n",
        "df['host_identity_verified']= df.host_identity_verified.fillna('unconfirmed')"
      ],
      "metadata": {
        "id": "tbPdP12Wia_6"
      },
      "execution_count": null,
      "outputs": []
    },
    {
      "cell_type": "markdown",
      "source": [
        "**Dealing with Null value on neighbourhood Columns**"
      ],
      "metadata": {
        "id": "xc2Pg3O0jYWk"
      }
    },
    {
      "cell_type": "code",
      "source": [
        "df['neighbourhood group'].describe()"
      ],
      "metadata": {
        "colab": {
          "base_uri": "https://localhost:8080/",
          "height": 209
        },
        "id": "meQy-KRWjCcx",
        "outputId": "0229151d-ad11-49ee-bd88-3347184abc72"
      },
      "execution_count": null,
      "outputs": [
        {
          "output_type": "execute_result",
          "data": {
            "text/plain": [
              "count        101160\n",
              "unique            7\n",
              "top       Manhattan\n",
              "freq          43308\n",
              "Name: neighbourhood group, dtype: object"
            ],
            "text/html": [
              "<div>\n",
              "<style scoped>\n",
              "    .dataframe tbody tr th:only-of-type {\n",
              "        vertical-align: middle;\n",
              "    }\n",
              "\n",
              "    .dataframe tbody tr th {\n",
              "        vertical-align: top;\n",
              "    }\n",
              "\n",
              "    .dataframe thead th {\n",
              "        text-align: right;\n",
              "    }\n",
              "</style>\n",
              "<table border=\"1\" class=\"dataframe\">\n",
              "  <thead>\n",
              "    <tr style=\"text-align: right;\">\n",
              "      <th></th>\n",
              "      <th>neighbourhood group</th>\n",
              "    </tr>\n",
              "  </thead>\n",
              "  <tbody>\n",
              "    <tr>\n",
              "      <th>count</th>\n",
              "      <td>101160</td>\n",
              "    </tr>\n",
              "    <tr>\n",
              "      <th>unique</th>\n",
              "      <td>7</td>\n",
              "    </tr>\n",
              "    <tr>\n",
              "      <th>top</th>\n",
              "      <td>Manhattan</td>\n",
              "    </tr>\n",
              "    <tr>\n",
              "      <th>freq</th>\n",
              "      <td>43308</td>\n",
              "    </tr>\n",
              "  </tbody>\n",
              "</table>\n",
              "</div><br><label><b>dtype:</b> object</label>"
            ]
          },
          "metadata": {},
          "execution_count": 103
        }
      ]
    },
    {
      "cell_type": "code",
      "source": [
        "\n",
        "\n",
        "# Fix 'neighbourhood group' names\n",
        "df['neighbourhood group'] = df['neighbourhood group'].replace({'manhatan': 'Manhattan', 'brookln': 'Brooklyn'})"
      ],
      "metadata": {
        "id": "KyxMTNGYMStI"
      },
      "execution_count": null,
      "outputs": []
    },
    {
      "cell_type": "code",
      "source": [
        "df['neighbourhood'].describe()"
      ],
      "metadata": {
        "colab": {
          "base_uri": "https://localhost:8080/",
          "height": 209
        },
        "id": "KTBtWcljjJVG",
        "outputId": "2ac8bb67-cc21-4936-9151-8a66f21d2954"
      },
      "execution_count": null,
      "outputs": [
        {
          "output_type": "execute_result",
          "data": {
            "text/plain": [
              "count                 101173\n",
              "unique                   224\n",
              "top       Bedford-Stuyvesant\n",
              "freq                    7838\n",
              "Name: neighbourhood, dtype: object"
            ],
            "text/html": [
              "<div>\n",
              "<style scoped>\n",
              "    .dataframe tbody tr th:only-of-type {\n",
              "        vertical-align: middle;\n",
              "    }\n",
              "\n",
              "    .dataframe tbody tr th {\n",
              "        vertical-align: top;\n",
              "    }\n",
              "\n",
              "    .dataframe thead th {\n",
              "        text-align: right;\n",
              "    }\n",
              "</style>\n",
              "<table border=\"1\" class=\"dataframe\">\n",
              "  <thead>\n",
              "    <tr style=\"text-align: right;\">\n",
              "      <th></th>\n",
              "      <th>neighbourhood</th>\n",
              "    </tr>\n",
              "  </thead>\n",
              "  <tbody>\n",
              "    <tr>\n",
              "      <th>count</th>\n",
              "      <td>101173</td>\n",
              "    </tr>\n",
              "    <tr>\n",
              "      <th>unique</th>\n",
              "      <td>224</td>\n",
              "    </tr>\n",
              "    <tr>\n",
              "      <th>top</th>\n",
              "      <td>Bedford-Stuyvesant</td>\n",
              "    </tr>\n",
              "    <tr>\n",
              "      <th>freq</th>\n",
              "      <td>7838</td>\n",
              "    </tr>\n",
              "  </tbody>\n",
              "</table>\n",
              "</div><br><label><b>dtype:</b> object</label>"
            ]
          },
          "metadata": {},
          "execution_count": 105
        }
      ]
    },
    {
      "cell_type": "code",
      "source": [
        "df['neighbourhood group']=df['neighbourhood group'].fillna('Manhattan')\n",
        "df['neighbourhood']=df.neighbourhood.fillna('Bedford-Stuyvesant')\n"
      ],
      "metadata": {
        "id": "p-uIVc_ziuiZ"
      },
      "execution_count": null,
      "outputs": []
    },
    {
      "cell_type": "markdown",
      "source": [
        "**Country Columns**"
      ],
      "metadata": {
        "id": "j7-DW-Nvjy_f"
      }
    },
    {
      "cell_type": "code",
      "source": [
        "\n",
        "unique_countries = df['country'].unique()\n",
        "print(unique_countries)\n",
        "df['country']=df['country'].fillna('United States')\n",
        "df['country code']=df['country code'].fillna('US')\n",
        "\n",
        "\n",
        "print(df['country'].isna().sum())\n"
      ],
      "metadata": {
        "colab": {
          "base_uri": "https://localhost:8080/"
        },
        "id": "KsW8SXy7D2QF",
        "outputId": "cd1182ba-baef-43fc-b70f-0c805b3842c5"
      },
      "execution_count": null,
      "outputs": [
        {
          "output_type": "stream",
          "name": "stdout",
          "text": [
            "['United States' nan]\n",
            "0\n"
          ]
        }
      ]
    },
    {
      "cell_type": "markdown",
      "source": [
        "**Check Price and Replace Null value**"
      ],
      "metadata": {
        "id": "uq8sRHifU18i"
      }
    },
    {
      "cell_type": "code",
      "source": [
        "type(df['price'][0])\n",
        "df['price'] = pd.to_numeric(df['price'].str.replace('[^\\d.]', '', regex=True).str.strip(), errors='coerce')\n",
        "max_price = df['price'].max()\n",
        "min_price = df['price'].min()\n",
        "print(max_price)\n",
        "print(min_price)\n"
      ],
      "metadata": {
        "colab": {
          "base_uri": "https://localhost:8080/"
        },
        "id": "TIEI1HqdIMJV",
        "outputId": "b12a64b4-1874-4407-82a8-4ee7cd415ba5"
      },
      "execution_count": null,
      "outputs": [
        {
          "output_type": "stream",
          "name": "stdout",
          "text": [
            "1200.0\n",
            "50.0\n"
          ]
        }
      ]
    },
    {
      "cell_type": "code",
      "source": [
        "df['price'].describe()"
      ],
      "metadata": {
        "colab": {
          "base_uri": "https://localhost:8080/",
          "height": 335
        },
        "id": "VqhwPqTnUPOU",
        "outputId": "91c89a0b-f491-45cc-8e74-2b46f70059f6"
      },
      "execution_count": null,
      "outputs": [
        {
          "output_type": "execute_result",
          "data": {
            "text/plain": [
              "count    100943.000000\n",
              "mean        625.121574\n",
              "std         331.663366\n",
              "min          50.000000\n",
              "25%         340.000000\n",
              "50%         624.000000\n",
              "75%         913.000000\n",
              "max        1200.000000\n",
              "Name: price, dtype: float64"
            ],
            "text/html": [
              "<div>\n",
              "<style scoped>\n",
              "    .dataframe tbody tr th:only-of-type {\n",
              "        vertical-align: middle;\n",
              "    }\n",
              "\n",
              "    .dataframe tbody tr th {\n",
              "        vertical-align: top;\n",
              "    }\n",
              "\n",
              "    .dataframe thead th {\n",
              "        text-align: right;\n",
              "    }\n",
              "</style>\n",
              "<table border=\"1\" class=\"dataframe\">\n",
              "  <thead>\n",
              "    <tr style=\"text-align: right;\">\n",
              "      <th></th>\n",
              "      <th>price</th>\n",
              "    </tr>\n",
              "  </thead>\n",
              "  <tbody>\n",
              "    <tr>\n",
              "      <th>count</th>\n",
              "      <td>100943.000000</td>\n",
              "    </tr>\n",
              "    <tr>\n",
              "      <th>mean</th>\n",
              "      <td>625.121574</td>\n",
              "    </tr>\n",
              "    <tr>\n",
              "      <th>std</th>\n",
              "      <td>331.663366</td>\n",
              "    </tr>\n",
              "    <tr>\n",
              "      <th>min</th>\n",
              "      <td>50.000000</td>\n",
              "    </tr>\n",
              "    <tr>\n",
              "      <th>25%</th>\n",
              "      <td>340.000000</td>\n",
              "    </tr>\n",
              "    <tr>\n",
              "      <th>50%</th>\n",
              "      <td>624.000000</td>\n",
              "    </tr>\n",
              "    <tr>\n",
              "      <th>75%</th>\n",
              "      <td>913.000000</td>\n",
              "    </tr>\n",
              "    <tr>\n",
              "      <th>max</th>\n",
              "      <td>1200.000000</td>\n",
              "    </tr>\n",
              "  </tbody>\n",
              "</table>\n",
              "</div><br><label><b>dtype:</b> float64</label>"
            ]
          },
          "metadata": {},
          "execution_count": 109
        }
      ]
    },
    {
      "cell_type": "code",
      "source": [
        "#A histogram gives a rough idea of the data's distribution\n",
        "\n",
        "plt.hist(df['price'], bins=30, edgecolor='k')\n",
        "plt.title('Histogram of Price')\n",
        "plt.xlabel('Price')\n",
        "plt.ylabel('Frequency')\n",
        "plt.show()\n",
        "\n"
      ],
      "metadata": {
        "colab": {
          "base_uri": "https://localhost:8080/",
          "height": 472
        },
        "id": "btBmWnhOHCE0",
        "outputId": "23af7294-205b-4dc7-e2b4-0030f4af1de3"
      },
      "execution_count": null,
      "outputs": [
        {
          "output_type": "display_data",
          "data": {
            "text/plain": [
              "<Figure size 640x480 with 1 Axes>"
            ],
            "image/png": "[encoded data removed]"
          },
          "metadata": {}
        }
      ]
    },
    {
      "cell_type": "code",
      "source": [
        "#A box plot highlights outliers as points outside the \"whiskers.\"\n",
        "\n",
        "\n",
        "sns.boxplot(x=df['price'])\n",
        "plt.title('Box Plot of Price')\n",
        "plt.show()\n"
      ],
      "metadata": {
        "colab": {
          "base_uri": "https://localhost:8080/",
          "height": 472
        },
        "id": "bHY0G36eIEUs",
        "outputId": "c04bc43b-760d-402f-e8b6-d032d3d17a2d"
      },
      "execution_count": null,
      "outputs": [
        {
          "output_type": "display_data",
          "data": {
            "text/plain": [
              "<Figure size 640x480 with 1 Axes>"
            ],
            "image/png": "[encoded data removed]"
          },
          "metadata": {}
        }
      ]
    },
    {
      "cell_type": "markdown",
      "source": [
        "  No outlier on price depend on previous graph"
      ],
      "metadata": {
        "id": "aFah6RtlMzXW"
      }
    },
    {
      "cell_type": "code",
      "source": [
        "#A quantile-quantile plot compares  data's distribution to a normal distribution.\n",
        "\n",
        "\n",
        "import scipy.stats as stats\n",
        "\n",
        "stats.probplot(df['price'], dist=\"norm\", plot=plt)\n",
        "plt.title('Q-Q Plot')\n",
        "plt.show()\n"
      ],
      "metadata": {
        "colab": {
          "base_uri": "https://localhost:8080/",
          "height": 472
        },
        "id": "hFtxPZmnLAvi",
        "outputId": "a9775eb6-a3db-4cf5-d869-5e2216419213"
      },
      "execution_count": null,
      "outputs": [
        {
          "output_type": "display_data",
          "data": {
            "text/plain": [
              "<Figure size 640x480 with 1 Axes>"
            ],
            "image/png": "[encoded data removed]"
          },
          "metadata": {}
        }
      ]
    },
    {
      "cell_type": "markdown",
      "source": [
        "**left skewed on price** ,\n",
        "i have skew data on price so we use median to fill nan value\n",
        "\n",
        "\n"
      ],
      "metadata": {
        "id": "Sta3jEVcM-UC"
      }
    },
    {
      "cell_type": "code",
      "source": [
        "median=df.price.median()\n",
        "print(median)\n",
        "df['price']=df['price'].fillna(median)\n"
      ],
      "metadata": {
        "colab": {
          "base_uri": "https://localhost:8080/"
        },
        "id": "V6rPkYB6MWFM",
        "outputId": "15b97b73-2274-4c34-9d7c-26b1442b87b3"
      },
      "execution_count": null,
      "outputs": [
        {
          "output_type": "stream",
          "name": "stdout",
          "text": [
            "624.0\n"
          ]
        }
      ]
    },
    {
      "cell_type": "markdown",
      "source": [
        "**Fill Null value on minimum nights**"
      ],
      "metadata": {
        "id": "0mjPnR7oMGni"
      }
    },
    {
      "cell_type": "code",
      "source": [
        "min=df['minimum nights'].min()\n",
        "max=df['minimum nights'].max()\n",
        "print(min)\n",
        "print(max)\n",
        "\n"
      ],
      "metadata": {
        "colab": {
          "base_uri": "https://localhost:8080/"
        },
        "id": "nAvQfUUuLKTY",
        "outputId": "3f51ac89-55fd-4253-c044-49efa540034f"
      },
      "execution_count": null,
      "outputs": [
        {
          "output_type": "stream",
          "name": "stdout",
          "text": [
            "-1223.0\n",
            "5645.0\n"
          ]
        }
      ]
    },
    {
      "cell_type": "code",
      "source": [
        "#replace negative value\n",
        "df['minimum nights'] = np.where(df['minimum nights']<0,df['minimum nights'].abs(),df['minimum nights'])\n",
        "#check statistic metric\n",
        "df['minimum nights'].describe()"
      ],
      "metadata": {
        "colab": {
          "base_uri": "https://localhost:8080/",
          "height": 335
        },
        "id": "NdekJT1CRYSa",
        "outputId": "a2f31906-8e3b-4b91-ae65-898572e1de5c"
      },
      "execution_count": null,
      "outputs": [
        {
          "output_type": "execute_result",
          "data": {
            "text/plain": [
              "count    100790.000000\n",
              "mean          8.270364\n",
              "std          30.743423\n",
              "min           1.000000\n",
              "25%           2.000000\n",
              "50%           3.000000\n",
              "75%           5.000000\n",
              "max        5645.000000\n",
              "Name: minimum nights, dtype: float64"
            ],
            "text/html": [
              "<div>\n",
              "<style scoped>\n",
              "    .dataframe tbody tr th:only-of-type {\n",
              "        vertical-align: middle;\n",
              "    }\n",
              "\n",
              "    .dataframe tbody tr th {\n",
              "        vertical-align: top;\n",
              "    }\n",
              "\n",
              "    .dataframe thead th {\n",
              "        text-align: right;\n",
              "    }\n",
              "</style>\n",
              "<table border=\"1\" class=\"dataframe\">\n",
              "  <thead>\n",
              "    <tr style=\"text-align: right;\">\n",
              "      <th></th>\n",
              "      <th>minimum nights</th>\n",
              "    </tr>\n",
              "  </thead>\n",
              "  <tbody>\n",
              "    <tr>\n",
              "      <th>count</th>\n",
              "      <td>100790.000000</td>\n",
              "    </tr>\n",
              "    <tr>\n",
              "      <th>mean</th>\n",
              "      <td>8.270364</td>\n",
              "    </tr>\n",
              "    <tr>\n",
              "      <th>std</th>\n",
              "      <td>30.743423</td>\n",
              "    </tr>\n",
              "    <tr>\n",
              "      <th>min</th>\n",
              "      <td>1.000000</td>\n",
              "    </tr>\n",
              "    <tr>\n",
              "      <th>25%</th>\n",
              "      <td>2.000000</td>\n",
              "    </tr>\n",
              "    <tr>\n",
              "      <th>50%</th>\n",
              "      <td>3.000000</td>\n",
              "    </tr>\n",
              "    <tr>\n",
              "      <th>75%</th>\n",
              "      <td>5.000000</td>\n",
              "    </tr>\n",
              "    <tr>\n",
              "      <th>max</th>\n",
              "      <td>5645.000000</td>\n",
              "    </tr>\n",
              "  </tbody>\n",
              "</table>\n",
              "</div><br><label><b>dtype:</b> float64</label>"
            ]
          },
          "metadata": {},
          "execution_count": 115
        }
      ]
    },
    {
      "cell_type": "code",
      "source": [
        "\n",
        "# Count occurrences of the value 5645 in the 'minimum nights' column\n",
        "count_5645 = df[df['minimum nights'] == 5645]['minimum nights'].count()\n",
        "print(f\"The value 5645 appears {count_5645} times in the 'minimum nights' column.\")"
      ],
      "metadata": {
        "colab": {
          "base_uri": "https://localhost:8080/"
        },
        "id": "osyQ34AGR0Gs",
        "outputId": "d8fd53e3-f978-47e8-d2ae-a039168cf89d"
      },
      "execution_count": null,
      "outputs": [
        {
          "output_type": "stream",
          "name": "stdout",
          "text": [
            "The value 5645 appears 1 times in the 'minimum nights' column.\n"
          ]
        }
      ]
    },
    {
      "cell_type": "code",
      "source": [
        "\n",
        "\n",
        "sns.boxplot(x=df['minimum nights'])\n",
        "plt.title('Box Plot of minimum nights')\n",
        "plt.show()\n"
      ],
      "metadata": {
        "colab": {
          "base_uri": "https://localhost:8080/",
          "height": 472
        },
        "id": "otrm_teqlD8N",
        "outputId": "0a975330-ca58-4ece-96c7-f38ba442e58c"
      },
      "execution_count": null,
      "outputs": [
        {
          "output_type": "display_data",
          "data": {
            "text/plain": [
              "<Figure size 640x480 with 1 Axes>"
            ],
            "image/png": "[encoded data removed]"
          },
          "metadata": {}
        }
      ]
    },
    {
      "cell_type": "markdown",
      "source": [
        "The median is the most robust choice because the column has a very high standard deviation (30.54) and an extreme maximum value (5645). These indicate outliers, and the median is less affected by them."
      ],
      "metadata": {
        "id": "njTgdk3dTppC"
      }
    },
    {
      "cell_type": "code",
      "source": [
        "df['minimum nights'] = df['minimum nights'].fillna(df['minimum nights'].median())\n",
        "print(df['minimum nights'].isna().sum())\n",
        "\n"
      ],
      "metadata": {
        "colab": {
          "base_uri": "https://localhost:8080/"
        },
        "id": "WUV4iO-wTWUx",
        "outputId": "64ae543b-4f25-4b2b-abc8-4dfc6dfb4eee"
      },
      "execution_count": null,
      "outputs": [
        {
          "output_type": "stream",
          "name": "stdout",
          "text": [
            "0\n"
          ]
        }
      ]
    },
    {
      "cell_type": "code",
      "source": [
        "df['minimum nights'].describe()"
      ],
      "metadata": {
        "colab": {
          "base_uri": "https://localhost:8080/",
          "height": 335
        },
        "id": "y8WfC2homLvZ",
        "outputId": "c71d6317-85fe-456a-f422-e45eb0f8e9ae"
      },
      "execution_count": null,
      "outputs": [
        {
          "output_type": "execute_result",
          "data": {
            "text/plain": [
              "count    101189.000000\n",
              "mean          8.249582\n",
              "std          30.684528\n",
              "min           1.000000\n",
              "25%           2.000000\n",
              "50%           3.000000\n",
              "75%           5.000000\n",
              "max        5645.000000\n",
              "Name: minimum nights, dtype: float64"
            ],
            "text/html": [
              "<div>\n",
              "<style scoped>\n",
              "    .dataframe tbody tr th:only-of-type {\n",
              "        vertical-align: middle;\n",
              "    }\n",
              "\n",
              "    .dataframe tbody tr th {\n",
              "        vertical-align: top;\n",
              "    }\n",
              "\n",
              "    .dataframe thead th {\n",
              "        text-align: right;\n",
              "    }\n",
              "</style>\n",
              "<table border=\"1\" class=\"dataframe\">\n",
              "  <thead>\n",
              "    <tr style=\"text-align: right;\">\n",
              "      <th></th>\n",
              "      <th>minimum nights</th>\n",
              "    </tr>\n",
              "  </thead>\n",
              "  <tbody>\n",
              "    <tr>\n",
              "      <th>count</th>\n",
              "      <td>101189.000000</td>\n",
              "    </tr>\n",
              "    <tr>\n",
              "      <th>mean</th>\n",
              "      <td>8.249582</td>\n",
              "    </tr>\n",
              "    <tr>\n",
              "      <th>std</th>\n",
              "      <td>30.684528</td>\n",
              "    </tr>\n",
              "    <tr>\n",
              "      <th>min</th>\n",
              "      <td>1.000000</td>\n",
              "    </tr>\n",
              "    <tr>\n",
              "      <th>25%</th>\n",
              "      <td>2.000000</td>\n",
              "    </tr>\n",
              "    <tr>\n",
              "      <th>50%</th>\n",
              "      <td>3.000000</td>\n",
              "    </tr>\n",
              "    <tr>\n",
              "      <th>75%</th>\n",
              "      <td>5.000000</td>\n",
              "    </tr>\n",
              "    <tr>\n",
              "      <th>max</th>\n",
              "      <td>5645.000000</td>\n",
              "    </tr>\n",
              "  </tbody>\n",
              "</table>\n",
              "</div><br><label><b>dtype:</b> float64</label>"
            ]
          },
          "metadata": {},
          "execution_count": 119
        }
      ]
    },
    {
      "cell_type": "code",
      "source": [
        "df.sort_values(by='minimum nights', ascending=False )\n"
      ],
      "metadata": {
        "colab": {
          "base_uri": "https://localhost:8080/",
          "height": 1000
        },
        "id": "9Rs0Guj3mad1",
        "outputId": "65eff0bf-85a0-42d4-c460-225119355c95"
      },
      "execution_count": null,
      "outputs": [
        {
          "output_type": "execute_result",
          "data": {
            "text/plain": [
              "                                                     NAME      host id  \\\n",
              "42398                           Bedroom in Prime Bushwick  29378706293   \n",
              "350                    LARGE 1BR (CONV 2BR) CROWN HEIGHTS  66643346348   \n",
              "42407    Modern & Cozy 2 BR Private Apartment in Brooklyn  83669529485   \n",
              "5768                     Prime W. Village location 1 bdrm  62526606377   \n",
              "42446             Cozy room in bright, spacious apartment  84040511136   \n",
              "...                                                   ...          ...   \n",
              "51931   Huge modern townhouse - 3 BR/ 2 bath APT+ outdoor  19940189234   \n",
              "51933                      Midtown West Hotel NYC (queen)  36210532459   \n",
              "51937        Blue Moon Hotel | Stunning Classic King Unit  38636794025   \n",
              "51943                                    The Sunset Three  36522864919   \n",
              "102598                               585 sf Luxury Studio  68170633372   \n",
              "\n",
              "       host_identity_verified  host name neighbourhood group  \\\n",
              "42398                verified      Elena            Brooklyn   \n",
              "350                  verified    Russell            Brooklyn   \n",
              "42407             unconfirmed         Gk            Brooklyn   \n",
              "5768                 verified  Genevieve           Manhattan   \n",
              "42446                verified     Steven               Bronx   \n",
              "...                       ...        ...                 ...   \n",
              "51931             unconfirmed      Alice            Brooklyn   \n",
              "51933                verified        Joe           Manhattan   \n",
              "51937                verified  Blue Moon           Manhattan   \n",
              "51943                verified        Ana            Brooklyn   \n",
              "102598            unconfirmed    Rebecca           Manhattan   \n",
              "\n",
              "            neighbourhood        country country code instant_bookable  \\\n",
              "42398            Bushwick  United States           US             True   \n",
              "350         Crown Heights  United States           US            False   \n",
              "42407           Bay Ridge  United States           US            False   \n",
              "5768    Greenwich Village  United States           US            False   \n",
              "42446         Hunts Point  United States           US            False   \n",
              "...                   ...            ...          ...              ...   \n",
              "51931           Bay Ridge  United States           US             True   \n",
              "51933             Chelsea  United States           US            False   \n",
              "51937     Lower East Side  United States           US            False   \n",
              "51943         Sunset Park  United States           US             True   \n",
              "102598    Upper West Side  United States           US            False   \n",
              "\n",
              "       cancellation_policy        room type  Construction year   price  \\\n",
              "42398             flexible     Private room             2013.0   453.0   \n",
              "350               flexible  Entire home/apt             2003.0  1142.0   \n",
              "42407             moderate  Entire home/apt             2022.0   843.0   \n",
              "5768              moderate  Entire home/apt             2008.0   379.0   \n",
              "42446             moderate     Private room             2003.0  1200.0   \n",
              "...                    ...              ...                ...     ...   \n",
              "51931             flexible  Entire home/apt             2014.0   352.0   \n",
              "51933             moderate     Private room             2020.0   329.0   \n",
              "51937             moderate  Entire home/apt             2017.0   132.0   \n",
              "51943               strict  Entire home/apt             2005.0    71.0   \n",
              "102598            flexible  Entire home/apt             2010.0  1032.0   \n",
              "\n",
              "       service fee  minimum nights  number of reviews  review rate number  \\\n",
              "42398         $91           5645.0                1.0                 4.0   \n",
              "350          $228           3455.0                0.0                 1.0   \n",
              "42407        $169           2645.0               14.0                 3.0   \n",
              "5768          $76           1250.0                2.0                 2.0   \n",
              "42446        $240           1223.0                0.0                 2.0   \n",
              "...            ...             ...                ...                 ...   \n",
              "51931         $70              1.0               39.0                 3.0   \n",
              "51933         $66              1.0               36.0                 4.0   \n",
              "51937         $26              1.0                6.0                 5.0   \n",
              "51943         $14              1.0               22.0                 4.0   \n",
              "102598       $206              1.0                0.0                 3.0   \n",
              "\n",
              "        calculated host listings count  availability 365  reviews per month  \n",
              "42398                              1.0               0.0           0.880000  \n",
              "350                                1.0               NaN           1.374022  \n",
              "42407                              1.0             271.0           3.590000  \n",
              "5768                               1.0              26.0           0.030000  \n",
              "42446                              4.0             341.0           1.374022  \n",
              "...                                ...               ...                ...  \n",
              "51931                              2.0             224.0           4.850000  \n",
              "51933                             23.0              86.0           5.930000  \n",
              "51937                             27.0             352.0           1.080000  \n",
              "51943                              3.0             328.0           4.490000  \n",
              "102598                             1.0              69.0           1.374022  \n",
              "\n",
              "[101189 rows x 20 columns]"
            ],
            "text/html": [
              "\n",
              "  <div id=\"df-5c3e3ab6-3db0-4ddc-8b8b-566f359a906b\" class=\"colab-df-container\">\n",
              "    <div>\n",
              "<style scoped>\n",
              "    .dataframe tbody tr th:only-of-type {\n",
              "        vertical-align: middle;\n",
              "    }\n",
              "\n",
              "    .dataframe tbody tr th {\n",
              "        vertical-align: top;\n",
              "    }\n",
              "\n",
              "    .dataframe thead th {\n",
              "        text-align: right;\n",
              "    }\n",
              "</style>\n",
              "<table border=\"1\" class=\"dataframe\">\n",
              "  <thead>\n",
              "    <tr style=\"text-align: right;\">\n",
              "      <th></th>\n",
              "      <th>NAME</th>\n",
              "      <th>host id</th>\n",
              "      <th>host_identity_verified</th>\n",
              "      <th>host name</th>\n",
              "      <th>neighbourhood group</th>\n",
              "      <th>neighbourhood</th>\n",
              "      <th>country</th>\n",
              "      <th>country code</th>\n",
              "      <th>instant_bookable</th>\n",
              "      <th>cancellation_policy</th>\n",
              "      <th>room type</th>\n",
              "      <th>Construction year</th>\n",
              "      <th>price</th>\n",
              "      <th>service fee</th>\n",
              "      <th>minimum nights</th>\n",
              "      <th>number of reviews</th>\n",
              "      <th>review rate number</th>\n",
              "      <th>calculated host listings count</th>\n",
              "      <th>availability 365</th>\n",
              "      <th>reviews per month</th>\n",
              "    </tr>\n",
              "  </thead>\n",
              "  <tbody>\n",
              "    <tr>\n",
              "      <th>42398</th>\n",
              "      <td>Bedroom in Prime Bushwick</td>\n",
              "      <td>29378706293</td>\n",
              "      <td>verified</td>\n",
              "      <td>Elena</td>\n",
              "      <td>Brooklyn</td>\n",
              "      <td>Bushwick</td>\n",
              "      <td>United States</td>\n",
              "      <td>US</td>\n",
              "      <td>True</td>\n",
              "      <td>flexible</td>\n",
              "      <td>Private room</td>\n",
              "      <td>2013.0</td>\n",
              "      <td>453.0</td>\n",
              "      <td>$91</td>\n",
              "      <td>5645.0</td>\n",
              "      <td>1.0</td>\n",
              "      <td>4.0</td>\n",
              "      <td>1.0</td>\n",
              "      <td>0.0</td>\n",
              "      <td>0.880000</td>\n",
              "    </tr>\n",
              "    <tr>\n",
              "      <th>350</th>\n",
              "      <td>LARGE 1BR (CONV 2BR) CROWN HEIGHTS</td>\n",
              "      <td>66643346348</td>\n",
              "      <td>verified</td>\n",
              "      <td>Russell</td>\n",
              "      <td>Brooklyn</td>\n",
              "      <td>Crown Heights</td>\n",
              "      <td>United States</td>\n",
              "      <td>US</td>\n",
              "      <td>False</td>\n",
              "      <td>flexible</td>\n",
              "      <td>Entire home/apt</td>\n",
              "      <td>2003.0</td>\n",
              "      <td>1142.0</td>\n",
              "      <td>$228</td>\n",
              "      <td>3455.0</td>\n",
              "      <td>0.0</td>\n",
              "      <td>1.0</td>\n",
              "      <td>1.0</td>\n",
              "      <td>NaN</td>\n",
              "      <td>1.374022</td>\n",
              "    </tr>\n",
              "    <tr>\n",
              "      <th>42407</th>\n",
              "      <td>Modern &amp; Cozy 2 BR Private Apartment in Brooklyn</td>\n",
              "      <td>83669529485</td>\n",
              "      <td>unconfirmed</td>\n",
              "      <td>Gk</td>\n",
              "      <td>Brooklyn</td>\n",
              "      <td>Bay Ridge</td>\n",
              "      <td>United States</td>\n",
              "      <td>US</td>\n",
              "      <td>False</td>\n",
              "      <td>moderate</td>\n",
              "      <td>Entire home/apt</td>\n",
              "      <td>2022.0</td>\n",
              "      <td>843.0</td>\n",
              "      <td>$169</td>\n",
              "      <td>2645.0</td>\n",
              "      <td>14.0</td>\n",
              "      <td>3.0</td>\n",
              "      <td>1.0</td>\n",
              "      <td>271.0</td>\n",
              "      <td>3.590000</td>\n",
              "    </tr>\n",
              "    <tr>\n",
              "      <th>5768</th>\n",
              "      <td>Prime W. Village location 1 bdrm</td>\n",
              "      <td>62526606377</td>\n",
              "      <td>verified</td>\n",
              "      <td>Genevieve</td>\n",
              "      <td>Manhattan</td>\n",
              "      <td>Greenwich Village</td>\n",
              "      <td>United States</td>\n",
              "      <td>US</td>\n",
              "      <td>False</td>\n",
              "      <td>moderate</td>\n",
              "      <td>Entire home/apt</td>\n",
              "      <td>2008.0</td>\n",
              "      <td>379.0</td>\n",
              "      <td>$76</td>\n",
              "      <td>1250.0</td>\n",
              "      <td>2.0</td>\n",
              "      <td>2.0</td>\n",
              "      <td>1.0</td>\n",
              "      <td>26.0</td>\n",
              "      <td>0.030000</td>\n",
              "    </tr>\n",
              "    <tr>\n",
              "      <th>42446</th>\n",
              "      <td>Cozy room in bright, spacious apartment</td>\n",
              "      <td>84040511136</td>\n",
              "      <td>verified</td>\n",
              "      <td>Steven</td>\n",
              "      <td>Bronx</td>\n",
              "      <td>Hunts Point</td>\n",
              "      <td>United States</td>\n",
              "      <td>US</td>\n",
              "      <td>False</td>\n",
              "      <td>moderate</td>\n",
              "      <td>Private room</td>\n",
              "      <td>2003.0</td>\n",
              "      <td>1200.0</td>\n",
              "      <td>$240</td>\n",
              "      <td>1223.0</td>\n",
              "      <td>0.0</td>\n",
              "      <td>2.0</td>\n",
              "      <td>4.0</td>\n",
              "      <td>341.0</td>\n",
              "      <td>1.374022</td>\n",
              "    </tr>\n",
              "    <tr>\n",
              "      <th>...</th>\n",
              "      <td>...</td>\n",
              "      <td>...</td>\n",
              "      <td>...</td>\n",
              "      <td>...</td>\n",
              "      <td>...</td>\n",
              "      <td>...</td>\n",
              "      <td>...</td>\n",
              "      <td>...</td>\n",
              "      <td>...</td>\n",
              "      <td>...</td>\n",
              "      <td>...</td>\n",
              "      <td>...</td>\n",
              "      <td>...</td>\n",
              "      <td>...</td>\n",
              "      <td>...</td>\n",
              "      <td>...</td>\n",
              "      <td>...</td>\n",
              "      <td>...</td>\n",
              "      <td>...</td>\n",
              "      <td>...</td>\n",
              "    </tr>\n",
              "    <tr>\n",
              "      <th>51931</th>\n",
              "      <td>Huge modern townhouse - 3 BR/ 2 bath APT+ outdoor</td>\n",
              "      <td>19940189234</td>\n",
              "      <td>unconfirmed</td>\n",
              "      <td>Alice</td>\n",
              "      <td>Brooklyn</td>\n",
              "      <td>Bay Ridge</td>\n",
              "      <td>United States</td>\n",
              "      <td>US</td>\n",
              "      <td>True</td>\n",
              "      <td>flexible</td>\n",
              "      <td>Entire home/apt</td>\n",
              "      <td>2014.0</td>\n",
              "      <td>352.0</td>\n",
              "      <td>$70</td>\n",
              "      <td>1.0</td>\n",
              "      <td>39.0</td>\n",
              "      <td>3.0</td>\n",
              "      <td>2.0</td>\n",
              "      <td>224.0</td>\n",
              "      <td>4.850000</td>\n",
              "    </tr>\n",
              "    <tr>\n",
              "      <th>51933</th>\n",
              "      <td>Midtown West Hotel NYC (queen)</td>\n",
              "      <td>36210532459</td>\n",
              "      <td>verified</td>\n",
              "      <td>Joe</td>\n",
              "      <td>Manhattan</td>\n",
              "      <td>Chelsea</td>\n",
              "      <td>United States</td>\n",
              "      <td>US</td>\n",
              "      <td>False</td>\n",
              "      <td>moderate</td>\n",
              "      <td>Private room</td>\n",
              "      <td>2020.0</td>\n",
              "      <td>329.0</td>\n",
              "      <td>$66</td>\n",
              "      <td>1.0</td>\n",
              "      <td>36.0</td>\n",
              "      <td>4.0</td>\n",
              "      <td>23.0</td>\n",
              "      <td>86.0</td>\n",
              "      <td>5.930000</td>\n",
              "    </tr>\n",
              "    <tr>\n",
              "      <th>51937</th>\n",
              "      <td>Blue Moon Hotel | Stunning Classic King Unit</td>\n",
              "      <td>38636794025</td>\n",
              "      <td>verified</td>\n",
              "      <td>Blue Moon</td>\n",
              "      <td>Manhattan</td>\n",
              "      <td>Lower East Side</td>\n",
              "      <td>United States</td>\n",
              "      <td>US</td>\n",
              "      <td>False</td>\n",
              "      <td>moderate</td>\n",
              "      <td>Entire home/apt</td>\n",
              "      <td>2017.0</td>\n",
              "      <td>132.0</td>\n",
              "      <td>$26</td>\n",
              "      <td>1.0</td>\n",
              "      <td>6.0</td>\n",
              "      <td>5.0</td>\n",
              "      <td>27.0</td>\n",
              "      <td>352.0</td>\n",
              "      <td>1.080000</td>\n",
              "    </tr>\n",
              "    <tr>\n",
              "      <th>51943</th>\n",
              "      <td>The Sunset Three</td>\n",
              "      <td>36522864919</td>\n",
              "      <td>verified</td>\n",
              "      <td>Ana</td>\n",
              "      <td>Brooklyn</td>\n",
              "      <td>Sunset Park</td>\n",
              "      <td>United States</td>\n",
              "      <td>US</td>\n",
              "      <td>True</td>\n",
              "      <td>strict</td>\n",
              "      <td>Entire home/apt</td>\n",
              "      <td>2005.0</td>\n",
              "      <td>71.0</td>\n",
              "      <td>$14</td>\n",
              "      <td>1.0</td>\n",
              "      <td>22.0</td>\n",
              "      <td>4.0</td>\n",
              "      <td>3.0</td>\n",
              "      <td>328.0</td>\n",
              "      <td>4.490000</td>\n",
              "    </tr>\n",
              "    <tr>\n",
              "      <th>102598</th>\n",
              "      <td>585 sf Luxury Studio</td>\n",
              "      <td>68170633372</td>\n",
              "      <td>unconfirmed</td>\n",
              "      <td>Rebecca</td>\n",
              "      <td>Manhattan</td>\n",
              "      <td>Upper West Side</td>\n",
              "      <td>United States</td>\n",
              "      <td>US</td>\n",
              "      <td>False</td>\n",
              "      <td>flexible</td>\n",
              "      <td>Entire home/apt</td>\n",
              "      <td>2010.0</td>\n",
              "      <td>1032.0</td>\n",
              "      <td>$206</td>\n",
              "      <td>1.0</td>\n",
              "      <td>0.0</td>\n",
              "      <td>3.0</td>\n",
              "      <td>1.0</td>\n",
              "      <td>69.0</td>\n",
              "      <td>1.374022</td>\n",
              "    </tr>\n",
              "  </tbody>\n",
              "</table>\n",
              "<p>101189 rows × 20 columns</p>\n",
              "</div>\n",
              "    <div class=\"colab-df-buttons\">\n",
              "\n",
              "  <div class=\"colab-df-container\">\n",
              "    <button class=\"colab-df-convert\" onclick=\"convertToInteractive('df-5c3e3ab6-3db0-4ddc-8b8b-566f359a906b')\"\n",
              "            title=\"Convert this dataframe to an interactive table.\"\n",
              "            style=\"display:none;\">\n",
              "\n",
              "  <svg xmlns=\"http://www.w3.org/2000/svg\" height=\"24px\" viewBox=\"0 -960 960 960\">\n",
              "    <path d=\"M120-120v-720h720v720H120Zm60-500h600v-160H180v160Zm220 220h160v-160H400v160Zm0 220h160v-160H400v160ZM180-400h160v-160H180v160Zm440 0h160v-160H620v160ZM180-180h160v-160H180v160Zm440 0h160v-160H620v160Z\"/>\n",
              "  </svg>\n",
              "    </button>\n",
              "\n",
              "  <style>\n",
              "    .colab-df-container {\n",
              "      display:flex;\n",
              "      gap: 12px;\n",
              "    }\n",
              "\n",
              "    .colab-df-convert {\n",
              "      background-color: #E8F0FE;\n",
              "      border: none;\n",
              "      border-radius: 50%;\n",
              "      cursor: pointer;\n",
              "      display: none;\n",
              "      fill: #1967D2;\n",
              "      height: 32px;\n",
              "      padding: 0 0 0 0;\n",
              "      width: 32px;\n",
              "    }\n",
              "\n",
              "    .colab-df-convert:hover {\n",
              "      background-color: #E2EBFA;\n",
              "      box-shadow: 0px 1px 2px rgba(60, 64, 67, 0.3), 0px 1px 3px 1px rgba(60, 64, 67, 0.15);\n",
              "      fill: #174EA6;\n",
              "    }\n",
              "\n",
              "    .colab-df-buttons div {\n",
              "      margin-bottom: 4px;\n",
              "    }\n",
              "\n",
              "    [theme=dark] .colab-df-convert {\n",
              "      background-color: #3B4455;\n",
              "      fill: #D2E3FC;\n",
              "    }\n",
              "\n",
              "    [theme=dark] .colab-df-convert:hover {\n",
              "      background-color: #434B5C;\n",
              "      box-shadow: 0px 1px 3px 1px rgba(0, 0, 0, 0.15);\n",
              "      filter: drop-shadow(0px 1px 2px rgba(0, 0, 0, 0.3));\n",
              "      fill: #FFFFFF;\n",
              "    }\n",
              "  </style>\n",
              "\n",
              "    <script>\n",
              "      const buttonEl =\n",
              "        document.querySelector('#df-5c3e3ab6-3db0-4ddc-8b8b-566f359a906b button.colab-df-convert');\n",
              "      buttonEl.style.display =\n",
              "        google.colab.kernel.accessAllowed ? 'block' : 'none';\n",
              "\n",
              "      async function convertToInteractive(key) {\n",
              "        const element = document.querySelector('#df-5c3e3ab6-3db0-4ddc-8b8b-566f359a906b');\n",
              "        const dataTable =\n",
              "          await google.colab.kernel.invokeFunction('convertToInteractive',\n",
              "                                                    [key], {});\n",
              "        if (!dataTable) return;\n",
              "\n",
              "        const docLinkHtml = 'Like what you see? Visit the ' +\n",
              "          '<a target=\"_blank\" href=https://colab.research.google.com/notebooks/data_table.ipynb>data table notebook</a>'\n",
              "          + ' to learn more about interactive tables.';\n",
              "        element.innerHTML = '';\n",
              "        dataTable['output_type'] = 'display_data';\n",
              "        await google.colab.output.renderOutput(dataTable, element);\n",
              "        const docLink = document.createElement('div');\n",
              "        docLink.innerHTML = docLinkHtml;\n",
              "        element.appendChild(docLink);\n",
              "      }\n",
              "    </script>\n",
              "  </div>\n",
              "\n",
              "\n",
              "<div id=\"df-79875d91-292b-4d35-b925-87d70947965b\">\n",
              "  <button class=\"colab-df-quickchart\" onclick=\"quickchart('df-79875d91-292b-4d35-b925-87d70947965b')\"\n",
              "            title=\"Suggest charts\"\n",
              "            style=\"display:none;\">\n",
              "\n",
              "<svg xmlns=\"http://www.w3.org/2000/svg\" height=\"24px\"viewBox=\"0 0 24 24\"\n",
              "     width=\"24px\">\n",
              "    <g>\n",
              "        <path d=\"M19 3H5c-1.1 0-2 .9-2 2v14c0 1.1.9 2 2 2h14c1.1 0 2-.9 2-2V5c0-1.1-.9-2-2-2zM9 17H7v-7h2v7zm4 0h-2V7h2v10zm4 0h-2v-4h2v4z\"/>\n",
              "    </g>\n",
              "</svg>\n",
              "  </button>\n",
              "\n",
              "<style>\n",
              "  .colab-df-quickchart {\n",
              "      --bg-color: #E8F0FE;\n",
              "      --fill-color: #1967D2;\n",
              "      --hover-bg-color: #E2EBFA;\n",
              "      --hover-fill-color: #174EA6;\n",
              "      --disabled-fill-color: #AAA;\n",
              "      --disabled-bg-color: #DDD;\n",
              "  }\n",
              "\n",
              "  [theme=dark] .colab-df-quickchart {\n",
              "      --bg-color: #3B4455;\n",
              "      --fill-color: #D2E3FC;\n",
              "      --hover-bg-color: #434B5C;\n",
              "      --hover-fill-color: #FFFFFF;\n",
              "      --disabled-bg-color: #3B4455;\n",
              "      --disabled-fill-color: #666;\n",
              "  }\n",
              "\n",
              "  .colab-df-quickchart {\n",
              "    background-color: var(--bg-color);\n",
              "    border: none;\n",
              "    border-radius: 50%;\n",
              "    cursor: pointer;\n",
              "    display: none;\n",
              "    fill: var(--fill-color);\n",
              "    height: 32px;\n",
              "    padding: 0;\n",
              "    width: 32px;\n",
              "  }\n",
              "\n",
              "  .colab-df-quickchart:hover {\n",
              "    background-color: var(--hover-bg-color);\n",
              "    box-shadow: 0 1px 2px rgba(60, 64, 67, 0.3), 0 1px 3px 1px rgba(60, 64, 67, 0.15);\n",
              "    fill: var(--button-hover-fill-color);\n",
              "  }\n",
              "\n",
              "  .colab-df-quickchart-complete:disabled,\n",
              "  .colab-df-quickchart-complete:disabled:hover {\n",
              "    background-color: var(--disabled-bg-color);\n",
              "    fill: var(--disabled-fill-color);\n",
              "    box-shadow: none;\n",
              "  }\n",
              "\n",
              "  .colab-df-spinner {\n",
              "    border: 2px solid var(--fill-color);\n",
              "    border-color: transparent;\n",
              "    border-bottom-color: var(--fill-color);\n",
              "    animation:\n",
              "      spin 1s steps(1) infinite;\n",
              "  }\n",
              "\n",
              "  @keyframes spin {\n",
              "    0% {\n",
              "      border-color: transparent;\n",
              "      border-bottom-color: var(--fill-color);\n",
              "      border-left-color: var(--fill-color);\n",
              "    }\n",
              "    20% {\n",
              "      border-color: transparent;\n",
              "      border-left-color: var(--fill-color);\n",
              "      border-top-color: var(--fill-color);\n",
              "    }\n",
              "    30% {\n",
              "      border-color: transparent;\n",
              "      border-left-color: var(--fill-color);\n",
              "      border-top-color: var(--fill-color);\n",
              "      border-right-color: var(--fill-color);\n",
              "    }\n",
              "    40% {\n",
              "      border-color: transparent;\n",
              "      border-right-color: var(--fill-color);\n",
              "      border-top-color: var(--fill-color);\n",
              "    }\n",
              "    60% {\n",
              "      border-color: transparent;\n",
              "      border-right-color: var(--fill-color);\n",
              "    }\n",
              "    80% {\n",
              "      border-color: transparent;\n",
              "      border-right-color: var(--fill-color);\n",
              "      border-bottom-color: var(--fill-color);\n",
              "    }\n",
              "    90% {\n",
              "      border-color: transparent;\n",
              "      border-bottom-color: var(--fill-color);\n",
              "    }\n",
              "  }\n",
              "</style>\n",
              "\n",
              "  <script>\n",
              "    async function quickchart(key) {\n",
              "      const quickchartButtonEl =\n",
              "        document.querySelector('#' + key + ' button');\n",
              "      quickchartButtonEl.disabled = true;  // To prevent multiple clicks.\n",
              "      quickchartButtonEl.classList.add('colab-df-spinner');\n",
              "      try {\n",
              "        const charts = await google.colab.kernel.invokeFunction(\n",
              "            'suggestCharts', [key], {});\n",
              "      } catch (error) {\n",
              "        console.error('Error during call to suggestCharts:', error);\n",
              "      }\n",
              "      quickchartButtonEl.classList.remove('colab-df-spinner');\n",
              "      quickchartButtonEl.classList.add('colab-df-quickchart-complete');\n",
              "    }\n",
              "    (() => {\n",
              "      let quickchartButtonEl =\n",
              "        document.querySelector('#df-79875d91-292b-4d35-b925-87d70947965b button');\n",
              "      quickchartButtonEl.style.display =\n",
              "        google.colab.kernel.accessAllowed ? 'block' : 'none';\n",
              "    })();\n",
              "  </script>\n",
              "</div>\n",
              "\n",
              "    </div>\n",
              "  </div>\n"
            ],
            "application/vnd.google.colaboratory.intrinsic+json": {
              "type": "dataframe"
            }
          },
          "metadata": {},
          "execution_count": 120
        }
      ]
    },
    {
      "cell_type": "markdown",
      "source": [
        "\n",
        "**dealing with null values in availablity 365**\n",
        "\n"
      ],
      "metadata": {
        "id": "SAdfYZu3VELk"
      }
    },
    {
      "cell_type": "code",
      "source": [
        "df['availability 365'].describe()"
      ],
      "metadata": {
        "colab": {
          "base_uri": "https://localhost:8080/",
          "height": 335
        },
        "id": "n1tM1kK0VDe0",
        "outputId": "242765e5-e387-4a4a-943a-ab2e55f9c006"
      },
      "execution_count": null,
      "outputs": [
        {
          "output_type": "execute_result",
          "data": {
            "text/plain": [
              "count    100746.000000\n",
              "mean        140.824390\n",
              "std         135.590262\n",
              "min         -10.000000\n",
              "25%           3.000000\n",
              "50%          96.000000\n",
              "75%         268.000000\n",
              "max        3677.000000\n",
              "Name: availability 365, dtype: float64"
            ],
            "text/html": [
              "<div>\n",
              "<style scoped>\n",
              "    .dataframe tbody tr th:only-of-type {\n",
              "        vertical-align: middle;\n",
              "    }\n",
              "\n",
              "    .dataframe tbody tr th {\n",
              "        vertical-align: top;\n",
              "    }\n",
              "\n",
              "    .dataframe thead th {\n",
              "        text-align: right;\n",
              "    }\n",
              "</style>\n",
              "<table border=\"1\" class=\"dataframe\">\n",
              "  <thead>\n",
              "    <tr style=\"text-align: right;\">\n",
              "      <th></th>\n",
              "      <th>availability 365</th>\n",
              "    </tr>\n",
              "  </thead>\n",
              "  <tbody>\n",
              "    <tr>\n",
              "      <th>count</th>\n",
              "      <td>100746.000000</td>\n",
              "    </tr>\n",
              "    <tr>\n",
              "      <th>mean</th>\n",
              "      <td>140.824390</td>\n",
              "    </tr>\n",
              "    <tr>\n",
              "      <th>std</th>\n",
              "      <td>135.590262</td>\n",
              "    </tr>\n",
              "    <tr>\n",
              "      <th>min</th>\n",
              "      <td>-10.000000</td>\n",
              "    </tr>\n",
              "    <tr>\n",
              "      <th>25%</th>\n",
              "      <td>3.000000</td>\n",
              "    </tr>\n",
              "    <tr>\n",
              "      <th>50%</th>\n",
              "      <td>96.000000</td>\n",
              "    </tr>\n",
              "    <tr>\n",
              "      <th>75%</th>\n",
              "      <td>268.000000</td>\n",
              "    </tr>\n",
              "    <tr>\n",
              "      <th>max</th>\n",
              "      <td>3677.000000</td>\n",
              "    </tr>\n",
              "  </tbody>\n",
              "</table>\n",
              "</div><br><label><b>dtype:</b> float64</label>"
            ]
          },
          "metadata": {},
          "execution_count": 121
        }
      ]
    },
    {
      "cell_type": "code",
      "source": [
        "count = df[df['availability 365'] == 3677]['availability 365'].count()\n",
        "print(f\"The value  3677  appears {count} times in the 'availability 365' column.\")"
      ],
      "metadata": {
        "colab": {
          "base_uri": "https://localhost:8080/"
        },
        "id": "_Kog1p0bVDhF",
        "outputId": "5629bbb9-76cf-4775-f30a-b2328222b883"
      },
      "execution_count": null,
      "outputs": [
        {
          "output_type": "stream",
          "name": "stdout",
          "text": [
            "The value  3677  appears 1 times in the 'availability 365' column.\n"
          ]
        }
      ]
    },
    {
      "cell_type": "code",
      "source": [
        "df['availability 365']= np.where(df['availability 365']<0,df['availability 365'].abs(),df['availability 365'])\n"
      ],
      "metadata": {
        "id": "s5-1-hdtUJxr"
      },
      "execution_count": null,
      "outputs": []
    },
    {
      "cell_type": "code",
      "source": [
        "\n",
        "\n",
        "sns.boxplot(x=df['availability 365'])\n",
        "plt.title('Box Plot of availability 365')\n",
        "plt.show()\n"
      ],
      "metadata": {
        "colab": {
          "base_uri": "https://localhost:8080/",
          "height": 472
        },
        "id": "560iKujMn6Ol",
        "outputId": "f8f92673-ec50-4973-a656-63cb5e84b203"
      },
      "execution_count": null,
      "outputs": [
        {
          "output_type": "display_data",
          "data": {
            "text/plain": [
              "<Figure size 640x480 with 1 Axes>"
            ],
            "image/png": "[encoded data removed]"
          },
          "metadata": {}
        }
      ]
    },
    {
      "cell_type": "code",
      "source": [
        "df.sort_values(by='availability 365', ascending=False )\n"
      ],
      "metadata": {
        "colab": {
          "base_uri": "https://localhost:8080/",
          "height": 1000
        },
        "id": "m-r5AU8OoQs7",
        "outputId": "eaffbe25-7500-472f-a204-4129088a83f5"
      },
      "execution_count": null,
      "outputs": [
        {
          "output_type": "execute_result",
          "data": {
            "text/plain": [
              "                                                    NAME      host id  \\\n",
              "70866                           Artsy Harlem Guest Space  58865388694   \n",
              "15310       The Heart Of NYC, 3min Walk To Grand Central  26796889147   \n",
              "4841                  Spacious Studio in Luxury Building   5413885217   \n",
              "10930                                       Studio Condo  31763536994   \n",
              "11279                 Alcove Studio in Heart of Chelsea!  68478821556   \n",
              "...                                                  ...          ...   \n",
              "87071   Doorman Chelsea One Bedroom- Convenient and Fun!  24450034505   \n",
              "87072                       Beautiful Brownstone Triplex  47772968181   \n",
              "87073      Lovely, Sunny Studio near Central Park in UWS  36668499953   \n",
              "87099  Master bedroom in penthouse apt of luxury buil...  27475689132   \n",
              "87100                    Private Room on the East River!  95943719493   \n",
              "\n",
              "      host_identity_verified  host name neighbourhood group     neighbourhood  \\\n",
              "70866               verified      Laura           Manhattan            Harlem   \n",
              "15310               verified   Michelle           Manhattan       Murray Hill   \n",
              "4841                verified      Julie           Manhattan   Upper East Side   \n",
              "10930               verified    Terrell           Manhattan           Midtown   \n",
              "11279            unconfirmed  Lindsay B           Manhattan           Chelsea   \n",
              "...                      ...        ...                 ...               ...   \n",
              "87071            unconfirmed     Andrew           Manhattan           Chelsea   \n",
              "87072               verified     Jackie            Brooklyn       Boerum Hill   \n",
              "87073            unconfirmed    Tatenda           Manhattan   Upper West Side   \n",
              "87099            unconfirmed    Tanisha           Manhattan  Theater District   \n",
              "87100               verified     Miguel           Manhattan       East Harlem   \n",
              "\n",
              "             country country code instant_bookable cancellation_policy  \\\n",
              "70866  United States           US             True              strict   \n",
              "15310  United States           US            False            flexible   \n",
              "4841   United States           US             True              strict   \n",
              "10930  United States           US             True            flexible   \n",
              "11279  United States           US            False            moderate   \n",
              "...              ...          ...              ...                 ...   \n",
              "87071  United States           US            False              strict   \n",
              "87072  United States           US             True            moderate   \n",
              "87073  United States           US             True            moderate   \n",
              "87099  United States           US             True            flexible   \n",
              "87100  United States           US            False              strict   \n",
              "\n",
              "             room type  Construction year   price service fee  minimum nights  \\\n",
              "70866  Entire home/apt             2009.0  1186.0       $237              3.0   \n",
              "15310  Entire home/apt             2003.0   519.0       $104              1.0   \n",
              "4841   Entire home/apt             2012.0   335.0        $67              2.0   \n",
              "10930  Entire home/apt             2012.0   973.0       $195              2.0   \n",
              "11279  Entire home/apt             2009.0   422.0        $84              1.0   \n",
              "...                ...                ...     ...         ...             ...   \n",
              "87071  Entire home/apt             2021.0   448.0        $90              1.0   \n",
              "87072  Entire home/apt             2016.0   639.0       $128              5.0   \n",
              "87073  Entire home/apt             2022.0   894.0       $179              1.0   \n",
              "87099     Private room             2008.0  1096.0       $219              7.0   \n",
              "87100     Private room             2013.0   153.0        $31              3.0   \n",
              "\n",
              "       number of reviews  review rate number  calculated host listings count  \\\n",
              "70866              232.0                 5.0                             1.0   \n",
              "15310               45.0                 5.0                             NaN   \n",
              "4841                 1.0                 5.0                             1.0   \n",
              "10930                0.0                 2.0                             1.0   \n",
              "11279                0.0                 2.0                             1.0   \n",
              "...                  ...                 ...                             ...   \n",
              "87071                0.0                 5.0                             1.0   \n",
              "87072                0.0                 3.0                             1.0   \n",
              "87073                3.0                 2.0                             1.0   \n",
              "87099                0.0                 4.0                             1.0   \n",
              "87100                0.0                 4.0                             1.0   \n",
              "\n",
              "       availability 365  reviews per month  \n",
              "70866            3677.0           3.220000  \n",
              "15310             426.0           1.160000  \n",
              "4841              426.0           0.020000  \n",
              "10930             426.0           1.374022  \n",
              "11279             426.0           1.374022  \n",
              "...                 ...                ...  \n",
              "87071               NaN           1.374022  \n",
              "87072               NaN           1.374022  \n",
              "87073               NaN           0.080000  \n",
              "87099               NaN           1.374022  \n",
              "87100               NaN           1.374022  \n",
              "\n",
              "[101189 rows x 20 columns]"
            ],
            "text/html": [
              "\n",
              "  <div id=\"df-dbf3ef8b-6c0b-4a21-8c5d-34259932d708\" class=\"colab-df-container\">\n",
              "    <div>\n",
              "<style scoped>\n",
              "    .dataframe tbody tr th:only-of-type {\n",
              "        vertical-align: middle;\n",
              "    }\n",
              "\n",
              "    .dataframe tbody tr th {\n",
              "        vertical-align: top;\n",
              "    }\n",
              "\n",
              "    .dataframe thead th {\n",
              "        text-align: right;\n",
              "    }\n",
              "</style>\n",
              "<table border=\"1\" class=\"dataframe\">\n",
              "  <thead>\n",
              "    <tr style=\"text-align: right;\">\n",
              "      <th></th>\n",
              "      <th>NAME</th>\n",
              "      <th>host id</th>\n",
              "      <th>host_identity_verified</th>\n",
              "      <th>host name</th>\n",
              "      <th>neighbourhood group</th>\n",
              "      <th>neighbourhood</th>\n",
              "      <th>country</th>\n",
              "      <th>country code</th>\n",
              "      <th>instant_bookable</th>\n",
              "      <th>cancellation_policy</th>\n",
              "      <th>room type</th>\n",
              "      <th>Construction year</th>\n",
              "      <th>price</th>\n",
              "      <th>service fee</th>\n",
              "      <th>minimum nights</th>\n",
              "      <th>number of reviews</th>\n",
              "      <th>review rate number</th>\n",
              "      <th>calculated host listings count</th>\n",
              "      <th>availability 365</th>\n",
              "      <th>reviews per month</th>\n",
              "    </tr>\n",
              "  </thead>\n",
              "  <tbody>\n",
              "    <tr>\n",
              "      <th>70866</th>\n",
              "      <td>Artsy Harlem Guest Space</td>\n",
              "      <td>58865388694</td>\n",
              "      <td>verified</td>\n",
              "      <td>Laura</td>\n",
              "      <td>Manhattan</td>\n",
              "      <td>Harlem</td>\n",
              "      <td>United States</td>\n",
              "      <td>US</td>\n",
              "      <td>True</td>\n",
              "      <td>strict</td>\n",
              "      <td>Entire home/apt</td>\n",
              "      <td>2009.0</td>\n",
              "      <td>1186.0</td>\n",
              "      <td>$237</td>\n",
              "      <td>3.0</td>\n",
              "      <td>232.0</td>\n",
              "      <td>5.0</td>\n",
              "      <td>1.0</td>\n",
              "      <td>3677.0</td>\n",
              "      <td>3.220000</td>\n",
              "    </tr>\n",
              "    <tr>\n",
              "      <th>15310</th>\n",
              "      <td>The Heart Of NYC, 3min Walk To Grand Central</td>\n",
              "      <td>26796889147</td>\n",
              "      <td>verified</td>\n",
              "      <td>Michelle</td>\n",
              "      <td>Manhattan</td>\n",
              "      <td>Murray Hill</td>\n",
              "      <td>United States</td>\n",
              "      <td>US</td>\n",
              "      <td>False</td>\n",
              "      <td>flexible</td>\n",
              "      <td>Entire home/apt</td>\n",
              "      <td>2003.0</td>\n",
              "      <td>519.0</td>\n",
              "      <td>$104</td>\n",
              "      <td>1.0</td>\n",
              "      <td>45.0</td>\n",
              "      <td>5.0</td>\n",
              "      <td>NaN</td>\n",
              "      <td>426.0</td>\n",
              "      <td>1.160000</td>\n",
              "    </tr>\n",
              "    <tr>\n",
              "      <th>4841</th>\n",
              "      <td>Spacious Studio in Luxury Building</td>\n",
              "      <td>5413885217</td>\n",
              "      <td>verified</td>\n",
              "      <td>Julie</td>\n",
              "      <td>Manhattan</td>\n",
              "      <td>Upper East Side</td>\n",
              "      <td>United States</td>\n",
              "      <td>US</td>\n",
              "      <td>True</td>\n",
              "      <td>strict</td>\n",
              "      <td>Entire home/apt</td>\n",
              "      <td>2012.0</td>\n",
              "      <td>335.0</td>\n",
              "      <td>$67</td>\n",
              "      <td>2.0</td>\n",
              "      <td>1.0</td>\n",
              "      <td>5.0</td>\n",
              "      <td>1.0</td>\n",
              "      <td>426.0</td>\n",
              "      <td>0.020000</td>\n",
              "    </tr>\n",
              "    <tr>\n",
              "      <th>10930</th>\n",
              "      <td>Studio Condo</td>\n",
              "      <td>31763536994</td>\n",
              "      <td>verified</td>\n",
              "      <td>Terrell</td>\n",
              "      <td>Manhattan</td>\n",
              "      <td>Midtown</td>\n",
              "      <td>United States</td>\n",
              "      <td>US</td>\n",
              "      <td>True</td>\n",
              "      <td>flexible</td>\n",
              "      <td>Entire home/apt</td>\n",
              "      <td>2012.0</td>\n",
              "      <td>973.0</td>\n",
              "      <td>$195</td>\n",
              "      <td>2.0</td>\n",
              "      <td>0.0</td>\n",
              "      <td>2.0</td>\n",
              "      <td>1.0</td>\n",
              "      <td>426.0</td>\n",
              "      <td>1.374022</td>\n",
              "    </tr>\n",
              "    <tr>\n",
              "      <th>11279</th>\n",
              "      <td>Alcove Studio in Heart of Chelsea!</td>\n",
              "      <td>68478821556</td>\n",
              "      <td>unconfirmed</td>\n",
              "      <td>Lindsay B</td>\n",
              "      <td>Manhattan</td>\n",
              "      <td>Chelsea</td>\n",
              "      <td>United States</td>\n",
              "      <td>US</td>\n",
              "      <td>False</td>\n",
              "      <td>moderate</td>\n",
              "      <td>Entire home/apt</td>\n",
              "      <td>2009.0</td>\n",
              "      <td>422.0</td>\n",
              "      <td>$84</td>\n",
              "      <td>1.0</td>\n",
              "      <td>0.0</td>\n",
              "      <td>2.0</td>\n",
              "      <td>1.0</td>\n",
              "      <td>426.0</td>\n",
              "      <td>1.374022</td>\n",
              "    </tr>\n",
              "    <tr>\n",
              "      <th>...</th>\n",
              "      <td>...</td>\n",
              "      <td>...</td>\n",
              "      <td>...</td>\n",
              "      <td>...</td>\n",
              "      <td>...</td>\n",
              "      <td>...</td>\n",
              "      <td>...</td>\n",
              "      <td>...</td>\n",
              "      <td>...</td>\n",
              "      <td>...</td>\n",
              "      <td>...</td>\n",
              "      <td>...</td>\n",
              "      <td>...</td>\n",
              "      <td>...</td>\n",
              "      <td>...</td>\n",
              "      <td>...</td>\n",
              "      <td>...</td>\n",
              "      <td>...</td>\n",
              "      <td>...</td>\n",
              "      <td>...</td>\n",
              "    </tr>\n",
              "    <tr>\n",
              "      <th>87071</th>\n",
              "      <td>Doorman Chelsea One Bedroom- Convenient and Fun!</td>\n",
              "      <td>24450034505</td>\n",
              "      <td>unconfirmed</td>\n",
              "      <td>Andrew</td>\n",
              "      <td>Manhattan</td>\n",
              "      <td>Chelsea</td>\n",
              "      <td>United States</td>\n",
              "      <td>US</td>\n",
              "      <td>False</td>\n",
              "      <td>strict</td>\n",
              "      <td>Entire home/apt</td>\n",
              "      <td>2021.0</td>\n",
              "      <td>448.0</td>\n",
              "      <td>$90</td>\n",
              "      <td>1.0</td>\n",
              "      <td>0.0</td>\n",
              "      <td>5.0</td>\n",
              "      <td>1.0</td>\n",
              "      <td>NaN</td>\n",
              "      <td>1.374022</td>\n",
              "    </tr>\n",
              "    <tr>\n",
              "      <th>87072</th>\n",
              "      <td>Beautiful Brownstone Triplex</td>\n",
              "      <td>47772968181</td>\n",
              "      <td>verified</td>\n",
              "      <td>Jackie</td>\n",
              "      <td>Brooklyn</td>\n",
              "      <td>Boerum Hill</td>\n",
              "      <td>United States</td>\n",
              "      <td>US</td>\n",
              "      <td>True</td>\n",
              "      <td>moderate</td>\n",
              "      <td>Entire home/apt</td>\n",
              "      <td>2016.0</td>\n",
              "      <td>639.0</td>\n",
              "      <td>$128</td>\n",
              "      <td>5.0</td>\n",
              "      <td>0.0</td>\n",
              "      <td>3.0</td>\n",
              "      <td>1.0</td>\n",
              "      <td>NaN</td>\n",
              "      <td>1.374022</td>\n",
              "    </tr>\n",
              "    <tr>\n",
              "      <th>87073</th>\n",
              "      <td>Lovely, Sunny Studio near Central Park in UWS</td>\n",
              "      <td>36668499953</td>\n",
              "      <td>unconfirmed</td>\n",
              "      <td>Tatenda</td>\n",
              "      <td>Manhattan</td>\n",
              "      <td>Upper West Side</td>\n",
              "      <td>United States</td>\n",
              "      <td>US</td>\n",
              "      <td>True</td>\n",
              "      <td>moderate</td>\n",
              "      <td>Entire home/apt</td>\n",
              "      <td>2022.0</td>\n",
              "      <td>894.0</td>\n",
              "      <td>$179</td>\n",
              "      <td>1.0</td>\n",
              "      <td>3.0</td>\n",
              "      <td>2.0</td>\n",
              "      <td>1.0</td>\n",
              "      <td>NaN</td>\n",
              "      <td>0.080000</td>\n",
              "    </tr>\n",
              "    <tr>\n",
              "      <th>87099</th>\n",
              "      <td>Master bedroom in penthouse apt of luxury buil...</td>\n",
              "      <td>27475689132</td>\n",
              "      <td>unconfirmed</td>\n",
              "      <td>Tanisha</td>\n",
              "      <td>Manhattan</td>\n",
              "      <td>Theater District</td>\n",
              "      <td>United States</td>\n",
              "      <td>US</td>\n",
              "      <td>True</td>\n",
              "      <td>flexible</td>\n",
              "      <td>Private room</td>\n",
              "      <td>2008.0</td>\n",
              "      <td>1096.0</td>\n",
              "      <td>$219</td>\n",
              "      <td>7.0</td>\n",
              "      <td>0.0</td>\n",
              "      <td>4.0</td>\n",
              "      <td>1.0</td>\n",
              "      <td>NaN</td>\n",
              "      <td>1.374022</td>\n",
              "    </tr>\n",
              "    <tr>\n",
              "      <th>87100</th>\n",
              "      <td>Private Room on the East River!</td>\n",
              "      <td>95943719493</td>\n",
              "      <td>verified</td>\n",
              "      <td>Miguel</td>\n",
              "      <td>Manhattan</td>\n",
              "      <td>East Harlem</td>\n",
              "      <td>United States</td>\n",
              "      <td>US</td>\n",
              "      <td>False</td>\n",
              "      <td>strict</td>\n",
              "      <td>Private room</td>\n",
              "      <td>2013.0</td>\n",
              "      <td>153.0</td>\n",
              "      <td>$31</td>\n",
              "      <td>3.0</td>\n",
              "      <td>0.0</td>\n",
              "      <td>4.0</td>\n",
              "      <td>1.0</td>\n",
              "      <td>NaN</td>\n",
              "      <td>1.374022</td>\n",
              "    </tr>\n",
              "  </tbody>\n",
              "</table>\n",
              "<p>101189 rows × 20 columns</p>\n",
              "</div>\n",
              "    <div class=\"colab-df-buttons\">\n",
              "\n",
              "  <div class=\"colab-df-container\">\n",
              "    <button class=\"colab-df-convert\" onclick=\"convertToInteractive('df-dbf3ef8b-6c0b-4a21-8c5d-34259932d708')\"\n",
              "            title=\"Convert this dataframe to an interactive table.\"\n",
              "            style=\"display:none;\">\n",
              "\n",
              "  <svg xmlns=\"http://www.w3.org/2000/svg\" height=\"24px\" viewBox=\"0 -960 960 960\">\n",
              "    <path d=\"M120-120v-720h720v720H120Zm60-500h600v-160H180v160Zm220 220h160v-160H400v160Zm0 220h160v-160H400v160ZM180-400h160v-160H180v160Zm440 0h160v-160H620v160ZM180-180h160v-160H180v160Zm440 0h160v-160H620v160Z\"/>\n",
              "  </svg>\n",
              "    </button>\n",
              "\n",
              "  <style>\n",
              "    .colab-df-container {\n",
              "      display:flex;\n",
              "      gap: 12px;\n",
              "    }\n",
              "\n",
              "    .colab-df-convert {\n",
              "      background-color: #E8F0FE;\n",
              "      border: none;\n",
              "      border-radius: 50%;\n",
              "      cursor: pointer;\n",
              "      display: none;\n",
              "      fill: #1967D2;\n",
              "      height: 32px;\n",
              "      padding: 0 0 0 0;\n",
              "      width: 32px;\n",
              "    }\n",
              "\n",
              "    .colab-df-convert:hover {\n",
              "      background-color: #E2EBFA;\n",
              "      box-shadow: 0px 1px 2px rgba(60, 64, 67, 0.3), 0px 1px 3px 1px rgba(60, 64, 67, 0.15);\n",
              "      fill: #174EA6;\n",
              "    }\n",
              "\n",
              "    .colab-df-buttons div {\n",
              "      margin-bottom: 4px;\n",
              "    }\n",
              "\n",
              "    [theme=dark] .colab-df-convert {\n",
              "      background-color: #3B4455;\n",
              "      fill: #D2E3FC;\n",
              "    }\n",
              "\n",
              "    [theme=dark] .colab-df-convert:hover {\n",
              "      background-color: #434B5C;\n",
              "      box-shadow: 0px 1px 3px 1px rgba(0, 0, 0, 0.15);\n",
              "      filter: drop-shadow(0px 1px 2px rgba(0, 0, 0, 0.3));\n",
              "      fill: #FFFFFF;\n",
              "    }\n",
              "  </style>\n",
              "\n",
              "    <script>\n",
              "      const buttonEl =\n",
              "        document.querySelector('#df-dbf3ef8b-6c0b-4a21-8c5d-34259932d708 button.colab-df-convert');\n",
              "      buttonEl.style.display =\n",
              "        google.colab.kernel.accessAllowed ? 'block' : 'none';\n",
              "\n",
              "      async function convertToInteractive(key) {\n",
              "        const element = document.querySelector('#df-dbf3ef8b-6c0b-4a21-8c5d-34259932d708');\n",
              "        const dataTable =\n",
              "          await google.colab.kernel.invokeFunction('convertToInteractive',\n",
              "                                                    [key], {});\n",
              "        if (!dataTable) return;\n",
              "\n",
              "        const docLinkHtml = 'Like what you see? Visit the ' +\n",
              "          '<a target=\"_blank\" href=https://colab.research.google.com/notebooks/data_table.ipynb>data table notebook</a>'\n",
              "          + ' to learn more about interactive tables.';\n",
              "        element.innerHTML = '';\n",
              "        dataTable['output_type'] = 'display_data';\n",
              "        await google.colab.output.renderOutput(dataTable, element);\n",
              "        const docLink = document.createElement('div');\n",
              "        docLink.innerHTML = docLinkHtml;\n",
              "        element.appendChild(docLink);\n",
              "      }\n",
              "    </script>\n",
              "  </div>\n",
              "\n",
              "\n",
              "<div id=\"df-350cdea4-8bdf-4d5d-91ed-3e31f2e98428\">\n",
              "  <button class=\"colab-df-quickchart\" onclick=\"quickchart('df-350cdea4-8bdf-4d5d-91ed-3e31f2e98428')\"\n",
              "            title=\"Suggest charts\"\n",
              "            style=\"display:none;\">\n",
              "\n",
              "<svg xmlns=\"http://www.w3.org/2000/svg\" height=\"24px\"viewBox=\"0 0 24 24\"\n",
              "     width=\"24px\">\n",
              "    <g>\n",
              "        <path d=\"M19 3H5c-1.1 0-2 .9-2 2v14c0 1.1.9 2 2 2h14c1.1 0 2-.9 2-2V5c0-1.1-.9-2-2-2zM9 17H7v-7h2v7zm4 0h-2V7h2v10zm4 0h-2v-4h2v4z\"/>\n",
              "    </g>\n",
              "</svg>\n",
              "  </button>\n",
              "\n",
              "<style>\n",
              "  .colab-df-quickchart {\n",
              "      --bg-color: #E8F0FE;\n",
              "      --fill-color: #1967D2;\n",
              "      --hover-bg-color: #E2EBFA;\n",
              "      --hover-fill-color: #174EA6;\n",
              "      --disabled-fill-color: #AAA;\n",
              "      --disabled-bg-color: #DDD;\n",
              "  }\n",
              "\n",
              "  [theme=dark] .colab-df-quickchart {\n",
              "      --bg-color: #3B4455;\n",
              "      --fill-color: #D2E3FC;\n",
              "      --hover-bg-color: #434B5C;\n",
              "      --hover-fill-color: #FFFFFF;\n",
              "      --disabled-bg-color: #3B4455;\n",
              "      --disabled-fill-color: #666;\n",
              "  }\n",
              "\n",
              "  .colab-df-quickchart {\n",
              "    background-color: var(--bg-color);\n",
              "    border: none;\n",
              "    border-radius: 50%;\n",
              "    cursor: pointer;\n",
              "    display: none;\n",
              "    fill: var(--fill-color);\n",
              "    height: 32px;\n",
              "    padding: 0;\n",
              "    width: 32px;\n",
              "  }\n",
              "\n",
              "  .colab-df-quickchart:hover {\n",
              "    background-color: var(--hover-bg-color);\n",
              "    box-shadow: 0 1px 2px rgba(60, 64, 67, 0.3), 0 1px 3px 1px rgba(60, 64, 67, 0.15);\n",
              "    fill: var(--button-hover-fill-color);\n",
              "  }\n",
              "\n",
              "  .colab-df-quickchart-complete:disabled,\n",
              "  .colab-df-quickchart-complete:disabled:hover {\n",
              "    background-color: var(--disabled-bg-color);\n",
              "    fill: var(--disabled-fill-color);\n",
              "    box-shadow: none;\n",
              "  }\n",
              "\n",
              "  .colab-df-spinner {\n",
              "    border: 2px solid var(--fill-color);\n",
              "    border-color: transparent;\n",
              "    border-bottom-color: var(--fill-color);\n",
              "    animation:\n",
              "      spin 1s steps(1) infinite;\n",
              "  }\n",
              "\n",
              "  @keyframes spin {\n",
              "    0% {\n",
              "      border-color: transparent;\n",
              "      border-bottom-color: var(--fill-color);\n",
              "      border-left-color: var(--fill-color);\n",
              "    }\n",
              "    20% {\n",
              "      border-color: transparent;\n",
              "      border-left-color: var(--fill-color);\n",
              "      border-top-color: var(--fill-color);\n",
              "    }\n",
              "    30% {\n",
              "      border-color: transparent;\n",
              "      border-left-color: var(--fill-color);\n",
              "      border-top-color: var(--fill-color);\n",
              "      border-right-color: var(--fill-color);\n",
              "    }\n",
              "    40% {\n",
              "      border-color: transparent;\n",
              "      border-right-color: var(--fill-color);\n",
              "      border-top-color: var(--fill-color);\n",
              "    }\n",
              "    60% {\n",
              "      border-color: transparent;\n",
              "      border-right-color: var(--fill-color);\n",
              "    }\n",
              "    80% {\n",
              "      border-color: transparent;\n",
              "      border-right-color: var(--fill-color);\n",
              "      border-bottom-color: var(--fill-color);\n",
              "    }\n",
              "    90% {\n",
              "      border-color: transparent;\n",
              "      border-bottom-color: var(--fill-color);\n",
              "    }\n",
              "  }\n",
              "</style>\n",
              "\n",
              "  <script>\n",
              "    async function quickchart(key) {\n",
              "      const quickchartButtonEl =\n",
              "        document.querySelector('#' + key + ' button');\n",
              "      quickchartButtonEl.disabled = true;  // To prevent multiple clicks.\n",
              "      quickchartButtonEl.classList.add('colab-df-spinner');\n",
              "      try {\n",
              "        const charts = await google.colab.kernel.invokeFunction(\n",
              "            'suggestCharts', [key], {});\n",
              "      } catch (error) {\n",
              "        console.error('Error during call to suggestCharts:', error);\n",
              "      }\n",
              "      quickchartButtonEl.classList.remove('colab-df-spinner');\n",
              "      quickchartButtonEl.classList.add('colab-df-quickchart-complete');\n",
              "    }\n",
              "    (() => {\n",
              "      let quickchartButtonEl =\n",
              "        document.querySelector('#df-350cdea4-8bdf-4d5d-91ed-3e31f2e98428 button');\n",
              "      quickchartButtonEl.style.display =\n",
              "        google.colab.kernel.accessAllowed ? 'block' : 'none';\n",
              "    })();\n",
              "  </script>\n",
              "</div>\n",
              "\n",
              "    </div>\n",
              "  </div>\n"
            ],
            "application/vnd.google.colaboratory.intrinsic+json": {
              "type": "dataframe"
            }
          },
          "metadata": {},
          "execution_count": 125
        }
      ]
    },
    {
      "cell_type": "code",
      "source": [
        "df = df[df['availability 365'] != 3677.0]\n"
      ],
      "metadata": {
        "id": "ZexQ8dFQoWlS"
      },
      "execution_count": null,
      "outputs": []
    },
    {
      "cell_type": "code",
      "source": [
        "df['availability 365'].describe()"
      ],
      "metadata": {
        "colab": {
          "base_uri": "https://localhost:8080/",
          "height": 335
        },
        "id": "QgY0aoRTcIxU",
        "outputId": "12708dae-7fa8-4a8b-cfa5-d8cc141dd628"
      },
      "execution_count": null,
      "outputs": [
        {
          "output_type": "execute_result",
          "data": {
            "text/plain": [
              "count    100745.000000\n",
              "mean        140.835486\n",
              "std         135.084301\n",
              "min           0.000000\n",
              "25%           3.000000\n",
              "50%          96.000000\n",
              "75%         268.000000\n",
              "max         426.000000\n",
              "Name: availability 365, dtype: float64"
            ],
            "text/html": [
              "<div>\n",
              "<style scoped>\n",
              "    .dataframe tbody tr th:only-of-type {\n",
              "        vertical-align: middle;\n",
              "    }\n",
              "\n",
              "    .dataframe tbody tr th {\n",
              "        vertical-align: top;\n",
              "    }\n",
              "\n",
              "    .dataframe thead th {\n",
              "        text-align: right;\n",
              "    }\n",
              "</style>\n",
              "<table border=\"1\" class=\"dataframe\">\n",
              "  <thead>\n",
              "    <tr style=\"text-align: right;\">\n",
              "      <th></th>\n",
              "      <th>availability 365</th>\n",
              "    </tr>\n",
              "  </thead>\n",
              "  <tbody>\n",
              "    <tr>\n",
              "      <th>count</th>\n",
              "      <td>100745.000000</td>\n",
              "    </tr>\n",
              "    <tr>\n",
              "      <th>mean</th>\n",
              "      <td>140.835486</td>\n",
              "    </tr>\n",
              "    <tr>\n",
              "      <th>std</th>\n",
              "      <td>135.084301</td>\n",
              "    </tr>\n",
              "    <tr>\n",
              "      <th>min</th>\n",
              "      <td>0.000000</td>\n",
              "    </tr>\n",
              "    <tr>\n",
              "      <th>25%</th>\n",
              "      <td>3.000000</td>\n",
              "    </tr>\n",
              "    <tr>\n",
              "      <th>50%</th>\n",
              "      <td>96.000000</td>\n",
              "    </tr>\n",
              "    <tr>\n",
              "      <th>75%</th>\n",
              "      <td>268.000000</td>\n",
              "    </tr>\n",
              "    <tr>\n",
              "      <th>max</th>\n",
              "      <td>426.000000</td>\n",
              "    </tr>\n",
              "  </tbody>\n",
              "</table>\n",
              "</div><br><label><b>dtype:</b> float64</label>"
            ]
          },
          "metadata": {},
          "execution_count": 127
        }
      ]
    },
    {
      "cell_type": "code",
      "source": [
        "#A quantile-quantile plot compares  data's distribution to a normal distribution.\n",
        "\n",
        "\n",
        "import scipy.stats as stats\n",
        "\n",
        "stats.probplot(df['availability 365'], dist=\"norm\", plot=plt)\n",
        "plt.title('Q-Q Plot')\n",
        "plt.show()\n"
      ],
      "metadata": {
        "colab": {
          "base_uri": "https://localhost:8080/",
          "height": 472
        },
        "id": "X5KIF_AcpDeT",
        "outputId": "7bb09880-04cd-462e-8ff3-4b386386c984"
      },
      "execution_count": null,
      "outputs": [
        {
          "output_type": "display_data",
          "data": {
            "text/plain": [
              "<Figure size 640x480 with 1 Axes>"
            ],
            "image/png": "[encoded data removed]"
          },
          "metadata": {}
        }
      ]
    },
    {
      "cell_type": "code",
      "source": [
        "df['availability 365'] = df['availability 365'].fillna(df['availability 365'].median())\n",
        "print(df['availability 365'].isna().sum())"
      ],
      "metadata": {
        "colab": {
          "base_uri": "https://localhost:8080/"
        },
        "id": "sahzZFZAcQO9",
        "outputId": "727319f8-794c-4581-b12d-ef0b91255611"
      },
      "execution_count": null,
      "outputs": [
        {
          "output_type": "stream",
          "name": "stdout",
          "text": [
            "0\n"
          ]
        }
      ]
    },
    {
      "cell_type": "markdown",
      "source": [
        "# dealing with cancellation policy\n"
      ],
      "metadata": {
        "id": "Nqep52u6kFnG"
      }
    },
    {
      "cell_type": "code",
      "source": [
        "df['cancellation_policy'].value_counts()"
      ],
      "metadata": {
        "colab": {
          "base_uri": "https://localhost:8080/",
          "height": 209
        },
        "id": "bGxM-14BkQwm",
        "outputId": "cd590a72-9675-495f-e950-eed8cc445e3e"
      },
      "execution_count": null,
      "outputs": [
        {
          "output_type": "execute_result",
          "data": {
            "text/plain": [
              "cancellation_policy\n",
              "moderate    33887\n",
              "strict      33659\n",
              "flexible    33566\n",
              "Name: count, dtype: int64"
            ],
            "text/html": [
              "<div>\n",
              "<style scoped>\n",
              "    .dataframe tbody tr th:only-of-type {\n",
              "        vertical-align: middle;\n",
              "    }\n",
              "\n",
              "    .dataframe tbody tr th {\n",
              "        vertical-align: top;\n",
              "    }\n",
              "\n",
              "    .dataframe thead th {\n",
              "        text-align: right;\n",
              "    }\n",
              "</style>\n",
              "<table border=\"1\" class=\"dataframe\">\n",
              "  <thead>\n",
              "    <tr style=\"text-align: right;\">\n",
              "      <th></th>\n",
              "      <th>count</th>\n",
              "    </tr>\n",
              "    <tr>\n",
              "      <th>cancellation_policy</th>\n",
              "      <th></th>\n",
              "    </tr>\n",
              "  </thead>\n",
              "  <tbody>\n",
              "    <tr>\n",
              "      <th>moderate</th>\n",
              "      <td>33887</td>\n",
              "    </tr>\n",
              "    <tr>\n",
              "      <th>strict</th>\n",
              "      <td>33659</td>\n",
              "    </tr>\n",
              "    <tr>\n",
              "      <th>flexible</th>\n",
              "      <td>33566</td>\n",
              "    </tr>\n",
              "  </tbody>\n",
              "</table>\n",
              "</div><br><label><b>dtype:</b> int64</label>"
            ]
          },
          "metadata": {},
          "execution_count": 130
        }
      ]
    },
    {
      "cell_type": "code",
      "source": [
        "df['cancellation_policy']=df.cancellation_policy.fillna('moderate')"
      ],
      "metadata": {
        "id": "tRxoGbCucZJF"
      },
      "execution_count": null,
      "outputs": []
    },
    {
      "cell_type": "markdown",
      "source": [
        "# dealing with null values in construction year\n"
      ],
      "metadata": {
        "id": "EZvkAJackaBT"
      }
    },
    {
      "cell_type": "code",
      "source": [
        "df['Construction year'].describe()"
      ],
      "metadata": {
        "colab": {
          "base_uri": "https://localhost:8080/",
          "height": 335
        },
        "id": "6eowXSnKqe3G",
        "outputId": "ce9ea7ee-e404-4ddc-bf5d-7b5ea5b2e2b8"
      },
      "execution_count": null,
      "outputs": [
        {
          "output_type": "execute_result",
          "data": {
            "text/plain": [
              "count    100975.000000\n",
              "mean       2012.487002\n",
              "std           5.765101\n",
              "min        2003.000000\n",
              "25%        2007.000000\n",
              "50%        2012.000000\n",
              "75%        2017.000000\n",
              "max        2022.000000\n",
              "Name: Construction year, dtype: float64"
            ],
            "text/html": [
              "<div>\n",
              "<style scoped>\n",
              "    .dataframe tbody tr th:only-of-type {\n",
              "        vertical-align: middle;\n",
              "    }\n",
              "\n",
              "    .dataframe tbody tr th {\n",
              "        vertical-align: top;\n",
              "    }\n",
              "\n",
              "    .dataframe thead th {\n",
              "        text-align: right;\n",
              "    }\n",
              "</style>\n",
              "<table border=\"1\" class=\"dataframe\">\n",
              "  <thead>\n",
              "    <tr style=\"text-align: right;\">\n",
              "      <th></th>\n",
              "      <th>Construction year</th>\n",
              "    </tr>\n",
              "  </thead>\n",
              "  <tbody>\n",
              "    <tr>\n",
              "      <th>count</th>\n",
              "      <td>100975.000000</td>\n",
              "    </tr>\n",
              "    <tr>\n",
              "      <th>mean</th>\n",
              "      <td>2012.487002</td>\n",
              "    </tr>\n",
              "    <tr>\n",
              "      <th>std</th>\n",
              "      <td>5.765101</td>\n",
              "    </tr>\n",
              "    <tr>\n",
              "      <th>min</th>\n",
              "      <td>2003.000000</td>\n",
              "    </tr>\n",
              "    <tr>\n",
              "      <th>25%</th>\n",
              "      <td>2007.000000</td>\n",
              "    </tr>\n",
              "    <tr>\n",
              "      <th>50%</th>\n",
              "      <td>2012.000000</td>\n",
              "    </tr>\n",
              "    <tr>\n",
              "      <th>75%</th>\n",
              "      <td>2017.000000</td>\n",
              "    </tr>\n",
              "    <tr>\n",
              "      <th>max</th>\n",
              "      <td>2022.000000</td>\n",
              "    </tr>\n",
              "  </tbody>\n",
              "</table>\n",
              "</div><br><label><b>dtype:</b> float64</label>"
            ]
          },
          "metadata": {},
          "execution_count": 132
        }
      ]
    },
    {
      "cell_type": "code",
      "source": [
        "df['Construction year'].value_counts()"
      ],
      "metadata": {
        "colab": {
          "base_uri": "https://localhost:8080/",
          "height": 742
        },
        "id": "vjuvKrSSkYVt",
        "outputId": "0e3eecc5-9a5a-4d5b-d057-2fff004ad1ea"
      },
      "execution_count": null,
      "outputs": [
        {
          "output_type": "execute_result",
          "data": {
            "text/plain": [
              "Construction year\n",
              "2014.0    5176\n",
              "2008.0    5164\n",
              "2006.0    5143\n",
              "2019.0    5127\n",
              "2009.0    5100\n",
              "2005.0    5077\n",
              "2012.0    5072\n",
              "2020.0    5070\n",
              "2010.0    5063\n",
              "2022.0    5059\n",
              "2007.0    5046\n",
              "2015.0    5042\n",
              "2003.0    5042\n",
              "2017.0    5011\n",
              "2018.0    4994\n",
              "2021.0    4978\n",
              "2011.0    4972\n",
              "2004.0    4969\n",
              "2013.0    4944\n",
              "2016.0    4926\n",
              "Name: count, dtype: int64"
            ],
            "text/html": [
              "<div>\n",
              "<style scoped>\n",
              "    .dataframe tbody tr th:only-of-type {\n",
              "        vertical-align: middle;\n",
              "    }\n",
              "\n",
              "    .dataframe tbody tr th {\n",
              "        vertical-align: top;\n",
              "    }\n",
              "\n",
              "    .dataframe thead th {\n",
              "        text-align: right;\n",
              "    }\n",
              "</style>\n",
              "<table border=\"1\" class=\"dataframe\">\n",
              "  <thead>\n",
              "    <tr style=\"text-align: right;\">\n",
              "      <th></th>\n",
              "      <th>count</th>\n",
              "    </tr>\n",
              "    <tr>\n",
              "      <th>Construction year</th>\n",
              "      <th></th>\n",
              "    </tr>\n",
              "  </thead>\n",
              "  <tbody>\n",
              "    <tr>\n",
              "      <th>2014.0</th>\n",
              "      <td>5176</td>\n",
              "    </tr>\n",
              "    <tr>\n",
              "      <th>2008.0</th>\n",
              "      <td>5164</td>\n",
              "    </tr>\n",
              "    <tr>\n",
              "      <th>2006.0</th>\n",
              "      <td>5143</td>\n",
              "    </tr>\n",
              "    <tr>\n",
              "      <th>2019.0</th>\n",
              "      <td>5127</td>\n",
              "    </tr>\n",
              "    <tr>\n",
              "      <th>2009.0</th>\n",
              "      <td>5100</td>\n",
              "    </tr>\n",
              "    <tr>\n",
              "      <th>2005.0</th>\n",
              "      <td>5077</td>\n",
              "    </tr>\n",
              "    <tr>\n",
              "      <th>2012.0</th>\n",
              "      <td>5072</td>\n",
              "    </tr>\n",
              "    <tr>\n",
              "      <th>2020.0</th>\n",
              "      <td>5070</td>\n",
              "    </tr>\n",
              "    <tr>\n",
              "      <th>2010.0</th>\n",
              "      <td>5063</td>\n",
              "    </tr>\n",
              "    <tr>\n",
              "      <th>2022.0</th>\n",
              "      <td>5059</td>\n",
              "    </tr>\n",
              "    <tr>\n",
              "      <th>2007.0</th>\n",
              "      <td>5046</td>\n",
              "    </tr>\n",
              "    <tr>\n",
              "      <th>2015.0</th>\n",
              "      <td>5042</td>\n",
              "    </tr>\n",
              "    <tr>\n",
              "      <th>2003.0</th>\n",
              "      <td>5042</td>\n",
              "    </tr>\n",
              "    <tr>\n",
              "      <th>2017.0</th>\n",
              "      <td>5011</td>\n",
              "    </tr>\n",
              "    <tr>\n",
              "      <th>2018.0</th>\n",
              "      <td>4994</td>\n",
              "    </tr>\n",
              "    <tr>\n",
              "      <th>2021.0</th>\n",
              "      <td>4978</td>\n",
              "    </tr>\n",
              "    <tr>\n",
              "      <th>2011.0</th>\n",
              "      <td>4972</td>\n",
              "    </tr>\n",
              "    <tr>\n",
              "      <th>2004.0</th>\n",
              "      <td>4969</td>\n",
              "    </tr>\n",
              "    <tr>\n",
              "      <th>2013.0</th>\n",
              "      <td>4944</td>\n",
              "    </tr>\n",
              "    <tr>\n",
              "      <th>2016.0</th>\n",
              "      <td>4926</td>\n",
              "    </tr>\n",
              "  </tbody>\n",
              "</table>\n",
              "</div><br><label><b>dtype:</b> int64</label>"
            ]
          },
          "metadata": {},
          "execution_count": 133
        }
      ]
    },
    {
      "cell_type": "code",
      "source": [
        "\n",
        "stats.probplot(df['Construction year'], dist=\"norm\", plot=plt)\n",
        "plt.title('Q-Q Plot')\n",
        "plt.show()"
      ],
      "metadata": {
        "colab": {
          "base_uri": "https://localhost:8080/",
          "height": 472
        },
        "id": "u6Ok3aHdqm96",
        "outputId": "27af3fe0-fc22-4cea-a274-8ffab004921c"
      },
      "execution_count": null,
      "outputs": [
        {
          "output_type": "display_data",
          "data": {
            "text/plain": [
              "<Figure size 640x480 with 1 Axes>"
            ],
            "image/png": "[encoded data removed]"
          },
          "metadata": {}
        }
      ]
    },
    {
      "cell_type": "code",
      "source": [
        "Mode= df['Construction year'].mode()\n"
      ],
      "metadata": {
        "id": "pM51qHpPkYYo"
      },
      "execution_count": null,
      "outputs": []
    },
    {
      "cell_type": "code",
      "source": [
        "df['Construction year']=df['Construction year'].fillna(str(Mode))\n",
        "print(df['Construction year'].isna().sum())\n"
      ],
      "metadata": {
        "colab": {
          "base_uri": "https://localhost:8080/"
        },
        "id": "HmtvDr9okYbJ",
        "outputId": "b1d1f125-7f55-4a22-f85f-a8d4a2e3a282"
      },
      "execution_count": null,
      "outputs": [
        {
          "output_type": "stream",
          "name": "stdout",
          "text": [
            "0\n"
          ]
        }
      ]
    },
    {
      "cell_type": "markdown",
      "source": [
        "#service fee"
      ],
      "metadata": {
        "id": "GThNB2tsk2M2"
      }
    },
    {
      "cell_type": "code",
      "source": [
        "df['service fee'] .describe()"
      ],
      "metadata": {
        "colab": {
          "base_uri": "https://localhost:8080/",
          "height": 209
        },
        "id": "weae8UOtsFlR",
        "outputId": "fe6d0005-39db-4e37-ebcb-b23e2eeb5fb8"
      },
      "execution_count": null,
      "outputs": [
        {
          "output_type": "execute_result",
          "data": {
            "text/plain": [
              "count     100919\n",
              "unique       231\n",
              "top        $216 \n",
              "freq         520\n",
              "Name: service fee, dtype: object"
            ],
            "text/html": [
              "<div>\n",
              "<style scoped>\n",
              "    .dataframe tbody tr th:only-of-type {\n",
              "        vertical-align: middle;\n",
              "    }\n",
              "\n",
              "    .dataframe tbody tr th {\n",
              "        vertical-align: top;\n",
              "    }\n",
              "\n",
              "    .dataframe thead th {\n",
              "        text-align: right;\n",
              "    }\n",
              "</style>\n",
              "<table border=\"1\" class=\"dataframe\">\n",
              "  <thead>\n",
              "    <tr style=\"text-align: right;\">\n",
              "      <th></th>\n",
              "      <th>service fee</th>\n",
              "    </tr>\n",
              "  </thead>\n",
              "  <tbody>\n",
              "    <tr>\n",
              "      <th>count</th>\n",
              "      <td>100919</td>\n",
              "    </tr>\n",
              "    <tr>\n",
              "      <th>unique</th>\n",
              "      <td>231</td>\n",
              "    </tr>\n",
              "    <tr>\n",
              "      <th>top</th>\n",
              "      <td>$216</td>\n",
              "    </tr>\n",
              "    <tr>\n",
              "      <th>freq</th>\n",
              "      <td>520</td>\n",
              "    </tr>\n",
              "  </tbody>\n",
              "</table>\n",
              "</div><br><label><b>dtype:</b> object</label>"
            ]
          },
          "metadata": {},
          "execution_count": 137
        }
      ]
    },
    {
      "cell_type": "code",
      "source": [
        "# Convert column to string and clean non-numeric characters\n",
        "df['service fee'] = pd.to_numeric(\n",
        "    df['service fee'].astype(str).str.replace('[^\\d.]', '', regex=True), errors='coerce'\n",
        ")\n",
        "\n",
        "\n"
      ],
      "metadata": {
        "id": "I2gbloqtk7KX"
      },
      "execution_count": null,
      "outputs": []
    },
    {
      "cell_type": "code",
      "source": [
        "df['service fee'] .describe()"
      ],
      "metadata": {
        "colab": {
          "base_uri": "https://localhost:8080/",
          "height": 335
        },
        "id": "oz5QUFmssQGt",
        "outputId": "7d13f525-281d-438a-8bac-7684dc830c05"
      },
      "execution_count": null,
      "outputs": [
        {
          "output_type": "execute_result",
          "data": {
            "text/plain": [
              "count    100919.000000\n",
              "mean        124.993212\n",
              "std          66.323634\n",
              "min          10.000000\n",
              "25%          68.000000\n",
              "50%         125.000000\n",
              "75%         183.000000\n",
              "max         240.000000\n",
              "Name: service fee, dtype: float64"
            ],
            "text/html": [
              "<div>\n",
              "<style scoped>\n",
              "    .dataframe tbody tr th:only-of-type {\n",
              "        vertical-align: middle;\n",
              "    }\n",
              "\n",
              "    .dataframe tbody tr th {\n",
              "        vertical-align: top;\n",
              "    }\n",
              "\n",
              "    .dataframe thead th {\n",
              "        text-align: right;\n",
              "    }\n",
              "</style>\n",
              "<table border=\"1\" class=\"dataframe\">\n",
              "  <thead>\n",
              "    <tr style=\"text-align: right;\">\n",
              "      <th></th>\n",
              "      <th>service fee</th>\n",
              "    </tr>\n",
              "  </thead>\n",
              "  <tbody>\n",
              "    <tr>\n",
              "      <th>count</th>\n",
              "      <td>100919.000000</td>\n",
              "    </tr>\n",
              "    <tr>\n",
              "      <th>mean</th>\n",
              "      <td>124.993212</td>\n",
              "    </tr>\n",
              "    <tr>\n",
              "      <th>std</th>\n",
              "      <td>66.323634</td>\n",
              "    </tr>\n",
              "    <tr>\n",
              "      <th>min</th>\n",
              "      <td>10.000000</td>\n",
              "    </tr>\n",
              "    <tr>\n",
              "      <th>25%</th>\n",
              "      <td>68.000000</td>\n",
              "    </tr>\n",
              "    <tr>\n",
              "      <th>50%</th>\n",
              "      <td>125.000000</td>\n",
              "    </tr>\n",
              "    <tr>\n",
              "      <th>75%</th>\n",
              "      <td>183.000000</td>\n",
              "    </tr>\n",
              "    <tr>\n",
              "      <th>max</th>\n",
              "      <td>240.000000</td>\n",
              "    </tr>\n",
              "  </tbody>\n",
              "</table>\n",
              "</div><br><label><b>dtype:</b> float64</label>"
            ]
          },
          "metadata": {},
          "execution_count": 139
        }
      ]
    },
    {
      "cell_type": "code",
      "source": [
        "\n",
        "stats.probplot(df['service fee'], dist=\"norm\", plot=plt)\n",
        "plt.title('Q-Q Plot')\n",
        "plt.show()"
      ],
      "metadata": {
        "colab": {
          "base_uri": "https://localhost:8080/",
          "height": 472
        },
        "id": "9YjPkZ76sku_",
        "outputId": "7c3989dd-0376-437a-d20c-0812580fcf1c"
      },
      "execution_count": null,
      "outputs": [
        {
          "output_type": "display_data",
          "data": {
            "text/plain": [
              "<Figure size 640x480 with 1 Axes>"
            ],
            "image/png": "[encoded data removed]"
          },
          "metadata": {}
        }
      ]
    },
    {
      "cell_type": "code",
      "source": [
        "# Calculate the median\n",
        "median_service_fee = df['service fee'].median()\n",
        "\n",
        "print(f\"Median Service Fee: {median_service_fee}\")\n",
        "df['service fee']=df['service fee'].fillna(median_service_fee)\n"
      ],
      "metadata": {
        "id": "zO8cj4gBk7NM",
        "colab": {
          "base_uri": "https://localhost:8080/"
        },
        "outputId": "f5280877-456d-4460-e547-eaadf41e6b0e"
      },
      "execution_count": null,
      "outputs": [
        {
          "output_type": "stream",
          "name": "stdout",
          "text": [
            "Median Service Fee: 125.0\n"
          ]
        }
      ]
    },
    {
      "cell_type": "code",
      "source": [],
      "metadata": {
        "id": "Xp1_INTxsPi0"
      },
      "execution_count": null,
      "outputs": []
    },
    {
      "cell_type": "markdown",
      "source": [
        "#calculated host listings count\n"
      ],
      "metadata": {
        "id": "8tDHscKOmuzx"
      }
    },
    {
      "cell_type": "code",
      "source": [
        "df['calculated host listings count'].describe()"
      ],
      "metadata": {
        "colab": {
          "base_uri": "https://localhost:8080/",
          "height": 335
        },
        "id": "hcT_4f0-k7Pv",
        "outputId": "f28fda72-1347-4688-bc49-436ccd651489"
      },
      "execution_count": null,
      "outputs": [
        {
          "output_type": "execute_result",
          "data": {
            "text/plain": [
              "count    100872.000000\n",
              "mean          7.997333\n",
              "std          32.423112\n",
              "min           1.000000\n",
              "25%           1.000000\n",
              "50%           1.000000\n",
              "75%           2.000000\n",
              "max         332.000000\n",
              "Name: calculated host listings count, dtype: float64"
            ],
            "text/html": [
              "<div>\n",
              "<style scoped>\n",
              "    .dataframe tbody tr th:only-of-type {\n",
              "        vertical-align: middle;\n",
              "    }\n",
              "\n",
              "    .dataframe tbody tr th {\n",
              "        vertical-align: top;\n",
              "    }\n",
              "\n",
              "    .dataframe thead th {\n",
              "        text-align: right;\n",
              "    }\n",
              "</style>\n",
              "<table border=\"1\" class=\"dataframe\">\n",
              "  <thead>\n",
              "    <tr style=\"text-align: right;\">\n",
              "      <th></th>\n",
              "      <th>calculated host listings count</th>\n",
              "    </tr>\n",
              "  </thead>\n",
              "  <tbody>\n",
              "    <tr>\n",
              "      <th>count</th>\n",
              "      <td>100872.000000</td>\n",
              "    </tr>\n",
              "    <tr>\n",
              "      <th>mean</th>\n",
              "      <td>7.997333</td>\n",
              "    </tr>\n",
              "    <tr>\n",
              "      <th>std</th>\n",
              "      <td>32.423112</td>\n",
              "    </tr>\n",
              "    <tr>\n",
              "      <th>min</th>\n",
              "      <td>1.000000</td>\n",
              "    </tr>\n",
              "    <tr>\n",
              "      <th>25%</th>\n",
              "      <td>1.000000</td>\n",
              "    </tr>\n",
              "    <tr>\n",
              "      <th>50%</th>\n",
              "      <td>1.000000</td>\n",
              "    </tr>\n",
              "    <tr>\n",
              "      <th>75%</th>\n",
              "      <td>2.000000</td>\n",
              "    </tr>\n",
              "    <tr>\n",
              "      <th>max</th>\n",
              "      <td>332.000000</td>\n",
              "    </tr>\n",
              "  </tbody>\n",
              "</table>\n",
              "</div><br><label><b>dtype:</b> float64</label>"
            ]
          },
          "metadata": {},
          "execution_count": 142
        }
      ]
    },
    {
      "cell_type": "code",
      "source": [
        "\n",
        "\n",
        "sns.boxplot(x=df['calculated host listings count'])\n",
        "plt.title('Box Plot of calculated host listings count')\n",
        "plt.show()\n"
      ],
      "metadata": {
        "colab": {
          "base_uri": "https://localhost:8080/",
          "height": 472
        },
        "id": "JPDMQpyfs9aE",
        "outputId": "7685cfe1-f077-46a4-a68b-e1bb5aaba311"
      },
      "execution_count": null,
      "outputs": [
        {
          "output_type": "display_data",
          "data": {
            "text/plain": [
              "<Figure size 640x480 with 1 Axes>"
            ],
            "image/png": "[encoded data removed]"
          },
          "metadata": {}
        }
      ]
    },
    {
      "cell_type": "code",
      "source": [
        "count = df[df['calculated host listings count'] == 332]['calculated host listings count'].count()\n",
        "print(f\"The value  332 appears {count} times in the 'calculated host listings count' column.\")\n"
      ],
      "metadata": {
        "colab": {
          "base_uri": "https://localhost:8080/"
        },
        "id": "WsA7rzHknNSd",
        "outputId": "9059ac08-103d-4290-e6ff-498b96fd82aa"
      },
      "execution_count": null,
      "outputs": [
        {
          "output_type": "stream",
          "name": "stdout",
          "text": [
            "The value  332 appears 41 times in the 'calculated host listings count' column.\n"
          ]
        }
      ]
    },
    {
      "cell_type": "code",
      "source": [
        "df['calculated host listings count']=df['calculated host listings count'].fillna(df['calculated host listings count'].mean())\n"
      ],
      "metadata": {
        "id": "tTGpxWpxnFiB"
      },
      "execution_count": null,
      "outputs": []
    },
    {
      "cell_type": "markdown",
      "source": [
        "#instant_bookable"
      ],
      "metadata": {
        "id": "ZPI720i5pBot"
      }
    },
    {
      "cell_type": "code",
      "source": [
        "df['instant_bookable'].describe()"
      ],
      "metadata": {
        "colab": {
          "base_uri": "https://localhost:8080/",
          "height": 209
        },
        "id": "_fQX8f4mpGeO",
        "outputId": "cff4daf5-ad22-417d-b328-cdb6a497b0d7"
      },
      "execution_count": null,
      "outputs": [
        {
          "output_type": "execute_result",
          "data": {
            "text/plain": [
              "count     101083\n",
              "unique         2\n",
              "top        False\n",
              "freq       50755\n",
              "Name: instant_bookable, dtype: object"
            ],
            "text/html": [
              "<div>\n",
              "<style scoped>\n",
              "    .dataframe tbody tr th:only-of-type {\n",
              "        vertical-align: middle;\n",
              "    }\n",
              "\n",
              "    .dataframe tbody tr th {\n",
              "        vertical-align: top;\n",
              "    }\n",
              "\n",
              "    .dataframe thead th {\n",
              "        text-align: right;\n",
              "    }\n",
              "</style>\n",
              "<table border=\"1\" class=\"dataframe\">\n",
              "  <thead>\n",
              "    <tr style=\"text-align: right;\">\n",
              "      <th></th>\n",
              "      <th>instant_bookable</th>\n",
              "    </tr>\n",
              "  </thead>\n",
              "  <tbody>\n",
              "    <tr>\n",
              "      <th>count</th>\n",
              "      <td>101083</td>\n",
              "    </tr>\n",
              "    <tr>\n",
              "      <th>unique</th>\n",
              "      <td>2</td>\n",
              "    </tr>\n",
              "    <tr>\n",
              "      <th>top</th>\n",
              "      <td>False</td>\n",
              "    </tr>\n",
              "    <tr>\n",
              "      <th>freq</th>\n",
              "      <td>50755</td>\n",
              "    </tr>\n",
              "  </tbody>\n",
              "</table>\n",
              "</div><br><label><b>dtype:</b> object</label>"
            ]
          },
          "metadata": {},
          "execution_count": 146
        }
      ]
    },
    {
      "cell_type": "code",
      "source": [
        "df['instant_bookable'] = df['instant_bookable'].astype(bool)\n",
        "\n",
        "df['instant_bookable']=df['instant_bookable'].fillna(False)\n"
      ],
      "metadata": {
        "id": "i1NV7rX6pGn9"
      },
      "execution_count": null,
      "outputs": []
    },
    {
      "cell_type": "code",
      "source": [
        "df['instant_bookable'].describe()"
      ],
      "metadata": {
        "colab": {
          "base_uri": "https://localhost:8080/",
          "height": 209
        },
        "id": "43yebUoLpYDV",
        "outputId": "0b0797c8-3fc8-4e44-e81c-e0d21c6e270c"
      },
      "execution_count": null,
      "outputs": [
        {
          "output_type": "execute_result",
          "data": {
            "text/plain": [
              "count     101188\n",
              "unique         2\n",
              "top        False\n",
              "freq       50755\n",
              "Name: instant_bookable, dtype: object"
            ],
            "text/html": [
              "<div>\n",
              "<style scoped>\n",
              "    .dataframe tbody tr th:only-of-type {\n",
              "        vertical-align: middle;\n",
              "    }\n",
              "\n",
              "    .dataframe tbody tr th {\n",
              "        vertical-align: top;\n",
              "    }\n",
              "\n",
              "    .dataframe thead th {\n",
              "        text-align: right;\n",
              "    }\n",
              "</style>\n",
              "<table border=\"1\" class=\"dataframe\">\n",
              "  <thead>\n",
              "    <tr style=\"text-align: right;\">\n",
              "      <th></th>\n",
              "      <th>instant_bookable</th>\n",
              "    </tr>\n",
              "  </thead>\n",
              "  <tbody>\n",
              "    <tr>\n",
              "      <th>count</th>\n",
              "      <td>101188</td>\n",
              "    </tr>\n",
              "    <tr>\n",
              "      <th>unique</th>\n",
              "      <td>2</td>\n",
              "    </tr>\n",
              "    <tr>\n",
              "      <th>top</th>\n",
              "      <td>False</td>\n",
              "    </tr>\n",
              "    <tr>\n",
              "      <th>freq</th>\n",
              "      <td>50755</td>\n",
              "    </tr>\n",
              "  </tbody>\n",
              "</table>\n",
              "</div><br><label><b>dtype:</b> object</label>"
            ]
          },
          "metadata": {},
          "execution_count": 148
        }
      ]
    },
    {
      "cell_type": "markdown",
      "source": [
        "#check  data after cleaning"
      ],
      "metadata": {
        "id": "s_D-gZeHpxW0"
      }
    },
    {
      "cell_type": "code",
      "source": [
        "df.info()"
      ],
      "metadata": {
        "colab": {
          "base_uri": "https://localhost:8080/"
        },
        "id": "2u4uSHh7UJ0T",
        "outputId": "461e8d4c-3781-48f4-d7e0-ac4fa5042739"
      },
      "execution_count": null,
      "outputs": [
        {
          "output_type": "stream",
          "name": "stdout",
          "text": [
            "<class 'pandas.core.frame.DataFrame'>\n",
            "Index: 101188 entries, 0 to 102598\n",
            "Data columns (total 20 columns):\n",
            " #   Column                          Non-Null Count   Dtype  \n",
            "---  ------                          --------------   -----  \n",
            " 0   NAME                            101188 non-null  object \n",
            " 1   host id                         101188 non-null  int64  \n",
            " 2   host_identity_verified          101188 non-null  object \n",
            " 3   host name                       101188 non-null  object \n",
            " 4   neighbourhood group             101188 non-null  object \n",
            " 5   neighbourhood                   101188 non-null  object \n",
            " 6   country                         101188 non-null  object \n",
            " 7   country code                    101188 non-null  object \n",
            " 8   instant_bookable                101188 non-null  bool   \n",
            " 9   cancellation_policy             101188 non-null  object \n",
            " 10  room type                       101188 non-null  object \n",
            " 11  Construction year               101188 non-null  object \n",
            " 12  price                           101188 non-null  float64\n",
            " 13  service fee                     101188 non-null  float64\n",
            " 14  minimum nights                  101188 non-null  float64\n",
            " 15  number of reviews               101188 non-null  float64\n",
            " 16  review rate number              101188 non-null  float64\n",
            " 17  calculated host listings count  101188 non-null  float64\n",
            " 18  availability 365                101188 non-null  float64\n",
            " 19  reviews per month               101188 non-null  float64\n",
            "dtypes: bool(1), float64(8), int64(1), object(10)\n",
            "memory usage: 15.5+ MB\n"
          ]
        }
      ]
    },
    {
      "cell_type": "code",
      "source": [
        "df.isna().sum()"
      ],
      "metadata": {
        "colab": {
          "base_uri": "https://localhost:8080/",
          "height": 711
        },
        "id": "nEsAiXHFchLz",
        "outputId": "8ba2a99b-d425-430f-e0de-d4d0ecaf5ea2"
      },
      "execution_count": null,
      "outputs": [
        {
          "output_type": "execute_result",
          "data": {
            "text/plain": [
              "NAME                              0\n",
              "host id                           0\n",
              "host_identity_verified            0\n",
              "host name                         0\n",
              "neighbourhood group               0\n",
              "neighbourhood                     0\n",
              "country                           0\n",
              "country code                      0\n",
              "instant_bookable                  0\n",
              "cancellation_policy               0\n",
              "room type                         0\n",
              "Construction year                 0\n",
              "price                             0\n",
              "service fee                       0\n",
              "minimum nights                    0\n",
              "number of reviews                 0\n",
              "review rate number                0\n",
              "calculated host listings count    0\n",
              "availability 365                  0\n",
              "reviews per month                 0\n",
              "dtype: int64"
            ],
            "text/html": [
              "<div>\n",
              "<style scoped>\n",
              "    .dataframe tbody tr th:only-of-type {\n",
              "        vertical-align: middle;\n",
              "    }\n",
              "\n",
              "    .dataframe tbody tr th {\n",
              "        vertical-align: top;\n",
              "    }\n",
              "\n",
              "    .dataframe thead th {\n",
              "        text-align: right;\n",
              "    }\n",
              "</style>\n",
              "<table border=\"1\" class=\"dataframe\">\n",
              "  <thead>\n",
              "    <tr style=\"text-align: right;\">\n",
              "      <th></th>\n",
              "      <th>0</th>\n",
              "    </tr>\n",
              "  </thead>\n",
              "  <tbody>\n",
              "    <tr>\n",
              "      <th>NAME</th>\n",
              "      <td>0</td>\n",
              "    </tr>\n",
              "    <tr>\n",
              "      <th>host id</th>\n",
              "      <td>0</td>\n",
              "    </tr>\n",
              "    <tr>\n",
              "      <th>host_identity_verified</th>\n",
              "      <td>0</td>\n",
              "    </tr>\n",
              "    <tr>\n",
              "      <th>host name</th>\n",
              "      <td>0</td>\n",
              "    </tr>\n",
              "    <tr>\n",
              "      <th>neighbourhood group</th>\n",
              "      <td>0</td>\n",
              "    </tr>\n",
              "    <tr>\n",
              "      <th>neighbourhood</th>\n",
              "      <td>0</td>\n",
              "    </tr>\n",
              "    <tr>\n",
              "      <th>country</th>\n",
              "      <td>0</td>\n",
              "    </tr>\n",
              "    <tr>\n",
              "      <th>country code</th>\n",
              "      <td>0</td>\n",
              "    </tr>\n",
              "    <tr>\n",
              "      <th>instant_bookable</th>\n",
              "      <td>0</td>\n",
              "    </tr>\n",
              "    <tr>\n",
              "      <th>cancellation_policy</th>\n",
              "      <td>0</td>\n",
              "    </tr>\n",
              "    <tr>\n",
              "      <th>room type</th>\n",
              "      <td>0</td>\n",
              "    </tr>\n",
              "    <tr>\n",
              "      <th>Construction year</th>\n",
              "      <td>0</td>\n",
              "    </tr>\n",
              "    <tr>\n",
              "      <th>price</th>\n",
              "      <td>0</td>\n",
              "    </tr>\n",
              "    <tr>\n",
              "      <th>service fee</th>\n",
              "      <td>0</td>\n",
              "    </tr>\n",
              "    <tr>\n",
              "      <th>minimum nights</th>\n",
              "      <td>0</td>\n",
              "    </tr>\n",
              "    <tr>\n",
              "      <th>number of reviews</th>\n",
              "      <td>0</td>\n",
              "    </tr>\n",
              "    <tr>\n",
              "      <th>review rate number</th>\n",
              "      <td>0</td>\n",
              "    </tr>\n",
              "    <tr>\n",
              "      <th>calculated host listings count</th>\n",
              "      <td>0</td>\n",
              "    </tr>\n",
              "    <tr>\n",
              "      <th>availability 365</th>\n",
              "      <td>0</td>\n",
              "    </tr>\n",
              "    <tr>\n",
              "      <th>reviews per month</th>\n",
              "      <td>0</td>\n",
              "    </tr>\n",
              "  </tbody>\n",
              "</table>\n",
              "</div><br><label><b>dtype:</b> int64</label>"
            ]
          },
          "metadata": {},
          "execution_count": 150
        }
      ]
    },
    {
      "cell_type": "markdown",
      "source": [
        "\n"
      ],
      "metadata": {
        "id": "jstKbD9Nmlzh"
      }
    },
    {
      "cell_type": "code",
      "source": [
        "# Select only numeric columns\n",
        "df_numeric = df.select_dtypes(include=['number'])\n",
        "\n",
        "# Handle missing values if necessary\n",
        "\n",
        "# Calculate the correlation matrix\n",
        "correlation_matrix = df_numeric.corr()\n",
        "\n",
        "# Print the correlation matrix for inspection\n",
        "print(correlation_matrix)\n",
        "\n",
        "# Visualize the correlation matrix using a heatmap\n",
        "plt.figure(figsize=(12, 10))\n",
        "sns.heatmap(correlation_matrix, annot=True, cmap='coolwarm', fmt=\".2f\")\n",
        "plt.title('Correlation Matrix Heatmap')\n",
        "plt.show()\n"
      ],
      "metadata": {
        "colab": {
          "base_uri": "https://localhost:8080/",
          "height": 1000
        },
        "id": "GCzU3d4schQE",
        "outputId": "77bcd7d2-1a9c-4878-ad72-880b73a1d8d7"
      },
      "execution_count": null,
      "outputs": [
        {
          "output_type": "stream",
          "name": "stdout",
          "text": [
            "                                 host id     price  service fee  \\\n",
            "host id                         1.000000  0.003411     0.003212   \n",
            "price                           0.003411  1.000000     0.997841   \n",
            "service fee                     0.003212  0.997841     1.000000   \n",
            "minimum nights                 -0.001422 -0.002151    -0.002337   \n",
            "number of reviews              -0.002643  0.006017     0.005910   \n",
            "review rate number              0.003558 -0.005173    -0.004983   \n",
            "calculated host listings count  0.001543 -0.000111     0.000032   \n",
            "availability 365               -0.001823 -0.003889    -0.004245   \n",
            "reviews per month              -0.002672  0.003496     0.003507   \n",
            "\n",
            "                                minimum nights  number of reviews  \\\n",
            "host id                              -0.001422          -0.002643   \n",
            "price                                -0.002151           0.006017   \n",
            "service fee                          -0.002337           0.005910   \n",
            "minimum nights                        1.000000          -0.047775   \n",
            "number of reviews                    -0.047775           1.000000   \n",
            "review rate number                   -0.002600          -0.018724   \n",
            "calculated host listings count        0.084063          -0.084813   \n",
            "availability 365                      0.060812           0.097656   \n",
            "reviews per month                    -0.085976           0.565886   \n",
            "\n",
            "                                review rate number  \\\n",
            "host id                                   0.003558   \n",
            "price                                    -0.005173   \n",
            "service fee                              -0.004983   \n",
            "minimum nights                           -0.002600   \n",
            "number of reviews                        -0.018724   \n",
            "review rate number                        1.000000   \n",
            "calculated host listings count            0.024426   \n",
            "availability 365                         -0.005717   \n",
            "reviews per month                         0.034880   \n",
            "\n",
            "                                calculated host listings count  \\\n",
            "host id                                               0.001543   \n",
            "price                                                -0.000111   \n",
            "service fee                                           0.000032   \n",
            "minimum nights                                        0.084063   \n",
            "number of reviews                                    -0.084813   \n",
            "review rate number                                    0.024426   \n",
            "calculated host listings count                        1.000000   \n",
            "availability 365                                      0.160638   \n",
            "reviews per month                                    -0.018757   \n",
            "\n",
            "                                availability 365  reviews per month  \n",
            "host id                                -0.001823          -0.002672  \n",
            "price                                  -0.003889           0.003496  \n",
            "service fee                            -0.004245           0.003507  \n",
            "minimum nights                          0.060812          -0.085976  \n",
            "number of reviews                       0.097656           0.565886  \n",
            "review rate number                     -0.005717           0.034880  \n",
            "calculated host listings count          0.160638          -0.018757  \n",
            "availability 365                        1.000000           0.072097  \n",
            "reviews per month                       0.072097           1.000000  \n"
          ]
        },
        {
          "output_type": "display_data",
          "data": {
            "text/plain": [
              "<Figure size 1200x1000 with 2 Axes>"
            ],
            "image/png": "[encoded data removed]"
          },
          "metadata": {}
        }
      ]
    },
    {
      "cell_type": "code",
      "source": [
        "\n",
        "# Save the DataFrame to a new CSV file\n",
        "df.to_csv('cleaned_airbnb_data.csv', index=False)"
      ],
      "metadata": {
        "id": "bK49JnVzchSS"
      },
      "execution_count": null,
      "outputs": []
    },
    {
      "cell_type": "markdown",
      "source": [],
      "metadata": {
        "id": "GFq2sP3qmQh_"
      }
    },
    {
      "cell_type": "markdown",
      "source": [],
      "metadata": {
        "id": "iftvSV8ETpNT"
      }
    }
  ]
}